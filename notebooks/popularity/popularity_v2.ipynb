{
 "cells": [
  {
   "cell_type": "code",
   "execution_count": 5,
   "metadata": {},
   "outputs": [],
   "source": [
    "import pandas as pd\n",
    "from pathlib import Path\n",
    "import numpy as np\n",
    "from sklearn.model_selection import train_test_split\n",
    "from kmodes.kmodes import KModes\n",
    "import matplotlib.pyplot as plt\n",
    "from sklearn.preprocessing import LabelEncoder\n",
    "import skfuzzy as fuzz\n",
    "from sklearn.metrics import fowlkes_mallows_score\n",
    "import math"
   ]
  },
  {
   "cell_type": "markdown",
   "metadata": {},
   "source": [
    "# wczytanie danych"
   ]
  },
  {
   "cell_type": "code",
   "execution_count": 38,
   "metadata": {},
   "outputs": [
    {
     "name": "stdout",
     "output_type": "stream",
     "text": [
      "Init: initializing centroids\n",
      "Init: initializing clusters\n",
      "Starting iterations...\n",
      "Run 1, iteration: 1/100, moves: 37, cost: 1213.0\n",
      "Init: initializing centroids\n",
      "Init: initializing clusters\n",
      "Starting iterations...\n",
      "Run 2, iteration: 1/100, moves: 76, cost: 1191.0\n",
      "Run 2, iteration: 2/100, moves: 5, cost: 1191.0\n",
      "Init: initializing centroids\n",
      "Init: initializing clusters\n",
      "Starting iterations...\n",
      "Run 3, iteration: 1/100, moves: 13, cost: 1199.0\n",
      "Init: initializing centroids\n",
      "Init: initializing clusters\n",
      "Starting iterations...\n",
      "Run 4, iteration: 1/100, moves: 4, cost: 1254.0\n",
      "Init: initializing centroids\n",
      "Init: initializing clusters\n",
      "Starting iterations...\n",
      "Run 5, iteration: 1/100, moves: 319, cost: 1145.0\n",
      "Run 5, iteration: 2/100, moves: 26, cost: 1145.0\n",
      "Best run was number 5\n"
     ]
    }
   ],
   "source": [
    "pd.options.display.max_rows = 6\n",
    "\n",
    "ratings = pd.read_csv(Path('..','..','res','data','ratings.csv'))\n",
    "users = pd.read_csv(Path('..','..','res','data','users.csv'))\n",
    "movies = pd.read_csv(Path('..','..','res','data','movies.csv'))\n",
    "\n",
    "\n",
    "# zmiana napisów na liczby\n",
    "label_encoder = LabelEncoder()\n",
    "users['gender'] = label_encoder.fit_transform(users['gender'])\n",
    "users['occupation'] = label_encoder.fit_transform(users['occupation'])\n",
    "\n",
    "\n",
    "matrix = ratings.pivot(index='user_id', columns='movie_id', values='rating')\n",
    "matrix = matrix.fillna(0)\n",
    "\n",
    "train_set, test_set = train_test_split(matrix, test_size=0.2)#, random_state=42)\n",
    "\n",
    "users_train = users[~users['user_id'].isin(test_set.index.to_list())]\n",
    "users_test = users[users['user_id'].isin(test_set.index.to_list())]\n",
    "\n",
    "items_train = ratings[~ratings['user_id'].isin(test_set.index.to_list())]\n",
    "#jeżeli jakiś przedmiot wpadnie tylko do zbioru testowego to \"wypada\" z dalszych analiz\n",
    "#ponieważ ma przed wejściem zimnych userów sume ratingów = 0, więc zgodnie z moją metodą\n",
    "#nie zostanie zarekomendowany w topN filmów\n",
    "items_test = ratings[ratings['user_id'].isin(test_set.index.to_list())]\n",
    "\n",
    "train_set.to_csv(Path('..','..','outputs','train_set.csv'), index = False)\n",
    "test_set.to_csv(Path('..','..','outputs','test_set.csv'), index = False)\n",
    "\n",
    "all_users_clustered = users_train_clusters = cluster_users(users_train.copy(), users_test.copy())\n",
    "users_train_clustered = all_users_clustered[1]\n",
    "users_test_clustered = all_users_clustered[0]\n",
    "#items_clustered = cluster_items(items_train)\n",
    "#items_clustered.to_csv(Path('..','..','outputs','items_clustered3.csv'), index=False)\n",
    "items_clustered = items_train.copy()\n",
    "items_clustered['cluster'] = 1\n"
   ]
  },
  {
   "cell_type": "code",
   "execution_count": 7,
   "metadata": {},
   "outputs": [
    {
     "data": {
      "text/plain": [
       "'cluster_items_3cols = cluster_items2(items_test)'"
      ]
     },
     "execution_count": 7,
     "metadata": {},
     "output_type": "execute_result"
    }
   ],
   "source": [
    "def cluster_items(items_info):\n",
    "    data_to_cluster = items_info['rating'].to_numpy()\n",
    "    data_to_cluster = data_to_cluster.reshape(-1,1)\n",
    "    K_FCM = 100\n",
    "    cntr, u, u0, d, jm, p, fpc = fuzz.cluster.cmeans(data_to_cluster.T, K_FCM, 2, error=0.005, maxiter=1000)\n",
    "    clusters = np.argmax(u, axis=0)\n",
    "    items_info['cluster'] = clusters\n",
    "    return(items_info)\n",
    "\n",
    "\n",
    "def cluster_items2(items_info):\n",
    "    data_to_cluster = items_info[['rating', 'user_id', 'movie_id']].to_numpy()\n",
    "    print(items_info.shape, data_to_cluster.shape)\n",
    "    data_to_cluster = data_to_cluster.reshape(-1,3)\n",
    "    print(data_to_cluster.shape)\n",
    "    K_FCM = 100\n",
    "    cntr, u, u0, d, jm, p, fpc = fuzz.cluster.cmeans(data_to_cluster.T, K_FCM, 2, error=0.005, maxiter=1000)\n",
    "    clusters = np.argmax(u, axis=0)\n",
    "    print(len(clusters))\n",
    "    items_info['cluster'] = clusters\n",
    "    return(items_info)\n",
    "\n",
    "\"\"\"cluster_items_3cols = cluster_items2(items_test)\"\"\""
   ]
  },
  {
   "cell_type": "code",
   "execution_count": 21,
   "metadata": {},
   "outputs": [],
   "source": [
    "def cluster_users(users_info, test_users_info):\n",
    "    data_to_cluseter = users_info[['age','gender','occupation']]\n",
    "    kmode = KModes(n_clusters=5, init = \"random\", n_init = 5, verbose=1, random_state=42) \n",
    "    clusters = kmode.fit_predict(data_to_cluseter) \n",
    "    users_info['cluster'] = clusters\n",
    "    data_to_cluster_test = test_users_info[['age','gender','occupation']]\n",
    "    test_clusters = kmode.predict(data_to_cluster_test)\n",
    "    test_users_info['cluster'] = test_clusters\n",
    "    return(users_info, test_users_info)"
   ]
  },
  {
   "cell_type": "code",
   "execution_count": 39,
   "metadata": {},
   "outputs": [
    {
     "name": "stdout",
     "output_type": "stream",
     "text": [
      "1\n"
     ]
    }
   ],
   "source": [
    "def IP(train_matrix, items_clustered):\n",
    "\n",
    "    train_numpy = train_matrix.to_numpy()\n",
    "    \n",
    "    #szukanie IPmax\n",
    "    IP = np.sum(train_numpy, axis = 0) #sumowanie po kolumnach\n",
    "    IP = IP.reshape(1,-1)\n",
    "    IPmax = np.amax(IP)\n",
    "    IPmax_coordinates = np.argmax(IP) + 1 #bo filmy mają indeksy od 1\n",
    "    item_rating = pd.DataFrame({'rating':IP[0], 'movie_id': train_matrix.columns.to_list()})\n",
    "    \n",
    "    #znalezienie filmu o najwyższym IP\n",
    "    IPmax_movie_id = item_rating[item_rating['rating'] == IPmax]['movie_id'].values[0]\n",
    "    \n",
    "    #znalezienie clustra, gdzie znajduje się ten film i pozostałych należących tu filmów\n",
    "    IPmax_cluster = items_clustered[items_clustered['movie_id'] == IPmax_movie_id].iloc[0,4]\n",
    "    max_clust_movies = items_clustered[items_clustered['cluster'] == IPmax_cluster]['movie_id'].to_list()\n",
    "    max_clust_movies = list(set(max_clust_movies))\n",
    "\n",
    "    #obliczenie IP^\n",
    "    IP_dash = IP[:,np.array(max_clust_movies) - 1] / IPmax\n",
    "    \n",
    "    return(IP_dash, max_clust_movies)\n",
    "\n",
    "IP_dash_movies = IP(train_set, items_clustered)\n",
    "IP_dashhhh = IP_dash_movies[0]\n",
    "IP_moviesss = IP_dash_movies[1]"
   ]
  },
  {
   "cell_type": "code",
   "execution_count": 10,
   "metadata": {},
   "outputs": [
    {
     "data": {
      "text/plain": [
       "'UP_HP(train_set, test_set, us_te_cl, us_tr_cl, 1, IP_dashhhh, 0.5, IP_moviesss, ratings_matrix)'"
      ]
     },
     "execution_count": 10,
     "metadata": {},
     "output_type": "execute_result"
    }
   ],
   "source": [
    "#def UP_HP(train_test_set, cluster, clust_data, IP_dash, alpha, selected_movies, ratings_matrix):\n",
    "def UP_HP(train_matrix, test_matrix, test_users_cl, train_users_cl, cluster, IP_dash, alpha, selected_movies, ratings_matrix):    \n",
    "    \n",
    "    #utworzenie macierzy, gdzie ratingi dane przez testowych są zerami\n",
    "    test_set_zero = test_matrix.copy()\n",
    "    test_set_zero[:] = 0 \n",
    "    train_and_test = pd.concat([train_matrix, test_set_zero], ignore_index=False)\n",
    "    train_and_test = train_and_test.sort_index()\n",
    "    \n",
    "    concated_users_clustered = pd.concat([train_users_cl,test_users_cl], ignore_index=True).sort_values('user_id')\n",
    "\n",
    "    #znalezienie użytkowników w danym clustrze\n",
    "    users_in_cluster = concated_users_clustered[concated_users_clustered['cluster'] == cluster]['user_id'].to_list()\n",
    "    users_in_cluster = list(set(users_in_cluster))\n",
    "    \n",
    "    #macierz ratingów tylko dla tych userów i filmów z clustra z IPmax\n",
    "    ratings_matrix_cluster = train_and_test.loc[train_and_test.index.isin(users_in_cluster),selected_movies].sort_index()\n",
    "    ratings_matrix_cluster_np = ratings_matrix_cluster.to_numpy()\n",
    "\n",
    "    #obliczanie user popularity\n",
    "    UP = np.sum(ratings_matrix_cluster_np, axis=1) ##sumowanie po wierszach\n",
    "    UP = UP.reshape(-1,1)\n",
    "    UPmax = np.amax(UP)\n",
    "    UPmax_coordinates = np.argmax(UP)\n",
    "    UP_dash = UP / UPmax\n",
    "    \n",
    "    # obliczenie UIP i hybrydy\n",
    "    UIP = UP_dash / IP_dash\n",
    "    #wstawienie zer tam gdzie w rzeczywistości uzytkownik treningowy nie ocenił danego filmu\n",
    "    UIP = np.where(ratings_matrix_cluster == 0, 0, UIP)\n",
    "    HP = alpha * IP_dash + (1-alpha) * np.sum(UIP,axis = 0).reshape(1,-1)\n",
    "    return(HP)\n",
    "    #return np.sum(pd.DataFrame(UIP, index=ratings_matrix_cluster.index, columns=ratings_matrix_cluster.columns).loc[243,9])\n",
    "\n",
    "\"\"\"test_set_zero = test_set.copy()\n",
    "test_set_zero[:] = 0\n",
    "concated_users_clustered = pd.concat([us_tr_cl,us_te_cl], ignore_index=True).sort_values('user_id')\n",
    "train_and_test = pd.concat([train_set, test_set_zero], ignore_index=False)\n",
    "train_and_test = train_and_test.sort_index()\"\"\"\n",
    "\n",
    "\"\"\"UP_HP(train_set, test_set, us_te_cl, us_tr_cl, 1, IP_dashhhh, 0.5, IP_moviesss, ratings_matrix)\"\"\""
   ]
  },
  {
   "cell_type": "code",
   "execution_count": 11,
   "metadata": {},
   "outputs": [
    {
     "data": {
      "text/plain": [
       "'z = HP_for_clust(test_matrix, train_matrix, 0.5, ratings_matrix, us_te_cl, us_tr_cl, items_clusters)\\nlen(z[0][1][0]) #długość movies_from_max_cluster\\nz[0][1][1][-3] #3 od konca wartość z HP'"
      ]
     },
     "execution_count": 11,
     "metadata": {},
     "output_type": "execute_result"
    }
   ],
   "source": [
    "def HP_for_clust(test_matrix, train_matrix, alpha, ratings_matrix, test_users_cl, train_users_cl, items_cl):\n",
    "    \n",
    "    #zapewnienie prawdiłowej kolejnosci wierszy i kolumn\n",
    "    train_matrix = train_matrix.sort_index()\n",
    "    test_matrix = test_matrix.sort_index()\n",
    "    \n",
    "    #podział na clustry\n",
    "    #users_clustered = cluster_users(users_train.copy())\n",
    "    #items_clustered = cluster_items(items_train.copy())\n",
    "    \n",
    "    \"\"\"users_clustered = pd.read_csv(Path('..','..','outputs','users_train_clustered.csv'))\n",
    "    #items_clustered = pd.read_csv(Path('..','..','outputs','items_train_clustered.csv'))\n",
    "    users_clustered['cluster'] = 1\n",
    "    #przypisanie nowych użytkowników do clustrów\n",
    "    kmode = KModes(n_clusters=5, init = \"random\", n_init = 5, random_state = 42)#verbose=1, random_state=42) \n",
    "    train_clusters = kmode.fit_predict(users_train)\n",
    "    test_users_clusters = kmode.predict(users_test)\n",
    "    test_users_clustered = users_test.copy() ##OCEŃ CZY KOPIOWANIE JEST KONIECZNE\n",
    "    test_users_clustered['cluster'] = test_users_clusters\"\"\"\n",
    "    \n",
    "    ### klastrowanie ###\n",
    "    test_users_clustered = test_users_cl\n",
    "    test_users_clusters = test_users_clustered['cluster'].values\n",
    "    items_clustered = items_cl\n",
    "    \n",
    "    ## IP ##\n",
    "    IP_results = IP(train_matrix, items_clustered)\n",
    "    IP_dash = IP_results[0]\n",
    "    movies_from_max_cluster = IP_results[1]\n",
    "\n",
    "    clust_HP = {}\n",
    "    for cl in list(set(test_users_clusters)):\n",
    "        HP = UP_HP(train_matrix, test_matrix, test_users_clustered, train_users_cl, cl, IP_dash, alpha, movies_from_max_cluster, ratings_matrix)[0].tolist()  \n",
    "        clust_HP[cl] = (movies_from_max_cluster, HP)\n",
    "    return(clust_HP, test_users_clustered) #słownik [cluster[]: [filmy z clustra gdzie IP_max, HP],\n",
    "                                            #testowi uzytkownicy z wygenerowanymi klastrami\n",
    "\n",
    "\"\"\"z = HP_for_clust(test_matrix, train_matrix, 0.5, ratings_matrix, us_te_cl, us_tr_cl, items_clusters)\n",
    "len(z[0][1][0]) #długość movies_from_max_cluster\n",
    "z[0][1][1][-3] #3 od konca wartość z HP\"\"\""
   ]
  },
  {
   "cell_type": "code",
   "execution_count": 12,
   "metadata": {},
   "outputs": [
    {
     "data": {
      "text/plain": [
       "'create_matrix_for_generated(test_set, train_set, 0.5, ratings_matrix, us_te_cl, us_tr_cl, items_clusters)\\n'"
      ]
     },
     "execution_count": 12,
     "metadata": {},
     "output_type": "execute_result"
    }
   ],
   "source": [
    "def create_matrix_for_generated(test_matrix, train_matrix, alpha, ratings_matrix, test_users_cl, train_users_cl, items_cl):\n",
    "    HP_and_clust = HP_for_clust(test_matrix, train_matrix, alpha, ratings_matrix, test_users_cl, train_users_cl, items_cl)\n",
    "    movies_and_HP = HP_and_clust[0] #słownik [cluster]:[filmy do polecenia, HP]\n",
    "    \n",
    "    #dataframe testowych uzytkownikow z przypisanymi clustrami\n",
    "    test_users_with_clusters = HP_and_clust[1]\n",
    "    \n",
    "    #dataframe pokazujący cluster i ilu uzytkowników do niego nalezy\n",
    "    num_users_in_clust = test_users_with_clusters.groupby('cluster').agg(users_number = ('cluster','size')).reset_index()\n",
    "    num_users_in_clust_dict = num_users_in_clust.set_index('cluster')['users_number'].to_dict() #liczba użytkowników w każdym clustrze\n",
    "\n",
    "    #słownik cluster: id uzytkownikow którzy do niego nalezą\n",
    "    users_per_cluster = test_users_with_clusters.groupby('cluster')['user_id'].apply(list).to_dict() #uzytkownicy (id) w kazdym clustrze\n",
    "\n",
    "    test_users_dictionary = {'user_id':[],\n",
    "                         'movie_id':[],\n",
    "                         'rating':[]}\n",
    "    \n",
    "    for cl in users_per_cluster.keys():\n",
    "        num_of_users = num_users_in_clust_dict[cl]\n",
    "        num_of_items = len(movies_and_HP[cl][0])\n",
    "\n",
    "        multiplied_users = users_per_cluster[cl] * num_of_items\n",
    "        multiplied_users.sort()\n",
    "        test_users_dictionary['user_id'].extend(multiplied_users)\n",
    "        #aktualizuję uzytkowników w clustrze powielając ich tyle razy ile jest przedmiotów, \n",
    "        #bo każdy musi dany przedmiot mieć oceniony\n",
    "        users_per_cluster[cl] = multiplied_users\n",
    "\n",
    "        #powielam przedmioty i oceny tyle razy ilu jest użytkowników\n",
    "        movies_and_HP[cl] = (movies_and_HP[cl][0] * num_of_users, movies_and_HP[cl][1] * num_of_users)\n",
    "        \n",
    "        test_users_dictionary['movie_id'].extend(movies_and_HP[cl][0])\n",
    "        test_users_dictionary['rating'].extend(movies_and_HP[cl][1])\n",
    "\n",
    "        test_ratings_HP = pd.DataFrame(test_users_dictionary)\n",
    "        test_ratings_HP.to_csv(Path('..','..','outputs','test_ratings.csv'), index=False)\n",
    "        test_ratings_matrix = test_ratings_HP.pivot(index='user_id', columns='movie_id', values='rating')\n",
    "        test_ratings_matrix = test_ratings_matrix.fillna(0)\n",
    "\n",
    "    return test_ratings_matrix\n",
    "\n",
    "\"\"\"create_matrix_for_generated(test_set, train_set, 0.5, ratings_matrix, us_te_cl, us_tr_cl, items_clusters)\n",
    "\"\"\""
   ]
  },
  {
   "cell_type": "code",
   "execution_count": 13,
   "metadata": {},
   "outputs": [],
   "source": [
    "def show_Hu(row):\n",
    "    #wybieranie id filmów, dla których w zbiorze testowym użytkownik wystawił jakieś oceny\n",
    "    nonzero = row[row > 0].index\n",
    "    nonzero_indices = nonzero.values\n",
    "    row['Hu'] = nonzero_indices.tolist()\n",
    "    return row"
   ]
  },
  {
   "cell_type": "code",
   "execution_count": 14,
   "metadata": {},
   "outputs": [],
   "source": [
    "def find_topN_items(users_ratings,N):\n",
    "    topN = users_ratings.nlargest(N) #N najlepiej ocenianych filmów (rating i indeks) \n",
    "                                        #zwraca się od najwiekszej do najmn wartosci\n",
    "    topN_indices = topN.index #indeksy tych najlepiej ocenianych\n",
    "    #wyrzucam z topN filmy, dla których wystawiono zero\n",
    "    top_nonzero_indices = users_ratings[topN_indices][users_ratings[topN_indices] > 0].index\n",
    "    users_ratings[\"topN_movies\"] = top_nonzero_indices.values\n",
    "    return users_ratings"
   ]
  },
  {
   "cell_type": "code",
   "execution_count": 15,
   "metadata": {},
   "outputs": [],
   "source": [
    "def NDCG(row,N):\n",
    "    generated = row.loc['topN_movies']\n",
    "    from_test_set = row.loc['Hu']\n",
    "    #sprawdzenie który n-ty element z TopN został irl oceniony przez użytkownika\n",
    "    available_n = [index + 1  for index, element in enumerate(generated) if element in from_test_set]\n",
    "    DCG = sum([1 / math.log(1+n,2) for n in available_n])\n",
    "    IDCG = sum([math.log(1+n,2) for n in range(1,N+1)])\n",
    "    NDCG = DCG / IDCG\n",
    "    row['NDCG'] = NDCG\n",
    "    return row"
   ]
  },
  {
   "cell_type": "code",
   "execution_count": 16,
   "metadata": {},
   "outputs": [],
   "source": [
    "def Precision_Recall(row,N):\n",
    "    generated = row.loc['topN_movies']\n",
    "    from_test_set = row.loc['Hu']\n",
    "    intersection = sum([1 for element in generated if element in from_test_set])\n",
    "    \n",
    "    Precision = intersection * 100 / N\n",
    "    row['Precision'] = Precision\n",
    "    \n",
    "    row['Recall'] = intersection * 100 / len(from_test_set)\n",
    "    return row"
   ]
  },
  {
   "cell_type": "code",
   "execution_count": 17,
   "metadata": {},
   "outputs": [
    {
     "data": {
      "text/plain": [
       "'output_final = nazwepozniej(test_set, train_set, 0.5, 50, ratings_matrix, us_te_cl, us_tr_cl, items_cl)'"
      ]
     },
     "execution_count": 17,
     "metadata": {},
     "output_type": "execute_result"
    }
   ],
   "source": [
    "def nazwepozniej(test_matrix, train_matrix, alpha, N, ratings_matrix, test_users_cl, train_users_cl, items_cl):\n",
    "    \n",
    "    generated = create_matrix_for_generated(test_matrix, train_matrix, alpha, ratings_matrix, test_users_cl, train_users_cl, items_cl)\n",
    "    test_with_Hu = test_matrix.apply(lambda row: show_Hu(row), axis = 1)\n",
    "    generated_topN = generated.apply(lambda row: find_topN_items(row, N), axis = 1)\n",
    "    Hu = test_with_Hu.iloc[:,[-1]].sort_index()\n",
    "\n",
    "    merged = pd.merge(generated_topN, Hu, on='user_id', how = 'left')\n",
    "    merged = merged.apply(lambda row:  NDCG(row,N),axis = 1)\n",
    "    merged = merged.apply(lambda row:  Precision_Recall(row,N),axis = 1)\n",
    "    \n",
    "    return(merged)\n",
    "\"\"\"output_final = nazwepozniej(test_set, train_set, 0.5, 50, ratings_matrix, us_te_cl, us_tr_cl, items_cl)\"\"\""
   ]
  },
  {
   "cell_type": "code",
   "execution_count": 31,
   "metadata": {},
   "outputs": [],
   "source": [
    "def main(ratings_data, items_data, users_data, alpha, N):\n",
    "    matrix = ratings_data.pivot(index='user_id', columns='movie_id', values='rating')\n",
    "    matrix = matrix.fillna(0)\n",
    "    \n",
    "    train_set, test_set = train_test_split(matrix, test_size=0.2)#, random_state=42)\n",
    "\n",
    "    users_train = users_data[~users_data['user_id'].isin(test_set.index.to_list())]\n",
    "    users_test = users_data[users_data['user_id'].isin(test_set.index.to_list())]\n",
    "\n",
    "    items_train = ratings_data[~ratings_data['user_id'].isin(test_set.index.to_list())]\n",
    "    #jeżeli jakiś przedmiot wpadnie tylko do zbioru testowego to \"wypada\" z dalszych analiz\n",
    "    #ponieważ ma przed wejściem zimnych userów sume ratingów = 0, więc zgodnie z moją metodą\n",
    "    #nie zostanie zarekomendowany w topN filmów\n",
    "    items_test = ratings_data[ratings_data['user_id'].isin(test_set.index.to_list())]\n",
    "\n",
    "    train_set.to_csv(Path('..','..','outputs','train_set.csv'), index = False)\n",
    "    test_set.to_csv(Path('..','..','outputs','test_set.csv'), index = False)\n",
    "\n",
    "    all_users_clustered = users_train_clusters = cluster_users(users_train.copy(), users_test.copy())\n",
    "    users_train_clustered = all_users_clustered[1]\n",
    "    users_test_clustered = all_users_clustered[0]\n",
    "    items_clustered = pd.read_csv(Path('..','..','outputs','items_clustered3.csv'))#cluster_items(items_train)\n",
    "    items_clustered.to_csv(Path('..','..','outputs','items_clustered3.csv'), index=False)\n",
    "    final_matrix = nazwepozniej(test_set, train_set, alpha, N, matrix, users_test_clustered, users_train_clustered, items_clustered)\n",
    "    return(final_matrix)"
   ]
  },
  {
   "cell_type": "code",
   "execution_count": 32,
   "metadata": {},
   "outputs": [
    {
     "name": "stdout",
     "output_type": "stream",
     "text": [
      "Init: initializing centroids\n",
      "Init: initializing clusters\n",
      "Starting iterations...\n",
      "Run 1, iteration: 1/100, moves: 171, cost: 1202.0\n",
      "Init: initializing centroids\n",
      "Init: initializing clusters\n",
      "Starting iterations...\n",
      "Run 2, iteration: 1/100, moves: 12, cost: 1196.0\n",
      "Init: initializing centroids\n",
      "Init: initializing clusters\n",
      "Starting iterations...\n",
      "Run 3, iteration: 1/100, moves: 3, cost: 1242.0\n",
      "Run 3, iteration: 2/100, moves: 1, cost: 1242.0\n",
      "Init: initializing centroids\n",
      "Init: initializing clusters\n",
      "Starting iterations...\n",
      "Run 4, iteration: 1/100, moves: 0, cost: 1201.0\n",
      "Init: initializing centroids\n",
      "Init: initializing clusters\n",
      "Starting iterations...\n",
      "Run 5, iteration: 1/100, moves: 377, cost: 1212.0\n",
      "Run 5, iteration: 2/100, moves: 5, cost: 1212.0\n",
      "Best run was number 2\n"
     ]
    },
    {
     "name": "stderr",
     "output_type": "stream",
     "text": [
      "C:\\Users\\wypyc\\AppData\\Local\\Temp\\ipykernel_17572\\1591590274.py:28: RuntimeWarning: divide by zero encountered in divide\n",
      "  UIP = UP_dash / IP_dash\n",
      "C:\\Users\\wypyc\\AppData\\Local\\Temp\\ipykernel_17572\\1591590274.py:28: RuntimeWarning: invalid value encountered in divide\n",
      "  UIP = UP_dash / IP_dash\n",
      "C:\\Users\\wypyc\\AppData\\Local\\Temp\\ipykernel_17572\\1591590274.py:28: RuntimeWarning: divide by zero encountered in divide\n",
      "  UIP = UP_dash / IP_dash\n",
      "C:\\Users\\wypyc\\AppData\\Local\\Temp\\ipykernel_17572\\1591590274.py:28: RuntimeWarning: invalid value encountered in divide\n",
      "  UIP = UP_dash / IP_dash\n",
      "C:\\Users\\wypyc\\AppData\\Local\\Temp\\ipykernel_17572\\1591590274.py:28: RuntimeWarning: divide by zero encountered in divide\n",
      "  UIP = UP_dash / IP_dash\n",
      "C:\\Users\\wypyc\\AppData\\Local\\Temp\\ipykernel_17572\\1591590274.py:28: RuntimeWarning: invalid value encountered in divide\n",
      "  UIP = UP_dash / IP_dash\n",
      "C:\\Users\\wypyc\\AppData\\Local\\Temp\\ipykernel_17572\\1591590274.py:28: RuntimeWarning: divide by zero encountered in divide\n",
      "  UIP = UP_dash / IP_dash\n",
      "C:\\Users\\wypyc\\AppData\\Local\\Temp\\ipykernel_17572\\1591590274.py:28: RuntimeWarning: invalid value encountered in divide\n",
      "  UIP = UP_dash / IP_dash\n",
      "C:\\Users\\wypyc\\AppData\\Local\\Temp\\ipykernel_17572\\1591590274.py:28: RuntimeWarning: divide by zero encountered in divide\n",
      "  UIP = UP_dash / IP_dash\n",
      "C:\\Users\\wypyc\\AppData\\Local\\Temp\\ipykernel_17572\\1591590274.py:28: RuntimeWarning: invalid value encountered in divide\n",
      "  UIP = UP_dash / IP_dash\n"
     ]
    },
    {
     "ename": "TypeError",
     "evalue": "argument of type 'float' is not iterable",
     "output_type": "error",
     "traceback": [
      "\u001b[1;31m---------------------------------------------------------------------------\u001b[0m",
      "\u001b[1;31mTypeError\u001b[0m                                 Traceback (most recent call last)",
      "\u001b[1;32mc:\\Users\\wypyc\\Desktop\\inżynierka\\project\\Cold-Start-Problem-in-RS\\notebooks\\popularity\\jeden_cluster.ipynb Cell 16\u001b[0m line \u001b[0;36m1\n\u001b[1;32m----> <a href='vscode-notebook-cell:/c%3A/Users/wypyc/Desktop/in%C5%BCynierka/project/Cold-Start-Problem-in-RS/notebooks/popularity/jeden_cluster.ipynb#X24sZmlsZQ%3D%3D?line=0'>1</a>\u001b[0m main(ratings, movies, users, \u001b[39m0.5\u001b[39;49m, \u001b[39m20\u001b[39;49m)\n",
      "\u001b[1;32mc:\\Users\\wypyc\\Desktop\\inżynierka\\project\\Cold-Start-Problem-in-RS\\notebooks\\popularity\\jeden_cluster.ipynb Cell 16\u001b[0m line \u001b[0;36m2\n\u001b[0;32m     <a href='vscode-notebook-cell:/c%3A/Users/wypyc/Desktop/in%C5%BCynierka/project/Cold-Start-Problem-in-RS/notebooks/popularity/jeden_cluster.ipynb#X24sZmlsZQ%3D%3D?line=21'>22</a>\u001b[0m items_clustered \u001b[39m=\u001b[39m pd\u001b[39m.\u001b[39mread_csv(Path(\u001b[39m'\u001b[39m\u001b[39m..\u001b[39m\u001b[39m'\u001b[39m,\u001b[39m'\u001b[39m\u001b[39m..\u001b[39m\u001b[39m'\u001b[39m,\u001b[39m'\u001b[39m\u001b[39moutputs\u001b[39m\u001b[39m'\u001b[39m,\u001b[39m'\u001b[39m\u001b[39mitems_clustered3.csv\u001b[39m\u001b[39m'\u001b[39m))\u001b[39m#cluster_items(items_train)\u001b[39;00m\n\u001b[0;32m     <a href='vscode-notebook-cell:/c%3A/Users/wypyc/Desktop/in%C5%BCynierka/project/Cold-Start-Problem-in-RS/notebooks/popularity/jeden_cluster.ipynb#X24sZmlsZQ%3D%3D?line=22'>23</a>\u001b[0m items_clustered\u001b[39m.\u001b[39mto_csv(Path(\u001b[39m'\u001b[39m\u001b[39m..\u001b[39m\u001b[39m'\u001b[39m,\u001b[39m'\u001b[39m\u001b[39m..\u001b[39m\u001b[39m'\u001b[39m,\u001b[39m'\u001b[39m\u001b[39moutputs\u001b[39m\u001b[39m'\u001b[39m,\u001b[39m'\u001b[39m\u001b[39mitems_clustered3.csv\u001b[39m\u001b[39m'\u001b[39m), index\u001b[39m=\u001b[39m\u001b[39mFalse\u001b[39;00m)\n\u001b[1;32m---> <a href='vscode-notebook-cell:/c%3A/Users/wypyc/Desktop/in%C5%BCynierka/project/Cold-Start-Problem-in-RS/notebooks/popularity/jeden_cluster.ipynb#X24sZmlsZQ%3D%3D?line=23'>24</a>\u001b[0m final_matrix \u001b[39m=\u001b[39m nazwepozniej(test_set, train_set, alpha, N, matrix, users_test_clustered, users_train_clustered, items_clustered)\n\u001b[0;32m     <a href='vscode-notebook-cell:/c%3A/Users/wypyc/Desktop/in%C5%BCynierka/project/Cold-Start-Problem-in-RS/notebooks/popularity/jeden_cluster.ipynb#X24sZmlsZQ%3D%3D?line=24'>25</a>\u001b[0m \u001b[39mreturn\u001b[39;00m(final_matrix)\n",
      "\u001b[1;32mc:\\Users\\wypyc\\Desktop\\inżynierka\\project\\Cold-Start-Problem-in-RS\\notebooks\\popularity\\jeden_cluster.ipynb Cell 16\u001b[0m line \u001b[0;36m9\n\u001b[0;32m      <a href='vscode-notebook-cell:/c%3A/Users/wypyc/Desktop/in%C5%BCynierka/project/Cold-Start-Problem-in-RS/notebooks/popularity/jeden_cluster.ipynb#X24sZmlsZQ%3D%3D?line=5'>6</a>\u001b[0m Hu \u001b[39m=\u001b[39m test_with_Hu\u001b[39m.\u001b[39miloc[:,[\u001b[39m-\u001b[39m\u001b[39m1\u001b[39m]]\u001b[39m.\u001b[39msort_index()\n\u001b[0;32m      <a href='vscode-notebook-cell:/c%3A/Users/wypyc/Desktop/in%C5%BCynierka/project/Cold-Start-Problem-in-RS/notebooks/popularity/jeden_cluster.ipynb#X24sZmlsZQ%3D%3D?line=7'>8</a>\u001b[0m merged \u001b[39m=\u001b[39m pd\u001b[39m.\u001b[39mmerge(generated_topN, Hu, on\u001b[39m=\u001b[39m\u001b[39m'\u001b[39m\u001b[39muser_id\u001b[39m\u001b[39m'\u001b[39m, how \u001b[39m=\u001b[39m \u001b[39m'\u001b[39m\u001b[39mleft\u001b[39m\u001b[39m'\u001b[39m)\n\u001b[1;32m----> <a href='vscode-notebook-cell:/c%3A/Users/wypyc/Desktop/in%C5%BCynierka/project/Cold-Start-Problem-in-RS/notebooks/popularity/jeden_cluster.ipynb#X24sZmlsZQ%3D%3D?line=8'>9</a>\u001b[0m merged \u001b[39m=\u001b[39m merged\u001b[39m.\u001b[39;49mapply(\u001b[39mlambda\u001b[39;49;00m row:  NDCG(row,N),axis \u001b[39m=\u001b[39;49m \u001b[39m1\u001b[39;49m)\n\u001b[0;32m     <a href='vscode-notebook-cell:/c%3A/Users/wypyc/Desktop/in%C5%BCynierka/project/Cold-Start-Problem-in-RS/notebooks/popularity/jeden_cluster.ipynb#X24sZmlsZQ%3D%3D?line=9'>10</a>\u001b[0m merged \u001b[39m=\u001b[39m merged\u001b[39m.\u001b[39mapply(\u001b[39mlambda\u001b[39;00m row:  Precision_Recall(row,N),axis \u001b[39m=\u001b[39m \u001b[39m1\u001b[39m)\n\u001b[0;32m     <a href='vscode-notebook-cell:/c%3A/Users/wypyc/Desktop/in%C5%BCynierka/project/Cold-Start-Problem-in-RS/notebooks/popularity/jeden_cluster.ipynb#X24sZmlsZQ%3D%3D?line=11'>12</a>\u001b[0m \u001b[39mreturn\u001b[39;00m(merged)\n",
      "File \u001b[1;32mc:\\Users\\wypyc\\Desktop\\inżynierka\\project\\Cold-Start-Problem-in-RS\\.venv\\Lib\\site-packages\\pandas\\core\\frame.py:10034\u001b[0m, in \u001b[0;36mDataFrame.apply\u001b[1;34m(self, func, axis, raw, result_type, args, by_row, **kwargs)\u001b[0m\n\u001b[0;32m  10022\u001b[0m \u001b[39mfrom\u001b[39;00m \u001b[39mpandas\u001b[39;00m\u001b[39m.\u001b[39;00m\u001b[39mcore\u001b[39;00m\u001b[39m.\u001b[39;00m\u001b[39mapply\u001b[39;00m \u001b[39mimport\u001b[39;00m frame_apply\n\u001b[0;32m  10024\u001b[0m op \u001b[39m=\u001b[39m frame_apply(\n\u001b[0;32m  10025\u001b[0m     \u001b[39mself\u001b[39m,\n\u001b[0;32m  10026\u001b[0m     func\u001b[39m=\u001b[39mfunc,\n\u001b[1;32m   (...)\u001b[0m\n\u001b[0;32m  10032\u001b[0m     kwargs\u001b[39m=\u001b[39mkwargs,\n\u001b[0;32m  10033\u001b[0m )\n\u001b[1;32m> 10034\u001b[0m \u001b[39mreturn\u001b[39;00m op\u001b[39m.\u001b[39;49mapply()\u001b[39m.\u001b[39m__finalize__(\u001b[39mself\u001b[39m, method\u001b[39m=\u001b[39m\u001b[39m\"\u001b[39m\u001b[39mapply\u001b[39m\u001b[39m\"\u001b[39m)\n",
      "File \u001b[1;32mc:\\Users\\wypyc\\Desktop\\inżynierka\\project\\Cold-Start-Problem-in-RS\\.venv\\Lib\\site-packages\\pandas\\core\\apply.py:837\u001b[0m, in \u001b[0;36mFrameApply.apply\u001b[1;34m(self)\u001b[0m\n\u001b[0;32m    834\u001b[0m \u001b[39melif\u001b[39;00m \u001b[39mself\u001b[39m\u001b[39m.\u001b[39mraw:\n\u001b[0;32m    835\u001b[0m     \u001b[39mreturn\u001b[39;00m \u001b[39mself\u001b[39m\u001b[39m.\u001b[39mapply_raw()\n\u001b[1;32m--> 837\u001b[0m \u001b[39mreturn\u001b[39;00m \u001b[39mself\u001b[39;49m\u001b[39m.\u001b[39;49mapply_standard()\n",
      "File \u001b[1;32mc:\\Users\\wypyc\\Desktop\\inżynierka\\project\\Cold-Start-Problem-in-RS\\.venv\\Lib\\site-packages\\pandas\\core\\apply.py:963\u001b[0m, in \u001b[0;36mFrameApply.apply_standard\u001b[1;34m(self)\u001b[0m\n\u001b[0;32m    962\u001b[0m \u001b[39mdef\u001b[39;00m \u001b[39mapply_standard\u001b[39m(\u001b[39mself\u001b[39m):\n\u001b[1;32m--> 963\u001b[0m     results, res_index \u001b[39m=\u001b[39m \u001b[39mself\u001b[39;49m\u001b[39m.\u001b[39;49mapply_series_generator()\n\u001b[0;32m    965\u001b[0m     \u001b[39m# wrap results\u001b[39;00m\n\u001b[0;32m    966\u001b[0m     \u001b[39mreturn\u001b[39;00m \u001b[39mself\u001b[39m\u001b[39m.\u001b[39mwrap_results(results, res_index)\n",
      "File \u001b[1;32mc:\\Users\\wypyc\\Desktop\\inżynierka\\project\\Cold-Start-Problem-in-RS\\.venv\\Lib\\site-packages\\pandas\\core\\apply.py:979\u001b[0m, in \u001b[0;36mFrameApply.apply_series_generator\u001b[1;34m(self)\u001b[0m\n\u001b[0;32m    976\u001b[0m \u001b[39mwith\u001b[39;00m option_context(\u001b[39m\"\u001b[39m\u001b[39mmode.chained_assignment\u001b[39m\u001b[39m\"\u001b[39m, \u001b[39mNone\u001b[39;00m):\n\u001b[0;32m    977\u001b[0m     \u001b[39mfor\u001b[39;00m i, v \u001b[39min\u001b[39;00m \u001b[39menumerate\u001b[39m(series_gen):\n\u001b[0;32m    978\u001b[0m         \u001b[39m# ignore SettingWithCopy here in case the user mutates\u001b[39;00m\n\u001b[1;32m--> 979\u001b[0m         results[i] \u001b[39m=\u001b[39m \u001b[39mself\u001b[39;49m\u001b[39m.\u001b[39;49mfunc(v, \u001b[39m*\u001b[39;49m\u001b[39mself\u001b[39;49m\u001b[39m.\u001b[39;49margs, \u001b[39m*\u001b[39;49m\u001b[39m*\u001b[39;49m\u001b[39mself\u001b[39;49m\u001b[39m.\u001b[39;49mkwargs)\n\u001b[0;32m    980\u001b[0m         \u001b[39mif\u001b[39;00m \u001b[39misinstance\u001b[39m(results[i], ABCSeries):\n\u001b[0;32m    981\u001b[0m             \u001b[39m# If we have a view on v, we need to make a copy because\u001b[39;00m\n\u001b[0;32m    982\u001b[0m             \u001b[39m#  series_generator will swap out the underlying data\u001b[39;00m\n\u001b[0;32m    983\u001b[0m             results[i] \u001b[39m=\u001b[39m results[i]\u001b[39m.\u001b[39mcopy(deep\u001b[39m=\u001b[39m\u001b[39mFalse\u001b[39;00m)\n",
      "\u001b[1;32mc:\\Users\\wypyc\\Desktop\\inżynierka\\project\\Cold-Start-Problem-in-RS\\notebooks\\popularity\\jeden_cluster.ipynb Cell 16\u001b[0m line \u001b[0;36m9\n\u001b[0;32m      <a href='vscode-notebook-cell:/c%3A/Users/wypyc/Desktop/in%C5%BCynierka/project/Cold-Start-Problem-in-RS/notebooks/popularity/jeden_cluster.ipynb#X24sZmlsZQ%3D%3D?line=5'>6</a>\u001b[0m Hu \u001b[39m=\u001b[39m test_with_Hu\u001b[39m.\u001b[39miloc[:,[\u001b[39m-\u001b[39m\u001b[39m1\u001b[39m]]\u001b[39m.\u001b[39msort_index()\n\u001b[0;32m      <a href='vscode-notebook-cell:/c%3A/Users/wypyc/Desktop/in%C5%BCynierka/project/Cold-Start-Problem-in-RS/notebooks/popularity/jeden_cluster.ipynb#X24sZmlsZQ%3D%3D?line=7'>8</a>\u001b[0m merged \u001b[39m=\u001b[39m pd\u001b[39m.\u001b[39mmerge(generated_topN, Hu, on\u001b[39m=\u001b[39m\u001b[39m'\u001b[39m\u001b[39muser_id\u001b[39m\u001b[39m'\u001b[39m, how \u001b[39m=\u001b[39m \u001b[39m'\u001b[39m\u001b[39mleft\u001b[39m\u001b[39m'\u001b[39m)\n\u001b[1;32m----> <a href='vscode-notebook-cell:/c%3A/Users/wypyc/Desktop/in%C5%BCynierka/project/Cold-Start-Problem-in-RS/notebooks/popularity/jeden_cluster.ipynb#X24sZmlsZQ%3D%3D?line=8'>9</a>\u001b[0m merged \u001b[39m=\u001b[39m merged\u001b[39m.\u001b[39mapply(\u001b[39mlambda\u001b[39;00m row:  NDCG(row,N),axis \u001b[39m=\u001b[39m \u001b[39m1\u001b[39m)\n\u001b[0;32m     <a href='vscode-notebook-cell:/c%3A/Users/wypyc/Desktop/in%C5%BCynierka/project/Cold-Start-Problem-in-RS/notebooks/popularity/jeden_cluster.ipynb#X24sZmlsZQ%3D%3D?line=9'>10</a>\u001b[0m merged \u001b[39m=\u001b[39m merged\u001b[39m.\u001b[39mapply(\u001b[39mlambda\u001b[39;00m row:  Precision_Recall(row,N),axis \u001b[39m=\u001b[39m \u001b[39m1\u001b[39m)\n\u001b[0;32m     <a href='vscode-notebook-cell:/c%3A/Users/wypyc/Desktop/in%C5%BCynierka/project/Cold-Start-Problem-in-RS/notebooks/popularity/jeden_cluster.ipynb#X24sZmlsZQ%3D%3D?line=11'>12</a>\u001b[0m \u001b[39mreturn\u001b[39;00m(merged)\n",
      "\u001b[1;32mc:\\Users\\wypyc\\Desktop\\inżynierka\\project\\Cold-Start-Problem-in-RS\\notebooks\\popularity\\jeden_cluster.ipynb Cell 16\u001b[0m line \u001b[0;36m5\n\u001b[0;32m      <a href='vscode-notebook-cell:/c%3A/Users/wypyc/Desktop/in%C5%BCynierka/project/Cold-Start-Problem-in-RS/notebooks/popularity/jeden_cluster.ipynb#X24sZmlsZQ%3D%3D?line=2'>3</a>\u001b[0m from_test_set \u001b[39m=\u001b[39m row\u001b[39m.\u001b[39mloc[\u001b[39m'\u001b[39m\u001b[39mHu\u001b[39m\u001b[39m'\u001b[39m]\n\u001b[0;32m      <a href='vscode-notebook-cell:/c%3A/Users/wypyc/Desktop/in%C5%BCynierka/project/Cold-Start-Problem-in-RS/notebooks/popularity/jeden_cluster.ipynb#X24sZmlsZQ%3D%3D?line=3'>4</a>\u001b[0m \u001b[39m#sprawdzenie który n-ty element z TopN został irl oceniony przez użytkownika\u001b[39;00m\n\u001b[1;32m----> <a href='vscode-notebook-cell:/c%3A/Users/wypyc/Desktop/in%C5%BCynierka/project/Cold-Start-Problem-in-RS/notebooks/popularity/jeden_cluster.ipynb#X24sZmlsZQ%3D%3D?line=4'>5</a>\u001b[0m available_n \u001b[39m=\u001b[39m [index \u001b[39m+\u001b[39;49m \u001b[39m1\u001b[39;49m  \u001b[39mfor\u001b[39;49;00m index, element \u001b[39min\u001b[39;49;00m \u001b[39menumerate\u001b[39;49m(generated) \u001b[39mif\u001b[39;49;00m element \u001b[39min\u001b[39;49;00m from_test_set]\n\u001b[0;32m      <a href='vscode-notebook-cell:/c%3A/Users/wypyc/Desktop/in%C5%BCynierka/project/Cold-Start-Problem-in-RS/notebooks/popularity/jeden_cluster.ipynb#X24sZmlsZQ%3D%3D?line=5'>6</a>\u001b[0m DCG \u001b[39m=\u001b[39m \u001b[39msum\u001b[39m([\u001b[39m1\u001b[39m \u001b[39m/\u001b[39m math\u001b[39m.\u001b[39mlog(\u001b[39m1\u001b[39m\u001b[39m+\u001b[39mn,\u001b[39m2\u001b[39m) \u001b[39mfor\u001b[39;00m n \u001b[39min\u001b[39;00m available_n])\n\u001b[0;32m      <a href='vscode-notebook-cell:/c%3A/Users/wypyc/Desktop/in%C5%BCynierka/project/Cold-Start-Problem-in-RS/notebooks/popularity/jeden_cluster.ipynb#X24sZmlsZQ%3D%3D?line=6'>7</a>\u001b[0m IDCG \u001b[39m=\u001b[39m \u001b[39msum\u001b[39m([math\u001b[39m.\u001b[39mlog(\u001b[39m1\u001b[39m\u001b[39m+\u001b[39mn,\u001b[39m2\u001b[39m) \u001b[39mfor\u001b[39;00m n \u001b[39min\u001b[39;00m \u001b[39mrange\u001b[39m(\u001b[39m1\u001b[39m,N\u001b[39m+\u001b[39m\u001b[39m1\u001b[39m)])\n",
      "\u001b[1;32mc:\\Users\\wypyc\\Desktop\\inżynierka\\project\\Cold-Start-Problem-in-RS\\notebooks\\popularity\\jeden_cluster.ipynb Cell 16\u001b[0m line \u001b[0;36m5\n\u001b[0;32m      <a href='vscode-notebook-cell:/c%3A/Users/wypyc/Desktop/in%C5%BCynierka/project/Cold-Start-Problem-in-RS/notebooks/popularity/jeden_cluster.ipynb#X24sZmlsZQ%3D%3D?line=2'>3</a>\u001b[0m from_test_set \u001b[39m=\u001b[39m row\u001b[39m.\u001b[39mloc[\u001b[39m'\u001b[39m\u001b[39mHu\u001b[39m\u001b[39m'\u001b[39m]\n\u001b[0;32m      <a href='vscode-notebook-cell:/c%3A/Users/wypyc/Desktop/in%C5%BCynierka/project/Cold-Start-Problem-in-RS/notebooks/popularity/jeden_cluster.ipynb#X24sZmlsZQ%3D%3D?line=3'>4</a>\u001b[0m \u001b[39m#sprawdzenie który n-ty element z TopN został irl oceniony przez użytkownika\u001b[39;00m\n\u001b[1;32m----> <a href='vscode-notebook-cell:/c%3A/Users/wypyc/Desktop/in%C5%BCynierka/project/Cold-Start-Problem-in-RS/notebooks/popularity/jeden_cluster.ipynb#X24sZmlsZQ%3D%3D?line=4'>5</a>\u001b[0m available_n \u001b[39m=\u001b[39m [index \u001b[39m+\u001b[39m \u001b[39m1\u001b[39m  \u001b[39mfor\u001b[39;00m index, element \u001b[39min\u001b[39;00m \u001b[39menumerate\u001b[39m(generated) \u001b[39mif\u001b[39;00m element \u001b[39min\u001b[39;49;00m from_test_set]\n\u001b[0;32m      <a href='vscode-notebook-cell:/c%3A/Users/wypyc/Desktop/in%C5%BCynierka/project/Cold-Start-Problem-in-RS/notebooks/popularity/jeden_cluster.ipynb#X24sZmlsZQ%3D%3D?line=5'>6</a>\u001b[0m DCG \u001b[39m=\u001b[39m \u001b[39msum\u001b[39m([\u001b[39m1\u001b[39m \u001b[39m/\u001b[39m math\u001b[39m.\u001b[39mlog(\u001b[39m1\u001b[39m\u001b[39m+\u001b[39mn,\u001b[39m2\u001b[39m) \u001b[39mfor\u001b[39;00m n \u001b[39min\u001b[39;00m available_n])\n\u001b[0;32m      <a href='vscode-notebook-cell:/c%3A/Users/wypyc/Desktop/in%C5%BCynierka/project/Cold-Start-Problem-in-RS/notebooks/popularity/jeden_cluster.ipynb#X24sZmlsZQ%3D%3D?line=6'>7</a>\u001b[0m IDCG \u001b[39m=\u001b[39m \u001b[39msum\u001b[39m([math\u001b[39m.\u001b[39mlog(\u001b[39m1\u001b[39m\u001b[39m+\u001b[39mn,\u001b[39m2\u001b[39m) \u001b[39mfor\u001b[39;00m n \u001b[39min\u001b[39;00m \u001b[39mrange\u001b[39m(\u001b[39m1\u001b[39m,N\u001b[39m+\u001b[39m\u001b[39m1\u001b[39m)])\n",
      "\u001b[1;31mTypeError\u001b[0m: argument of type 'float' is not iterable"
     ]
    }
   ],
   "source": [
    "main(ratings, movies, users, 0.5, 20)"
   ]
  },
  {
   "cell_type": "markdown",
   "metadata": {},
   "source": [
    "### do uruchomienia, jeśli chce się na sztywno clustry przypisać"
   ]
  },
  {
   "cell_type": "code",
   "execution_count": 19,
   "metadata": {},
   "outputs": [
    {
     "ename": "NameError",
     "evalue": "name 'users_test' is not defined",
     "output_type": "error",
     "traceback": [
      "\u001b[1;31m---------------------------------------------------------------------------\u001b[0m",
      "\u001b[1;31mNameError\u001b[0m                                 Traceback (most recent call last)",
      "\u001b[1;32mc:\\Users\\wypyc\\Desktop\\inżynierka\\project\\Cold-Start-Problem-in-RS\\notebooks\\popularity\\jeden_cluster.ipynb Cell 17\u001b[0m line \u001b[0;36m1\n\u001b[1;32m----> <a href='vscode-notebook-cell:/c%3A/Users/wypyc/Desktop/in%C5%BCynierka/project/Cold-Start-Problem-in-RS/notebooks/popularity/jeden_cluster.ipynb#W5sZmlsZQ%3D%3D?line=0'>1</a>\u001b[0m us_te_cl \u001b[39m=\u001b[39m users_test\u001b[39m.\u001b[39mcopy()\n\u001b[0;32m      <a href='vscode-notebook-cell:/c%3A/Users/wypyc/Desktop/in%C5%BCynierka/project/Cold-Start-Problem-in-RS/notebooks/popularity/jeden_cluster.ipynb#W5sZmlsZQ%3D%3D?line=1'>2</a>\u001b[0m us_te_cl[\u001b[39m'\u001b[39m\u001b[39mcluster\u001b[39m\u001b[39m'\u001b[39m] \u001b[39m=\u001b[39m \u001b[39m1\u001b[39m\n\u001b[0;32m      <a href='vscode-notebook-cell:/c%3A/Users/wypyc/Desktop/in%C5%BCynierka/project/Cold-Start-Problem-in-RS/notebooks/popularity/jeden_cluster.ipynb#W5sZmlsZQ%3D%3D?line=3'>4</a>\u001b[0m us_tr_cl \u001b[39m=\u001b[39m users_train\u001b[39m.\u001b[39mcopy()\n",
      "\u001b[1;31mNameError\u001b[0m: name 'users_test' is not defined"
     ]
    }
   ],
   "source": [
    "us_te_cl = users_test.copy()\n",
    "us_te_cl['cluster'] = 1\n",
    "\n",
    "us_tr_cl = users_train.copy()\n",
    "us_tr_cl['cluster'] = 1\n",
    "\n",
    "it_cl = items_train.copy()\n",
    "it_cl['cluster'] = 1\n",
    "\n",
    "\"\"\"it_cl = article_items_cl\n",
    "    it_cl\"\"\""
   ]
  },
  {
   "cell_type": "code",
   "execution_count": null,
   "metadata": {},
   "outputs": [],
   "source": []
  }
 ],
 "metadata": {
  "kernelspec": {
   "display_name": ".venv",
   "language": "python",
   "name": "python3"
  },
  "language_info": {
   "codemirror_mode": {
    "name": "ipython",
    "version": 3
   },
   "file_extension": ".py",
   "mimetype": "text/x-python",
   "name": "python",
   "nbconvert_exporter": "python",
   "pygments_lexer": "ipython3",
   "version": "3.11.0"
  }
 },
 "nbformat": 4,
 "nbformat_minor": 2
}
