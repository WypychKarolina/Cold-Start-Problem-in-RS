{
 "cells": [
  {
   "cell_type": "code",
   "execution_count": 1,
   "metadata": {},
   "outputs": [],
   "source": [
    "import pandas as pd\n",
    "from pathlib import Path\n",
    "import numpy as np\n",
    "from sklearn.model_selection import train_test_split\n",
    "from kmodes.kmodes import KModes\n",
    "import matplotlib.pyplot as plt\n",
    "from sklearn.preprocessing import LabelEncoder, StandardScaler\n",
    "import skfuzzy as fuzz\n",
    "from sklearn.metrics import fowlkes_mallows_score\n",
    "import math\n",
    "from sklearn.decomposition import TruncatedSVD\n",
    "from sklearn.cluster import KMeans\n",
    "from sklearn.model_selection import KFold\n",
    "import random\n",
    "import re"
   ]
  },
  {
   "cell_type": "markdown",
   "metadata": {},
   "source": [
    "# wczytanie danych"
   ]
  },
  {
   "cell_type": "code",
   "execution_count": 2,
   "metadata": {},
   "outputs": [
    {
     "data": {
      "text/plain": [
       "'\\nmatrix = ratings.pivot(index=\\'user_id\\', columns=\\'movie_id\\', values=\\'rating\\')\\nmatrix = matrix.fillna(0)\\n\\ntrain_set, test_set = train_test_split(matrix, test_size=0.2)#, random_state=42)\\n\\nusers_train = users[~users[\\'user_id\\'].isin(test_set.index.to_list())]\\nusers_test = users[users[\\'user_id\\'].isin(test_set.index.to_list())]\\n\\nitems_train = ratings[~ratings[\\'user_id\\'].isin(test_set.index.to_list())]\\n#jeżeli jakiś przedmiot wpadnie tylko do zbioru testowego to \"wypada\" z dalszych analiz\\n#ponieważ ma przed wejściem zimnych userów sume ratingów = 0, więc zgodnie z moją metodą\\n#nie zostanie zarekomendowany w topN filmów\\nitems_test = ratings[ratings[\\'user_id\\'].isin(test_set.index.to_list())]\\n\\ntrain_set.to_csv(Path(\\'..\\',\\'..\\',\\'outputs\\',\\'train_set.csv\\'), index = False)\\ntest_set.to_csv(Path(\\'..\\',\\'..\\',\\'outputs\\',\\'test_set.csv\\'), index = False)\\n\\nall_users_clustered = users_train_clusters = cluster_users(users_train.copy(), users_test.copy())\\nusers_train_clustered = all_users_clustered[0]\\nusers_test_clustered = all_users_clustered[1]\\n#items_clustered = cluster_items(items_train)\\n#items_clustered.to_csv(Path(\\'..\\',\\'..\\',\\'outputs\\',\\'items_clustered3.csv\\'), index=False)\\nitems_clustered = items_train.copy()\\nitems_clustered[\\'cluster\\'] = 1\\n'"
      ]
     },
     "execution_count": 2,
     "metadata": {},
     "output_type": "execute_result"
    }
   ],
   "source": [
    "pd.options.display.max_rows = 6\n",
    "\n",
    "ratings = pd.read_csv(Path('..','..','res','data','ratings.csv'))\n",
    "users = pd.read_csv(Path('..','..','res','data','users.csv'))\n",
    "movies = pd.read_csv(Path('..','..','res','data','movies.csv'))\n",
    "\n",
    "\n",
    "# zmiana napisów na liczby\n",
    "label_encoder = LabelEncoder()\n",
    "users['gender'] = label_encoder.fit_transform(users['gender'])\n",
    "users['occupation'] = label_encoder.fit_transform(users['occupation'])\n",
    "\n",
    "\"\"\"\n",
    "matrix = ratings.pivot(index='user_id', columns='movie_id', values='rating')\n",
    "matrix = matrix.fillna(0)\n",
    "\n",
    "train_set, test_set = train_test_split(matrix, test_size=0.2)#, random_state=42)\n",
    "\n",
    "users_train = users[~users['user_id'].isin(test_set.index.to_list())]\n",
    "users_test = users[users['user_id'].isin(test_set.index.to_list())]\n",
    "\n",
    "items_train = ratings[~ratings['user_id'].isin(test_set.index.to_list())]\n",
    "#jeżeli jakiś przedmiot wpadnie tylko do zbioru testowego to \"wypada\" z dalszych analiz\n",
    "#ponieważ ma przed wejściem zimnych userów sume ratingów = 0, więc zgodnie z moją metodą\n",
    "#nie zostanie zarekomendowany w topN filmów\n",
    "items_test = ratings[ratings['user_id'].isin(test_set.index.to_list())]\n",
    "\n",
    "train_set.to_csv(Path('..','..','outputs','train_set.csv'), index = False)\n",
    "test_set.to_csv(Path('..','..','outputs','test_set.csv'), index = False)\n",
    "\n",
    "all_users_clustered = users_train_clusters = cluster_users(users_train.copy(), users_test.copy())\n",
    "users_train_clustered = all_users_clustered[0]\n",
    "users_test_clustered = all_users_clustered[1]\n",
    "#items_clustered = cluster_items(items_train)\n",
    "#items_clustered.to_csv(Path('..','..','outputs','items_clustered3.csv'), index=False)\n",
    "items_clustered = items_train.copy()\n",
    "items_clustered['cluster'] = 1\n",
    "\"\"\""
   ]
  },
  {
   "cell_type": "code",
   "execution_count": 3,
   "metadata": {},
   "outputs": [],
   "source": [
    "def cluster_items(items_info):\n",
    "    data_to_cluster = items_info['rating'].to_numpy()\n",
    "    data_to_cluster = data_to_cluster.reshape(-1,1)\n",
    "    K_FCM = 100\n",
    "    cntr, u, u0, d, jm, p, fpc = fuzz.cluster.cmeans(data_to_cluster.T, K_FCM, 2, error=0.005, maxiter=1000)\n",
    "    clusters = np.argmax(u, axis=0)\n",
    "    items_info['cluster'] = clusters\n",
    "    return(items_info)\n",
    "\n",
    "\n",
    "def cluster_items2(items_info):\n",
    "    data_to_cluster = items_info[['rating', 'user_id', 'movie_id']].to_numpy()\n",
    "    print(items_info.shape, data_to_cluster.shape)\n",
    "    data_to_cluster = data_to_cluster.reshape(-1,3)\n",
    "    print(data_to_cluster.shape)\n",
    "    K_FCM = 100\n",
    "    cntr, u, u0, d, jm, p, fpc = fuzz.cluster.cmeans(data_to_cluster.T, K_FCM, 2, error=0.005, maxiter=1000)\n",
    "    clusters = np.argmax(u, axis=0)\n",
    "    print(len(clusters))\n",
    "    items_info['cluster'] = clusters\n",
    "    return(items_info)\n",
    "\n",
    "def cluster_items_SVD(ratings_df):\n",
    "    ratings_matrix = ratings_df.pivot(index='movie_id', columns='user_id', values='rating').fillna(0)\n",
    "    svd = TruncatedSVD(n_components=10)  # Dobra liczba komponentów dobrane empirycznie\n",
    "    matrix_reduced = svd.fit_transform(ratings_matrix)\n",
    "    kmeans = KMeans(n_clusters=10)  # Dobra liczba klastrów dobrane empirycznie\n",
    "    kmeans.fit(matrix_reduced)\n",
    "    \n",
    "    clust_dict = {'movie_id':ratings_matrix.index.values,\n",
    "              'cluster': kmeans.labels_}\n",
    "    clust_df = pd.DataFrame(clust_dict, columns=clust_dict.keys())   \n",
    "    \n",
    "    rtg_cl_merged = pd.merge(ratings_df, clust_df, on='movie_id', how='left')\n",
    "    rtg_cl_merged.to_csv(Path('..','..','outputs','train_items_svd.csv'), index = False)\n",
    "    return rtg_cl_merged\n",
    "\n",
    "def no_year(row):\n",
    "    row['title'] = re.sub(r'\\s\\(\\d{4}\\)', '', row['title'])\n",
    "    return row\n",
    "\n",
    "def cluster_movies(movies_df, ratings_df):\n",
    "    \n",
    "    data_to_clustering = movies_df.drop(['release_date', 'video_release_date','IMDb_URL'], axis = 1)\n",
    "    data_to_clustering = data_to_clustering.apply(lambda row: no_year(row), axis = 1)        \n",
    "    \n",
    "    features = data_to_clustering  # Wybierz odpowiednie cechy\n",
    "\n",
    "    label_encoder = LabelEncoder()\n",
    "    features['title'] = label_encoder.fit_transform(features['title'])\n",
    "\n",
    "    scaler = StandardScaler()\n",
    "    features_scaled = scaler.fit_transform(features)\n",
    "\n",
    "    # Wybierz optymalną liczbę klastrów\n",
    "    optimal_clusters = 15  # Załóżmy, że optymalna liczba klastrów wynosi 3\n",
    "\n",
    "    # Wykorzystaj algorytm k-means\n",
    "    kmeans = KMeans(n_clusters=optimal_clusters, random_state=42)\n",
    "    data_to_clustering['cluster'] = kmeans.fit_predict(features_scaled)\n",
    "\n",
    "    merged = pd.merge(ratings_df, data_to_clustering[['movie_id','cluster']], how='left', on='movie_id')\n",
    "    return merged\n",
    "\n",
    "def cluster_movies_1(ratings_df):\n",
    "    ratings_df['cluster'] = 1\n",
    "    return ratings_df"
   ]
  },
  {
   "cell_type": "code",
   "execution_count": 4,
   "metadata": {},
   "outputs": [],
   "source": [
    "def cluster_users(users_info, test_users_info):\n",
    "    data_to_cluster = users_info[['age','gender','occupation']]\n",
    "    #kmode = KModes(n_clusters=5, init = \"random\", n_init = 5, verbose=1, random_state=42) \n",
    "    kmode = KModes(n_clusters=5, init = \"random\", n_init = 5, random_state=42) \n",
    "    clusters = kmode.fit_predict(data_to_cluster) \n",
    "    users_info['cluster'] = clusters\n",
    "    data_to_cluster_test = test_users_info[['age','gender','occupation']]\n",
    "    test_clusters = kmode.predict(data_to_cluster_test)\n",
    "    test_users_info['cluster'] = test_clusters\n",
    "    return(users_info, test_users_info)"
   ]
  },
  {
   "cell_type": "code",
   "execution_count": 5,
   "metadata": {},
   "outputs": [],
   "source": [
    "def find_test_users_indices(ratings):\n",
    "    \"\"\"\n",
    "    1. przerobic oceny na 1\n",
    "    2. obliczyc ile ocen kazdy wystawił\n",
    "    3. randomowo wybierac i dodawac do siebie elementy dopoki bedzie 20%\n",
    "    4. zapisyawac indeksy i dodac do nich 1. jak wiecej ludzi ma ta sama wartosc\n",
    "        to randomowo wybrac o kogo chodzi\n",
    "    \"\"\"\n",
    "    ratings = pd.read_csv(Path('..','..','res','data','ratings.csv'))\n",
    "    ratings = ratings.pivot(index='user_id',columns='movie_id',values='rating')\n",
    "    ratings = ratings.fillna(0)\n",
    "    ratings_np = ratings.to_numpy()\n",
    "    array_binary = (ratings_np != 0).astype(int)\n",
    "    actions_per_user = np.sum(array_binary, axis=1).tolist()\n",
    "    \n",
    "    number_of_ratings = 0\n",
    "    users_indices = []\n",
    "    while number_of_ratings < 2 * 10**4:\n",
    "            choosen = random.choice(actions_per_user)\n",
    "            indices = [index for index, value in enumerate(actions_per_user) if value == choosen]\n",
    "            index = random.choice(indices) + 1 # +1 bo użytkownicy są numerowani od 1\n",
    "            if number_of_ratings + choosen < 2.01 * 10**4 and index not in users_indices:\n",
    "                number_of_ratings += choosen\n",
    "                users_indices.append(index)\n",
    "            else:\n",
    "                number_of_ratings = number_of_ratings\n",
    "            \n",
    "    return np.sort(users_indices)"
   ]
  },
  {
   "cell_type": "code",
   "execution_count": 6,
   "metadata": {},
   "outputs": [
    {
     "data": {
      "text/plain": [
       "'IP_dash_movies = IP(train_set, items_clustered)\\nIP_dashhhh = IP_dash_movies[0]\\nIP_moviesss = IP_dash_movies[1]'"
      ]
     },
     "execution_count": 6,
     "metadata": {},
     "output_type": "execute_result"
    }
   ],
   "source": [
    "def IP(train_matrix, items_clustered):\n",
    "    train_numpy = train_matrix.to_numpy()\n",
    "    #szukanie IPmax\n",
    "    IP = np.sum(train_numpy, axis = 0) #sumowanie po kolumnach\n",
    "    IP = IP.reshape(1,-1)\n",
    "    IPmax = np.amax(IP)\n",
    "    IPmax_coordinates = np.argmax(IP) + 1 #bo filmy mają indeksy od 1\n",
    "    item_rating = pd.DataFrame({'rating':IP[0], 'movie_id': train_matrix.columns.to_list()})\n",
    "    \n",
    "    #znalezienie filmu o najwyższym IP\n",
    "    IPmax_movie_id = item_rating[item_rating['rating'] == IPmax]['movie_id'].values[0]\n",
    "    \n",
    "    #znalezienie clustra, gdzie znajduje się ten film i pozostałych należących tu filmów\n",
    "    IPmax_cluster = items_clustered[items_clustered['movie_id'] == IPmax_movie_id].iloc[0,4]#.loc[:,'cluster']\n",
    "    max_clust_movies = items_clustered[items_clustered['cluster'] == IPmax_cluster]['movie_id'].to_list()\n",
    "    max_clust_movies = list(set(max_clust_movies))\n",
    "\n",
    "    #obliczenie IP^\n",
    "    \"\"\"print('klaster IPmax:', IPmax_cluster)\n",
    "    print('filmy z max klastra:', np.array(max_clust_movies))\n",
    "    print(\"IPmax:\", IPmax)\n",
    "    print('id IPmax:', IPmax_movie_id)\"\"\"\n",
    "    \n",
    "    IP_dash = IP[:,np.array(max_clust_movies) - 1] / IPmax\n",
    "    return(IP_dash, max_clust_movies)\n",
    "\n",
    "\"\"\"IP_dash_movies = IP(train_set, items_clustered)\n",
    "IP_dashhhh = IP_dash_movies[0]\n",
    "IP_moviesss = IP_dash_movies[1]\"\"\""
   ]
  },
  {
   "cell_type": "code",
   "execution_count": 7,
   "metadata": {},
   "outputs": [
    {
     "data": {
      "text/plain": [
       "'UP_HP(train_set, test_set, users_test_clustered, users_train_clustered, 1, IP_dashhhh, 0.5, IP_moviesss, matrix).shape'"
      ]
     },
     "execution_count": 7,
     "metadata": {},
     "output_type": "execute_result"
    }
   ],
   "source": [
    "#def UP_HP(train_test_set, cluster, clust_data, IP_dash, alpha, selected_movies, ratings_matrix):\n",
    "def UP_HP(train_matrix, test_matrix, test_users_cl, train_users_cl, cluster, IP_dash, alpha, selected_movies, ratings_matrix):    \n",
    "    \n",
    "    #utworzenie macierzy, gdzie ratingi dane przez testowych są zerami\n",
    "    test_set_zero = test_matrix.copy()\n",
    "    test_set_zero[:] = 0 \n",
    "    train_and_test = pd.concat([train_matrix, test_set_zero], ignore_index=False)\n",
    "    train_and_test = train_and_test.sort_index()\n",
    "    \n",
    "    concated_users_clustered = pd.concat([train_users_cl,test_users_cl], ignore_index=True).sort_values('user_id')\n",
    "\n",
    "    #znalezienie użytkowników w danym clustrze\n",
    "    users_in_cluster = concated_users_clustered[concated_users_clustered['cluster'] == cluster]['user_id'].to_list()\n",
    "    users_in_cluster = list(set(users_in_cluster))\n",
    "    \n",
    "    #macierz ratingów tylko dla tych userów i filmów z clustra z IPmax\n",
    "    ratings_matrix_cluster = train_and_test.loc[train_and_test.index.isin(users_in_cluster),selected_movies].sort_index()\n",
    "    ratings_matrix_cluster_np = ratings_matrix_cluster.to_numpy()\n",
    "\n",
    "    #obliczanie user popularity\n",
    "    UP = np.sum(ratings_matrix_cluster_np, axis=1) ##sumowanie po wierszach\n",
    "    UP = UP.reshape(-1,1)\n",
    "    UPmax = np.amax(UP)\n",
    "    UPmax_coordinates = np.argmax(UP)\n",
    "    UP_dash = UP / UPmax\n",
    "    \n",
    "    # obliczenie UIP i hybrydy\n",
    "    UIP = UP_dash / IP_dash\n",
    "    #wstawienie zer tam gdzie w rzeczywistości uzytkownik treningowy nie ocenił danego filmu\n",
    "    UIP = np.where(ratings_matrix_cluster == 0, 0, UIP)\n",
    "    HP = alpha * IP_dash + (1-alpha) * np.sum(UIP,axis = 0).reshape(1,-1)\n",
    "    return(HP)\n",
    "    #return np.sum(pd.DataFrame(UIP, index=ratings_matrix_cluster.index, columns=ratings_matrix_cluster.columns).loc[243,9])\n",
    "\n",
    "\"\"\"test_set_zero = test_set.copy()\n",
    "test_set_zero[:] = 0\n",
    "concated_users_clustered = pd.concat([us_tr_cl,us_te_cl], ignore_index=True).sort_values('user_id')\n",
    "train_and_test = pd.concat([train_set, test_set_zero], ignore_index=False)\n",
    "train_and_test = train_and_test.sort_index()\"\"\"\n",
    "\n",
    "\"\"\"UP_HP(train_set, test_set, users_test_clustered, users_train_clustered, 1, IP_dashhhh, 0.5, IP_moviesss, matrix).shape\"\"\""
   ]
  },
  {
   "cell_type": "code",
   "execution_count": 8,
   "metadata": {},
   "outputs": [
    {
     "data": {
      "text/plain": [
       "'z = HP_for_clust(test_matrix, train_matrix, 0.5, ratings_matrix, us_te_cl, us_tr_cl, items_clusters)\\nlen(z[0][1][0]) #długość movies_from_max_cluster\\nz[0][1][1][-3] #3 od konca wartość z HP'"
      ]
     },
     "execution_count": 8,
     "metadata": {},
     "output_type": "execute_result"
    }
   ],
   "source": [
    "def HP_for_clust(test_matrix, train_matrix, alpha, ratings_matrix, test_users_cl, train_users_cl, items_cl):\n",
    "\n",
    "    #zapewnienie prawdiłowej kolejnosci wierszy i kolumn\n",
    "    train_matrix = train_matrix.sort_index()\n",
    "    test_matrix = test_matrix.sort_index()\n",
    "    \n",
    "    #podział na clustry\n",
    "    #users_clustered = cluster_users(users_train.copy())\n",
    "    #items_clustered = cluster_items(items_train.copy())\n",
    "    \n",
    "    \"\"\"users_clustered = pd.read_csv(Path('..','..','outputs','users_train_clustered.csv'))\n",
    "    #items_clustered = pd.read_csv(Path('..','..','outputs','items_train_clustered.csv'))\n",
    "    users_clustered['cluster'] = 1\n",
    "    #przypisanie nowych użytkowników do clustrów\n",
    "    kmode = KModes(n_clusters=5, init = \"random\", n_init = 5, random_state = 42)#verbose=1, random_state=42) \n",
    "    train_clusters = kmode.fit_predict(users_train)\n",
    "    test_users_clusters = kmode.predict(users_test)\n",
    "    test_users_clustered = users_test.copy() ##OCEŃ CZY KOPIOWANIE JEST KONIECZNE\n",
    "    test_users_clustered['cluster'] = test_users_clusters\"\"\"\n",
    "    \n",
    "    ### klastrowanie ###\n",
    "    test_users_clustered = test_users_cl\n",
    "    test_users_clusters = test_users_clustered['cluster'].values\n",
    "    aa = items_cl\n",
    "    #items_clustered = items_cl\n",
    "    \n",
    "    ## IP ##\n",
    "    IP_results = IP(train_matrix, aa)\n",
    "    IP_dash = IP_results[0]\n",
    "    movies_from_max_cluster = IP_results[1]\n",
    "    item_cluster_size = len(movies_from_max_cluster)\n",
    "    for_test={}\n",
    "    clust_HP = {}\n",
    "    for cl in list(set(test_users_clusters)):\n",
    "        HP = UP_HP(train_matrix, test_matrix, test_users_clustered, train_users_cl, cl, IP_dash, alpha, movies_from_max_cluster, ratings_matrix)[0].tolist()  \n",
    "        clust_HP[cl] = (movies_from_max_cluster, HP)\n",
    "        for_test[cl] = HP\n",
    "    df = pd.DataFrame(for_test)\n",
    "    df.to_csv('article_test.csv')\n",
    "    return(clust_HP, test_users_clustered) #słownik [cluster[]: [filmy z clustra gdzie IP_max, HP],\n",
    "                                            #testowi uzytkownicy z wygenerowanymi klastrami\n",
    "                                            #liczba filmow w max klastrze\n",
    "\n",
    "\"\"\"z = HP_for_clust(test_matrix, train_matrix, 0.5, ratings_matrix, us_te_cl, us_tr_cl, items_clusters)\n",
    "len(z[0][1][0]) #długość movies_from_max_cluster\n",
    "z[0][1][1][-3] #3 od konca wartość z HP\"\"\""
   ]
  },
  {
   "cell_type": "code",
   "execution_count": 9,
   "metadata": {},
   "outputs": [
    {
     "data": {
      "text/plain": [
       "'create_matrix_for_generated(test_set, train_set, 0.5, matrix, users_test_clustered, users_train_clustered, items_clustered)\\n'"
      ]
     },
     "execution_count": 9,
     "metadata": {},
     "output_type": "execute_result"
    }
   ],
   "source": [
    "def create_matrix_for_generated(test_matrix, train_matrix, alpha, ratings_matrix, test_users_cl, train_users_cl, items_cl):\n",
    "    HP_and_clust = HP_for_clust(test_matrix, train_matrix, alpha, ratings_matrix, test_users_cl, train_users_cl, items_cl)\n",
    "    movies_and_HP = HP_and_clust[0] #słownik [cluster]:[filmy do polecenia, HP]\n",
    "    \n",
    "    #dataframe testowych uzytkownikow z przypisanymi clustrami\n",
    "    test_users_with_clusters = HP_and_clust[1]\n",
    "    #dataframe pokazujący cluster i ilu uzytkowników do niego nalezy\n",
    "    num_users_in_clust = test_users_with_clusters.groupby('cluster').agg(users_number = ('cluster','size')).reset_index()\n",
    "    num_users_in_clust_dict = num_users_in_clust.set_index('cluster')['users_number'].to_dict() #liczba użytkowników w każdym clustrze\n",
    "\n",
    "    #słownik cluster: id uzytkownikow którzy do niego nalezą\n",
    "    users_per_cluster = test_users_with_clusters.groupby('cluster')['user_id'].apply(list).to_dict() #uzytkownicy (id) w kazdym clustrze\n",
    "\n",
    "    test_users_dictionary = {'user_id':[],\n",
    "                         'movie_id':[],\n",
    "                         'rating':[]}\n",
    "    \n",
    "    for cl in users_per_cluster.keys():\n",
    "        num_of_users = num_users_in_clust_dict[cl]\n",
    "        num_of_items = len(movies_and_HP[cl][0])\n",
    "\n",
    "        multiplied_users = users_per_cluster[cl] * num_of_items\n",
    "        multiplied_users.sort()\n",
    "        test_users_dictionary['user_id'].extend(multiplied_users)\n",
    "        #aktualizuję uzytkowników w clustrze powielając ich tyle razy ile jest przedmiotów, \n",
    "        #bo każdy musi dany przedmiot mieć oceniony\n",
    "        users_per_cluster[cl] = multiplied_users\n",
    "\n",
    "        #powielam przedmioty i oceny tyle razy ilu jest użytkowników\n",
    "        movies_and_HP[cl] = (movies_and_HP[cl][0] * num_of_users, movies_and_HP[cl][1] * num_of_users)\n",
    "        \n",
    "        test_users_dictionary['movie_id'].extend(movies_and_HP[cl][0])\n",
    "        test_users_dictionary['rating'].extend(movies_and_HP[cl][1])\n",
    "\n",
    "        test_ratings_HP = pd.DataFrame(test_users_dictionary)\n",
    "        test_ratings_HP.to_csv(Path('..','..','outputs','test_ratings.csv'), index=False)\n",
    "        test_ratings_matrix = test_ratings_HP.pivot(index='user_id', columns='movie_id', values='rating')\n",
    "        test_ratings_matrix = test_ratings_matrix.fillna(0)\n",
    "        test_ratings_matrix.to_csv(Path('..','..','check','test_mtrx_gen.csv'))\n",
    "\n",
    "    return test_ratings_matrix\n",
    "\n",
    "\"\"\"create_matrix_for_generated(test_set, train_set, 0.5, matrix, users_test_clustered, users_train_clustered, items_clustered)\n",
    "\"\"\""
   ]
  },
  {
   "cell_type": "code",
   "execution_count": 10,
   "metadata": {},
   "outputs": [],
   "source": [
    "def show_Hu(row):\n",
    "    #wybieranie id filmów, dla których w zbiorze testowym użytkownik wystawił jakieś oceny\n",
    "    nonzero = row[row > 0].index\n",
    "    nonzero_indices = nonzero.values\n",
    "    row['Hu'] = nonzero_indices.tolist()\n",
    "    return row"
   ]
  },
  {
   "cell_type": "code",
   "execution_count": 11,
   "metadata": {},
   "outputs": [],
   "source": [
    "def find_topN_items(users_ratings,N):\n",
    "    topN = users_ratings.nlargest(N) #N najlepiej ocenianych filmów (rating i indeks) \n",
    "                                        #zwraca się od najwiekszej do najmn wartosci\n",
    "    topN_indices = topN.index #indeksy tych najlepiej ocenianych\n",
    "    #wyrzucam z topN filmy, dla których wystawiono zero\n",
    "    top_nonzero_indices = users_ratings[topN_indices][users_ratings[topN_indices] > 0].index\n",
    "    users_ratings[\"topN_movies\"] = top_nonzero_indices.values\n",
    "    return users_ratings"
   ]
  },
  {
   "cell_type": "code",
   "execution_count": 12,
   "metadata": {},
   "outputs": [],
   "source": [
    "def NDCG(row,N):\n",
    "    generated = row.loc['topN_movies']\n",
    "    from_test_set = row.loc['Hu']\n",
    "    #sprawdzenie który n-ty element z TopN został irl oceniony przez użytkownika\n",
    "    gen_num = len(generated)\n",
    "    available_n = [index + 1  for index, element in enumerate(generated) if element in from_test_set]\n",
    "    DCG = sum([1 / math.log(1+n,2) for n in available_n])\n",
    "    IDCG = sum([1 / math.log(1+n,2) for n in range(1,gen_num+1)])\n",
    "    NDCG = DCG / IDCG\n",
    "    row['NDCG'] = NDCG\n",
    "    return row"
   ]
  },
  {
   "cell_type": "code",
   "execution_count": null,
   "metadata": {},
   "outputs": [],
   "source": []
  },
  {
   "cell_type": "code",
   "execution_count": 13,
   "metadata": {},
   "outputs": [],
   "source": [
    "def Precision_Recall(row,N):\n",
    "    generated = row.loc['topN_movies']\n",
    "    from_test_set = row.loc['Hu']\n",
    "    \n",
    "    intersection = sum([1 for element in generated if element in from_test_set])\n",
    "    N != len(generated)\n",
    "    Precision = intersection * 100 / len(generated)\n",
    "    row['Precision'] = Precision\n",
    "    \n",
    "    row['Recall'] = intersection * 100 / len(from_test_set)\n",
    "    return row"
   ]
  },
  {
   "cell_type": "code",
   "execution_count": null,
   "metadata": {},
   "outputs": [],
   "source": []
  },
  {
   "cell_type": "code",
   "execution_count": 14,
   "metadata": {},
   "outputs": [
    {
     "data": {
      "text/plain": [
       "'output_final = nazwepozniej(test_set, train_set, 0.5, 50, matrix, users_test_clustered, users_train_clustered, items_clustered)\\nhu1 = output_final[0]\\ngenerated1 = output_final[1]\\ntest_with_hu1 = output_final[2]\\ngeneratetopN1 = output_final[3]\\nmerged1 = output_final[4]'"
      ]
     },
     "execution_count": 14,
     "metadata": {},
     "output_type": "execute_result"
    }
   ],
   "source": [
    "def nazwepozniej(test_matrix, train_matrix, alpha, N, ratings_matrix, test_users_cl, train_users_cl, items_cl):\n",
    "    \n",
    "    generated = create_matrix_for_generated(test_matrix, train_matrix, alpha, ratings_matrix, test_users_cl, train_users_cl, items_cl)\n",
    "    test_with_Hu = test_matrix.apply(lambda row: show_Hu(row), axis = 1)\n",
    "    generated_topN = generated.apply(lambda row: find_topN_items(row, N), axis = 1)\n",
    "    Hu = test_with_Hu.iloc[:,[-1]].sort_index()\n",
    "    \n",
    "    merged = pd.merge(generated_topN, Hu, on='user_id', how = 'left')\n",
    "    merged = merged.apply(lambda row:  NDCG(row,N),axis = 1)\n",
    "    merged = merged.apply(lambda row:  Precision_Recall(row,N),axis = 1)\n",
    "    merged.to_csv('wygenerowane_rekomendacje.csv')\n",
    "    return(merged)\n",
    "\"\"\"output_final = nazwepozniej(test_set, train_set, 0.5, 50, matrix, users_test_clustered, users_train_clustered, items_clustered)\n",
    "hu1 = output_final[0]\n",
    "generated1 = output_final[1]\n",
    "test_with_hu1 = output_final[2]\n",
    "generatetopN1 = output_final[3]\n",
    "merged1 = output_final[4]\"\"\""
   ]
  },
  {
   "cell_type": "code",
   "execution_count": 27,
   "metadata": {},
   "outputs": [],
   "source": [
    "def main(ratings_data, items_data, users_data, alpha, N):\n",
    "\n",
    "    matrix = ratings_data.pivot(index='user_id', columns='movie_id', values='rating')\n",
    "    matrix = matrix.fillna(0)\n",
    "    data_to_kfold = matrix.index.values\n",
    "    kfold = KFold(n_splits=5, shuffle=True, random_state=42)\n",
    "    \n",
    "    NDCG_dict = {'H':[], 'I':[], 'U':[]}\n",
    "    Precision_dict = {'H':[], 'I':[], 'U':[]}\n",
    "    Recall_dict = {'H':[], 'I':[], 'U':[]}\n",
    "    for train_idx, test_idx in kfold.split(data_to_kfold):\n",
    "        train_users = train_idx + 1\n",
    "        test_users = test_idx + 1\n",
    "    \n",
    "        train_set = matrix[matrix.index.isin(train_users)]\n",
    "        test_set = matrix[matrix.index.isin(test_users)]\n",
    "        train_set.to_csv('train_5_last.csv')\n",
    "        test_set.to_csv('test_5_last.csv')\n",
    "        #train_set, test_set = train_test_split(matrix, test_size=0.2)#, random_state=42)\n",
    "        test_set.to_csv(Path('..','..','check','test_mtrx_org.csv'))\n",
    "        users_train = users_data[~users_data['user_id'].isin(test_set.index.to_list())]\n",
    "        users_test = users_data[users_data['user_id'].isin(test_set.index.to_list())]\n",
    "\n",
    "        items_train = ratings_data[~ratings_data['user_id'].isin(test_set.index.to_list())]\n",
    "        #jeżeli jakiś przedmiot wpadnie tylko do zbioru testowego to \"wypada\" z dalszych analiz\n",
    "        #ponieważ ma przed wejściem zimnych userów sume ratingów = 0, więc zgodnie z moją metodą\n",
    "        #nie zostanie zarekomendowany w topN filmów\n",
    "        items_test = ratings_data[ratings_data['user_id'].isin(test_set.index.to_list())]\n",
    "        items_test.to_csv(Path('..','..','check','ratings_test.csv'), index = False)\n",
    "        train_set.to_csv(Path('..','..','outputs','train_set.csv'), index = False)\n",
    "        test_set.to_csv(Path('..','..','outputs','test_set.csv'), index = False)\n",
    "\n",
    "        all_users_clustered = cluster_users(users_train.copy(), users_test.copy())\n",
    "        users_train_clustered = all_users_clustered[0]\n",
    "        users_test_clustered = all_users_clustered[1]\n",
    "        #items_clustered = cluster_items_SVD(items_train.copy())\n",
    "        #items_clustered = cluster_movies(items_data, items_train)\n",
    "        items_clustered = cluster_movies_1(items_train)\n",
    "        items_clustered['cluster'] = items_clustered['cluster'].astype(int)\n",
    "        final_matrix_Upop = nazwepozniej(test_set, train_set, 0, N, matrix, users_test_clustered, users_train_clustered, items_clustered)\n",
    "        final_matrix_Hpop = nazwepozniej(test_set, train_set, alpha, N, matrix, users_test_clustered, users_train_clustered, items_clustered)\n",
    "        final_matrix_Ipop = nazwepozniej(test_set, train_set, 1, N, matrix, users_test_clustered, users_train_clustered, items_clustered)\n",
    "\n",
    "        for df, model in [(final_matrix_Hpop,'H'),(final_matrix_Ipop,'I'),(final_matrix_Upop,'U')]:\n",
    "            print(model, df['NDCG'].mean())\n",
    "            NDCG_dict[model].append(df['NDCG'].mean())\n",
    "            Precision_dict[model].append(df['Precision'].mean())\n",
    "            Recall_dict[model].append(df['Recall'].mean())\n",
    "    NDCG_mean = []\n",
    "    Precision_mean = []\n",
    "    Recall_mean = []\n",
    "    print(NDCG_dict.keys())\n",
    "    for model in NDCG_dict.keys():\n",
    "        NDCG_mean.append(sum(NDCG_dict[model]) / len(NDCG_dict[model]))\n",
    "        Precision_mean.append(sum(Precision_dict[model]) / len(Precision_dict[model]))\n",
    "        Recall_mean.append(sum(Recall_dict[model]) / len(Recall_dict[model]))\n",
    "    #return(final_matrix_Hpop, final_matrix_Ipop, final_matrix_Upop)#, test_set, train_set)\n",
    "    return (NDCG_mean, Precision_mean, Recall_mean)"
   ]
  },
  {
   "cell_type": "code",
   "execution_count": null,
   "metadata": {},
   "outputs": [],
   "source": [
    "all_alpha = [main(ratings, movies, users, alpha, 10) for alpha in np.arange(0,1.1,0.1)]"
   ]
  },
  {
   "cell_type": "code",
   "execution_count": 22,
   "metadata": {},
   "outputs": [
    {
     "data": {
      "text/plain": [
       "5"
      ]
     },
     "execution_count": 22,
     "metadata": {},
     "output_type": "execute_result"
    }
   ],
   "source": [
    "len(all_alpha[0])"
   ]
  },
  {
   "cell_type": "code",
   "execution_count": 57,
   "metadata": {},
   "outputs": [],
   "source": [
    "def for_various_alpha(ratings, movies, users, N):\n",
    "    for_all_alpha = [main(ratings, movies, users, alpha, N) for alpha in np.arange(0,1.1,0.1)]\n",
    "    \n",
    "    NDCG_values = pd.DataFrame(np.array([for_all_alpha[i][0] for i in range(11)]), columns=['HPop', 'IPop', 'UPop']) #11, bo 11 razy wartość policzono\n",
    "    NDCG_values.to_csv(Path('..','..','outputs','NDCG_alpha.csv'), index=False)\n",
    "    Precision_values = pd.DataFrame(np.array([for_all_alpha[i][1] for i in range(11)]), columns=['HPop', 'IPop', 'UPop'])\n",
    "    Precision_values.to_csv(Path('..','..','outputs','Precision_alpha.csv'), index=False)\n",
    "    Recall_values = pd.DataFrame(np.array([for_all_alpha[i][2] for i in range(11)]), columns=['HPop', 'IPop', 'UPop'])\n",
    "    Recall_values.to_csv(Path('..','..','outputs','Recall_alpha.csv'), index=False)\n",
    "\n",
    "    for df in [NDCG_values, Precision_values, Recall_values]:\n",
    "        df['alpha'] = np.arange(0,1.1,0.1)\n",
    "        df = df[['alpha', 'HPop', 'IPop', 'UPop']]\n",
    "    "
   ]
  },
  {
   "cell_type": "code",
   "execution_count": 83,
   "metadata": {},
   "outputs": [
    {
     "name": "stderr",
     "output_type": "stream",
     "text": [
      "c:\\Users\\wypyc\\Desktop\\inżynierka\\project\\Cold-Start-Problem-in-RS\\.venv\\Lib\\site-packages\\sklearn\\cluster\\_kmeans.py:1416: FutureWarning: The default value of `n_init` will change from 10 to 'auto' in 1.4. Set the value of `n_init` explicitly to suppress the warning\n",
      "  super()._check_params_vs_input(X, default_n_init=10)\n"
     ]
    },
    {
     "name": "stdout",
     "output_type": "stream",
     "text": [
      "I 0.5032333480865583\n"
     ]
    },
    {
     "ename": "KeyboardInterrupt",
     "evalue": "",
     "output_type": "error",
     "traceback": [
      "\u001b[1;31m---------------------------------------------------------------------------\u001b[0m",
      "\u001b[1;31mKeyboardInterrupt\u001b[0m                         Traceback (most recent call last)",
      "\u001b[1;32mc:\\Users\\wypyc\\Desktop\\inżynierka\\project\\Cold-Start-Problem-in-RS\\notebooks\\popularity\\popularity_v2.ipynb Cell 21\u001b[0m line \u001b[0;36m1\n\u001b[1;32m----> <a href='vscode-notebook-cell:/c%3A/Users/wypyc/Desktop/in%C5%BCynierka/project/Cold-Start-Problem-in-RS/notebooks/popularity/popularity_v2.ipynb#X25sZmlsZQ%3D%3D?line=0'>1</a>\u001b[0m for_various_alpha(ratings, movies, users, \u001b[39m10\u001b[39;49m)\n",
      "\u001b[1;32mc:\\Users\\wypyc\\Desktop\\inżynierka\\project\\Cold-Start-Problem-in-RS\\notebooks\\popularity\\popularity_v2.ipynb Cell 21\u001b[0m line \u001b[0;36m2\n\u001b[0;32m      <a href='vscode-notebook-cell:/c%3A/Users/wypyc/Desktop/in%C5%BCynierka/project/Cold-Start-Problem-in-RS/notebooks/popularity/popularity_v2.ipynb#X25sZmlsZQ%3D%3D?line=0'>1</a>\u001b[0m \u001b[39mdef\u001b[39;00m \u001b[39mfor_various_alpha\u001b[39m(ratings, movies, users, N):\n\u001b[1;32m----> <a href='vscode-notebook-cell:/c%3A/Users/wypyc/Desktop/in%C5%BCynierka/project/Cold-Start-Problem-in-RS/notebooks/popularity/popularity_v2.ipynb#X25sZmlsZQ%3D%3D?line=1'>2</a>\u001b[0m     for_all_alpha \u001b[39m=\u001b[39m [main(ratings, movies, users, alpha, N) \u001b[39mfor\u001b[39;49;00m alpha \u001b[39min\u001b[39;49;00m np\u001b[39m.\u001b[39;49marange(\u001b[39m0\u001b[39;49m,\u001b[39m1.1\u001b[39;49m,\u001b[39m0.1\u001b[39;49m)]\n\u001b[0;32m      <a href='vscode-notebook-cell:/c%3A/Users/wypyc/Desktop/in%C5%BCynierka/project/Cold-Start-Problem-in-RS/notebooks/popularity/popularity_v2.ipynb#X25sZmlsZQ%3D%3D?line=3'>4</a>\u001b[0m     NDCG_values \u001b[39m=\u001b[39m pd\u001b[39m.\u001b[39mDataFrame(np\u001b[39m.\u001b[39marray([for_all_alpha[i][\u001b[39m0\u001b[39m] \u001b[39mfor\u001b[39;00m i \u001b[39min\u001b[39;00m \u001b[39mrange\u001b[39m(\u001b[39m11\u001b[39m)]), columns\u001b[39m=\u001b[39m[\u001b[39m'\u001b[39m\u001b[39mHPop\u001b[39m\u001b[39m'\u001b[39m, \u001b[39m'\u001b[39m\u001b[39mIPop\u001b[39m\u001b[39m'\u001b[39m, \u001b[39m'\u001b[39m\u001b[39mUPop\u001b[39m\u001b[39m'\u001b[39m]) \u001b[39m#11, bo 11 razy wartość policzono\u001b[39;00m\n\u001b[0;32m      <a href='vscode-notebook-cell:/c%3A/Users/wypyc/Desktop/in%C5%BCynierka/project/Cold-Start-Problem-in-RS/notebooks/popularity/popularity_v2.ipynb#X25sZmlsZQ%3D%3D?line=4'>5</a>\u001b[0m     NDCG_values\u001b[39m.\u001b[39mto_csv(Path(\u001b[39m'\u001b[39m\u001b[39m..\u001b[39m\u001b[39m'\u001b[39m,\u001b[39m'\u001b[39m\u001b[39m..\u001b[39m\u001b[39m'\u001b[39m,\u001b[39m'\u001b[39m\u001b[39moutputs\u001b[39m\u001b[39m'\u001b[39m,\u001b[39m'\u001b[39m\u001b[39mNDCG_alpha.csv\u001b[39m\u001b[39m'\u001b[39m), index\u001b[39m=\u001b[39m\u001b[39mFalse\u001b[39;00m)\n",
      "\u001b[1;32mc:\\Users\\wypyc\\Desktop\\inżynierka\\project\\Cold-Start-Problem-in-RS\\notebooks\\popularity\\popularity_v2.ipynb Cell 21\u001b[0m line \u001b[0;36m2\n\u001b[0;32m      <a href='vscode-notebook-cell:/c%3A/Users/wypyc/Desktop/in%C5%BCynierka/project/Cold-Start-Problem-in-RS/notebooks/popularity/popularity_v2.ipynb#X25sZmlsZQ%3D%3D?line=0'>1</a>\u001b[0m \u001b[39mdef\u001b[39;00m \u001b[39mfor_various_alpha\u001b[39m(ratings, movies, users, N):\n\u001b[1;32m----> <a href='vscode-notebook-cell:/c%3A/Users/wypyc/Desktop/in%C5%BCynierka/project/Cold-Start-Problem-in-RS/notebooks/popularity/popularity_v2.ipynb#X25sZmlsZQ%3D%3D?line=1'>2</a>\u001b[0m     for_all_alpha \u001b[39m=\u001b[39m [main(ratings, movies, users, alpha, N) \u001b[39mfor\u001b[39;00m alpha \u001b[39min\u001b[39;00m np\u001b[39m.\u001b[39marange(\u001b[39m0\u001b[39m,\u001b[39m1.1\u001b[39m,\u001b[39m0.1\u001b[39m)]\n\u001b[0;32m      <a href='vscode-notebook-cell:/c%3A/Users/wypyc/Desktop/in%C5%BCynierka/project/Cold-Start-Problem-in-RS/notebooks/popularity/popularity_v2.ipynb#X25sZmlsZQ%3D%3D?line=3'>4</a>\u001b[0m     NDCG_values \u001b[39m=\u001b[39m pd\u001b[39m.\u001b[39mDataFrame(np\u001b[39m.\u001b[39marray([for_all_alpha[i][\u001b[39m0\u001b[39m] \u001b[39mfor\u001b[39;00m i \u001b[39min\u001b[39;00m \u001b[39mrange\u001b[39m(\u001b[39m11\u001b[39m)]), columns\u001b[39m=\u001b[39m[\u001b[39m'\u001b[39m\u001b[39mHPop\u001b[39m\u001b[39m'\u001b[39m, \u001b[39m'\u001b[39m\u001b[39mIPop\u001b[39m\u001b[39m'\u001b[39m, \u001b[39m'\u001b[39m\u001b[39mUPop\u001b[39m\u001b[39m'\u001b[39m]) \u001b[39m#11, bo 11 razy wartość policzono\u001b[39;00m\n\u001b[0;32m      <a href='vscode-notebook-cell:/c%3A/Users/wypyc/Desktop/in%C5%BCynierka/project/Cold-Start-Problem-in-RS/notebooks/popularity/popularity_v2.ipynb#X25sZmlsZQ%3D%3D?line=4'>5</a>\u001b[0m     NDCG_values\u001b[39m.\u001b[39mto_csv(Path(\u001b[39m'\u001b[39m\u001b[39m..\u001b[39m\u001b[39m'\u001b[39m,\u001b[39m'\u001b[39m\u001b[39m..\u001b[39m\u001b[39m'\u001b[39m,\u001b[39m'\u001b[39m\u001b[39moutputs\u001b[39m\u001b[39m'\u001b[39m,\u001b[39m'\u001b[39m\u001b[39mNDCG_alpha.csv\u001b[39m\u001b[39m'\u001b[39m), index\u001b[39m=\u001b[39m\u001b[39mFalse\u001b[39;00m)\n",
      "\u001b[1;32mc:\\Users\\wypyc\\Desktop\\inżynierka\\project\\Cold-Start-Problem-in-RS\\notebooks\\popularity\\popularity_v2.ipynb Cell 21\u001b[0m line \u001b[0;36m3\n\u001b[0;32m     <a href='vscode-notebook-cell:/c%3A/Users/wypyc/Desktop/in%C5%BCynierka/project/Cold-Start-Problem-in-RS/notebooks/popularity/popularity_v2.ipynb#X25sZmlsZQ%3D%3D?line=29'>30</a>\u001b[0m train_set\u001b[39m.\u001b[39mto_csv(Path(\u001b[39m'\u001b[39m\u001b[39m..\u001b[39m\u001b[39m'\u001b[39m,\u001b[39m'\u001b[39m\u001b[39m..\u001b[39m\u001b[39m'\u001b[39m,\u001b[39m'\u001b[39m\u001b[39moutputs\u001b[39m\u001b[39m'\u001b[39m,\u001b[39m'\u001b[39m\u001b[39mtrain_set.csv\u001b[39m\u001b[39m'\u001b[39m), index \u001b[39m=\u001b[39m \u001b[39mFalse\u001b[39;00m)\n\u001b[0;32m     <a href='vscode-notebook-cell:/c%3A/Users/wypyc/Desktop/in%C5%BCynierka/project/Cold-Start-Problem-in-RS/notebooks/popularity/popularity_v2.ipynb#X25sZmlsZQ%3D%3D?line=30'>31</a>\u001b[0m test_set\u001b[39m.\u001b[39mto_csv(Path(\u001b[39m'\u001b[39m\u001b[39m..\u001b[39m\u001b[39m'\u001b[39m,\u001b[39m'\u001b[39m\u001b[39m..\u001b[39m\u001b[39m'\u001b[39m,\u001b[39m'\u001b[39m\u001b[39moutputs\u001b[39m\u001b[39m'\u001b[39m,\u001b[39m'\u001b[39m\u001b[39mtest_set.csv\u001b[39m\u001b[39m'\u001b[39m), index \u001b[39m=\u001b[39m \u001b[39mFalse\u001b[39;00m)\n\u001b[1;32m---> <a href='vscode-notebook-cell:/c%3A/Users/wypyc/Desktop/in%C5%BCynierka/project/Cold-Start-Problem-in-RS/notebooks/popularity/popularity_v2.ipynb#X25sZmlsZQ%3D%3D?line=32'>33</a>\u001b[0m all_users_clustered \u001b[39m=\u001b[39m cluster_users(users_train\u001b[39m.\u001b[39;49mcopy(), users_test\u001b[39m.\u001b[39;49mcopy())\n\u001b[0;32m     <a href='vscode-notebook-cell:/c%3A/Users/wypyc/Desktop/in%C5%BCynierka/project/Cold-Start-Problem-in-RS/notebooks/popularity/popularity_v2.ipynb#X25sZmlsZQ%3D%3D?line=33'>34</a>\u001b[0m users_train_clustered \u001b[39m=\u001b[39m all_users_clustered[\u001b[39m0\u001b[39m]\n\u001b[0;32m     <a href='vscode-notebook-cell:/c%3A/Users/wypyc/Desktop/in%C5%BCynierka/project/Cold-Start-Problem-in-RS/notebooks/popularity/popularity_v2.ipynb#X25sZmlsZQ%3D%3D?line=34'>35</a>\u001b[0m users_test_clustered \u001b[39m=\u001b[39m all_users_clustered[\u001b[39m1\u001b[39m]\n",
      "\u001b[1;32mc:\\Users\\wypyc\\Desktop\\inżynierka\\project\\Cold-Start-Problem-in-RS\\notebooks\\popularity\\popularity_v2.ipynb Cell 21\u001b[0m line \u001b[0;36m5\n\u001b[0;32m      <a href='vscode-notebook-cell:/c%3A/Users/wypyc/Desktop/in%C5%BCynierka/project/Cold-Start-Problem-in-RS/notebooks/popularity/popularity_v2.ipynb#X25sZmlsZQ%3D%3D?line=2'>3</a>\u001b[0m \u001b[39m#kmode = KModes(n_clusters=5, init = \"random\", n_init = 5, verbose=1, random_state=42) \u001b[39;00m\n\u001b[0;32m      <a href='vscode-notebook-cell:/c%3A/Users/wypyc/Desktop/in%C5%BCynierka/project/Cold-Start-Problem-in-RS/notebooks/popularity/popularity_v2.ipynb#X25sZmlsZQ%3D%3D?line=3'>4</a>\u001b[0m kmode \u001b[39m=\u001b[39m KModes(n_clusters\u001b[39m=\u001b[39m\u001b[39m5\u001b[39m, init \u001b[39m=\u001b[39m \u001b[39m\"\u001b[39m\u001b[39mrandom\u001b[39m\u001b[39m\"\u001b[39m, n_init \u001b[39m=\u001b[39m \u001b[39m5\u001b[39m, random_state\u001b[39m=\u001b[39m\u001b[39m42\u001b[39m) \n\u001b[1;32m----> <a href='vscode-notebook-cell:/c%3A/Users/wypyc/Desktop/in%C5%BCynierka/project/Cold-Start-Problem-in-RS/notebooks/popularity/popularity_v2.ipynb#X25sZmlsZQ%3D%3D?line=4'>5</a>\u001b[0m clusters \u001b[39m=\u001b[39m kmode\u001b[39m.\u001b[39;49mfit_predict(data_to_cluster) \n\u001b[0;32m      <a href='vscode-notebook-cell:/c%3A/Users/wypyc/Desktop/in%C5%BCynierka/project/Cold-Start-Problem-in-RS/notebooks/popularity/popularity_v2.ipynb#X25sZmlsZQ%3D%3D?line=5'>6</a>\u001b[0m users_info[\u001b[39m'\u001b[39m\u001b[39mcluster\u001b[39m\u001b[39m'\u001b[39m] \u001b[39m=\u001b[39m clusters\n\u001b[0;32m      <a href='vscode-notebook-cell:/c%3A/Users/wypyc/Desktop/in%C5%BCynierka/project/Cold-Start-Problem-in-RS/notebooks/popularity/popularity_v2.ipynb#X25sZmlsZQ%3D%3D?line=6'>7</a>\u001b[0m data_to_cluster_test \u001b[39m=\u001b[39m test_users_info[[\u001b[39m'\u001b[39m\u001b[39mage\u001b[39m\u001b[39m'\u001b[39m,\u001b[39m'\u001b[39m\u001b[39mgender\u001b[39m\u001b[39m'\u001b[39m,\u001b[39m'\u001b[39m\u001b[39moccupation\u001b[39m\u001b[39m'\u001b[39m]]\n",
      "File \u001b[1;32mc:\\Users\\wypyc\\Desktop\\inżynierka\\project\\Cold-Start-Problem-in-RS\\.venv\\Lib\\site-packages\\kmodes\\kmodes.py:154\u001b[0m, in \u001b[0;36mKModes.fit_predict\u001b[1;34m(self, X, y, **kwargs)\u001b[0m\n\u001b[0;32m    148\u001b[0m \u001b[39mdef\u001b[39;00m \u001b[39mfit_predict\u001b[39m(\u001b[39mself\u001b[39m, X, y\u001b[39m=\u001b[39m\u001b[39mNone\u001b[39;00m, \u001b[39m*\u001b[39m\u001b[39m*\u001b[39mkwargs):\n\u001b[0;32m    149\u001b[0m \u001b[39m    \u001b[39m\u001b[39m\"\"\"Compute cluster centroids and predict cluster index for each sample.\u001b[39;00m\n\u001b[0;32m    150\u001b[0m \n\u001b[0;32m    151\u001b[0m \u001b[39m    Convenience method; equivalent to calling fit(X) followed by\u001b[39;00m\n\u001b[0;32m    152\u001b[0m \u001b[39m    predict(X).\u001b[39;00m\n\u001b[0;32m    153\u001b[0m \u001b[39m    \"\"\"\u001b[39;00m\n\u001b[1;32m--> 154\u001b[0m     \u001b[39mreturn\u001b[39;00m \u001b[39mself\u001b[39;49m\u001b[39m.\u001b[39;49mfit(X, \u001b[39m*\u001b[39;49m\u001b[39m*\u001b[39;49mkwargs)\u001b[39m.\u001b[39mpredict(X, \u001b[39m*\u001b[39m\u001b[39m*\u001b[39mkwargs)\n",
      "File \u001b[1;32mc:\\Users\\wypyc\\Desktop\\inżynierka\\project\\Cold-Start-Problem-in-RS\\.venv\\Lib\\site-packages\\kmodes\\kmodes.py:134\u001b[0m, in \u001b[0;36mKModes.fit\u001b[1;34m(self, X, y, sample_weight, **kwargs)\u001b[0m\n\u001b[0;32m    129\u001b[0m random_state \u001b[39m=\u001b[39m check_random_state(\u001b[39mself\u001b[39m\u001b[39m.\u001b[39mrandom_state)\n\u001b[0;32m    130\u001b[0m _validate_sample_weight(sample_weight, n_samples\u001b[39m=\u001b[39mX\u001b[39m.\u001b[39mshape[\u001b[39m0\u001b[39m],\n\u001b[0;32m    131\u001b[0m                         n_clusters\u001b[39m=\u001b[39m\u001b[39mself\u001b[39m\u001b[39m.\u001b[39mn_clusters)\n\u001b[0;32m    133\u001b[0m \u001b[39mself\u001b[39m\u001b[39m.\u001b[39m_enc_cluster_centroids, \u001b[39mself\u001b[39m\u001b[39m.\u001b[39m_enc_map, \u001b[39mself\u001b[39m\u001b[39m.\u001b[39mlabels_, \u001b[39mself\u001b[39m\u001b[39m.\u001b[39mcost_, \\\n\u001b[1;32m--> 134\u001b[0m \u001b[39mself\u001b[39m\u001b[39m.\u001b[39mn_iter_, \u001b[39mself\u001b[39m\u001b[39m.\u001b[39mepoch_costs_ \u001b[39m=\u001b[39m k_modes(\n\u001b[0;32m    135\u001b[0m     X,\n\u001b[0;32m    136\u001b[0m     \u001b[39mself\u001b[39;49m\u001b[39m.\u001b[39;49mn_clusters,\n\u001b[0;32m    137\u001b[0m     \u001b[39mself\u001b[39;49m\u001b[39m.\u001b[39;49mmax_iter,\n\u001b[0;32m    138\u001b[0m     \u001b[39mself\u001b[39;49m\u001b[39m.\u001b[39;49mcat_dissim,\n\u001b[0;32m    139\u001b[0m     \u001b[39mself\u001b[39;49m\u001b[39m.\u001b[39;49minit,\n\u001b[0;32m    140\u001b[0m     \u001b[39mself\u001b[39;49m\u001b[39m.\u001b[39;49mn_init,\n\u001b[0;32m    141\u001b[0m     \u001b[39mself\u001b[39;49m\u001b[39m.\u001b[39;49mverbose,\n\u001b[0;32m    142\u001b[0m     random_state,\n\u001b[0;32m    143\u001b[0m     \u001b[39mself\u001b[39;49m\u001b[39m.\u001b[39;49mn_jobs,\n\u001b[0;32m    144\u001b[0m     sample_weight\n\u001b[0;32m    145\u001b[0m )\n\u001b[0;32m    146\u001b[0m \u001b[39mreturn\u001b[39;00m \u001b[39mself\u001b[39m\n",
      "File \u001b[1;32mc:\\Users\\wypyc\\Desktop\\inżynierka\\project\\Cold-Start-Problem-in-RS\\.venv\\Lib\\site-packages\\kmodes\\kmodes.py:241\u001b[0m, in \u001b[0;36mk_modes\u001b[1;34m(X, n_clusters, max_iter, dissim, init, n_init, verbose, random_state, n_jobs, sample_weight)\u001b[0m\n\u001b[0;32m    239\u001b[0m \u001b[39mif\u001b[39;00m n_jobs \u001b[39m==\u001b[39m \u001b[39m1\u001b[39m:\n\u001b[0;32m    240\u001b[0m     \u001b[39mfor\u001b[39;00m init_no \u001b[39min\u001b[39;00m \u001b[39mrange\u001b[39m(n_init):\n\u001b[1;32m--> 241\u001b[0m         results\u001b[39m.\u001b[39mappend(_k_modes_single(\n\u001b[0;32m    242\u001b[0m             X, n_clusters, n_points, n_attrs, max_iter, dissim, init, init_no,\n\u001b[0;32m    243\u001b[0m             verbose, seeds[init_no], sample_weight\n\u001b[0;32m    244\u001b[0m         ))\n\u001b[0;32m    245\u001b[0m \u001b[39melse\u001b[39;00m:\n\u001b[0;32m    246\u001b[0m     results \u001b[39m=\u001b[39m Parallel(n_jobs\u001b[39m=\u001b[39mn_jobs, verbose\u001b[39m=\u001b[39m\u001b[39m0\u001b[39m)(\n\u001b[0;32m    247\u001b[0m         delayed(_k_modes_single)(X, n_clusters, n_points, n_attrs, max_iter,\n\u001b[0;32m    248\u001b[0m                                  dissim, init, init_no, verbose, seed, sample_weight)\n\u001b[0;32m    249\u001b[0m         \u001b[39mfor\u001b[39;00m init_no, seed \u001b[39min\u001b[39;00m \u001b[39menumerate\u001b[39m(seeds))\n",
      "File \u001b[1;32mc:\\Users\\wypyc\\Desktop\\inżynierka\\project\\Cold-Start-Problem-in-RS\\.venv\\Lib\\site-packages\\kmodes\\kmodes.py:318\u001b[0m, in \u001b[0;36m_k_modes_single\u001b[1;34m(X, n_clusters, n_points, n_attrs, max_iter, dissim, init, init_no, verbose, random_state, sample_weight)\u001b[0m\n\u001b[0;32m    315\u001b[0m labels \u001b[39m=\u001b[39m \u001b[39mNone\u001b[39;00m\n\u001b[0;32m    316\u001b[0m converged \u001b[39m=\u001b[39m \u001b[39mFalse\u001b[39;00m\n\u001b[1;32m--> 318\u001b[0m _, cost \u001b[39m=\u001b[39m labels_cost(X, centroids, dissim, membship, sample_weight)\n\u001b[0;32m    320\u001b[0m epoch_costs \u001b[39m=\u001b[39m [cost]\n\u001b[0;32m    321\u001b[0m \u001b[39mwhile\u001b[39;00m itr \u001b[39m<\u001b[39m max_iter \u001b[39mand\u001b[39;00m \u001b[39mnot\u001b[39;00m converged:\n",
      "File \u001b[1;32mc:\\Users\\wypyc\\Desktop\\inżynierka\\project\\Cold-Start-Problem-in-RS\\.venv\\Lib\\site-packages\\kmodes\\kmodes.py:203\u001b[0m, in \u001b[0;36mlabels_cost\u001b[1;34m(X, centroids, dissim, membship, sample_weight)\u001b[0m\n\u001b[0;32m    201\u001b[0m weight \u001b[39m=\u001b[39m sample_weight[ipoint] \u001b[39mif\u001b[39;00m sample_weight \u001b[39mis\u001b[39;00m \u001b[39mnot\u001b[39;00m \u001b[39mNone\u001b[39;00m \u001b[39melse\u001b[39;00m \u001b[39m1\u001b[39m\n\u001b[0;32m    202\u001b[0m diss \u001b[39m=\u001b[39m dissim(centroids, curpoint, X\u001b[39m=\u001b[39mX, membship\u001b[39m=\u001b[39mmembship)\n\u001b[1;32m--> 203\u001b[0m clust \u001b[39m=\u001b[39m np\u001b[39m.\u001b[39;49margmin(diss)\n\u001b[0;32m    204\u001b[0m labels[ipoint] \u001b[39m=\u001b[39m clust\n\u001b[0;32m    205\u001b[0m cost \u001b[39m+\u001b[39m\u001b[39m=\u001b[39m diss[clust] \u001b[39m*\u001b[39m weight\n",
      "File \u001b[1;32mc:\\Users\\wypyc\\Desktop\\inżynierka\\project\\Cold-Start-Problem-in-RS\\.venv\\Lib\\site-packages\\numpy\\core\\fromnumeric.py:1325\u001b[0m, in \u001b[0;36margmin\u001b[1;34m(a, axis, out, keepdims)\u001b[0m\n\u001b[0;32m   1238\u001b[0m \u001b[39m\u001b[39m\u001b[39m\"\"\"\u001b[39;00m\n\u001b[0;32m   1239\u001b[0m \u001b[39mReturns the indices of the minimum values along an axis.\u001b[39;00m\n\u001b[0;32m   1240\u001b[0m \n\u001b[1;32m   (...)\u001b[0m\n\u001b[0;32m   1322\u001b[0m \u001b[39m(2, 1, 4)\u001b[39;00m\n\u001b[0;32m   1323\u001b[0m \u001b[39m\"\"\"\u001b[39;00m\n\u001b[0;32m   1324\u001b[0m kwds \u001b[39m=\u001b[39m {\u001b[39m'\u001b[39m\u001b[39mkeepdims\u001b[39m\u001b[39m'\u001b[39m: keepdims} \u001b[39mif\u001b[39;00m keepdims \u001b[39mis\u001b[39;00m \u001b[39mnot\u001b[39;00m np\u001b[39m.\u001b[39m_NoValue \u001b[39melse\u001b[39;00m {}\n\u001b[1;32m-> 1325\u001b[0m \u001b[39mreturn\u001b[39;00m _wrapfunc(a, \u001b[39m'\u001b[39;49m\u001b[39margmin\u001b[39;49m\u001b[39m'\u001b[39;49m, axis\u001b[39m=\u001b[39;49maxis, out\u001b[39m=\u001b[39;49mout, \u001b[39m*\u001b[39;49m\u001b[39m*\u001b[39;49mkwds)\n",
      "File \u001b[1;32mc:\\Users\\wypyc\\Desktop\\inżynierka\\project\\Cold-Start-Problem-in-RS\\.venv\\Lib\\site-packages\\numpy\\core\\fromnumeric.py:59\u001b[0m, in \u001b[0;36m_wrapfunc\u001b[1;34m(obj, method, *args, **kwds)\u001b[0m\n\u001b[0;32m     56\u001b[0m     \u001b[39mreturn\u001b[39;00m _wrapit(obj, method, \u001b[39m*\u001b[39margs, \u001b[39m*\u001b[39m\u001b[39m*\u001b[39mkwds)\n\u001b[0;32m     58\u001b[0m \u001b[39mtry\u001b[39;00m:\n\u001b[1;32m---> 59\u001b[0m     \u001b[39mreturn\u001b[39;00m bound(\u001b[39m*\u001b[39;49margs, \u001b[39m*\u001b[39;49m\u001b[39m*\u001b[39;49mkwds)\n\u001b[0;32m     60\u001b[0m \u001b[39mexcept\u001b[39;00m \u001b[39mTypeError\u001b[39;00m:\n\u001b[0;32m     61\u001b[0m     \u001b[39m# A TypeError occurs if the object does have such a method in its\u001b[39;00m\n\u001b[0;32m     62\u001b[0m     \u001b[39m# class, but its signature is not identical to that of NumPy's. This\u001b[39;00m\n\u001b[1;32m   (...)\u001b[0m\n\u001b[0;32m     66\u001b[0m     \u001b[39m# Call _wrapit from within the except clause to ensure a potential\u001b[39;00m\n\u001b[0;32m     67\u001b[0m     \u001b[39m# exception has a traceback chain.\u001b[39;00m\n\u001b[0;32m     68\u001b[0m     \u001b[39mreturn\u001b[39;00m _wrapit(obj, method, \u001b[39m*\u001b[39margs, \u001b[39m*\u001b[39m\u001b[39m*\u001b[39mkwds)\n",
      "\u001b[1;31mKeyboardInterrupt\u001b[0m: "
     ]
    }
   ],
   "source": [
    "for_various_alpha(ratings, movies, users, 10)"
   ]
  },
  {
   "cell_type": "code",
   "execution_count": 28,
   "metadata": {},
   "outputs": [],
   "source": [
    "def for_various_N(ratings, movies, users):\n",
    "    for_all_N =[main(ratings, movies, users, 0.6, N) for N in range(1,16)]\n",
    "    \n",
    "    NDCG_values = pd.DataFrame(np.array([for_all_N[i][0] for i in range(15)]), columns=['HPop', 'IPop', 'UPop'])\n",
    "    NDCG_values.to_csv(Path('..','..','outputs','NDCG.csv'), index=False)\n",
    "    Precision_values = pd.DataFrame(np.array([for_all_N[i][1] for i in range(15)]), columns=['HPop', 'IPop', 'UPop'])\n",
    "    Precision_values.to_csv(Path('..','..','outputs','Precision.csv'), index=False)\n",
    "    Recall_values = pd.DataFrame(np.array([for_all_N[i][2] for i in range(15)]), columns=['HPop', 'IPop', 'UPop'])\n",
    "    Recall_values.to_csv(Path('..','..','outputs','Recall.csv'), index=False)\n",
    "\n",
    "    for df in [NDCG_values, Precision_values, Recall_values]:\n",
    "        df['N'] = df.index.values + 1\n",
    "        df = df[['N', 'HPop', 'IPop', 'UPop']]\n",
    "    \n",
    "    fig, (ax1, ax2) = plt.subplots(2, 1, figsize=(8, 10))\n",
    "    \n",
    "    ax1.scatter(NDCG_values['N'], NDCG_values['HPop'], label = 'HPop', color = 'blue')\n",
    "    ax1.scatter(NDCG_values['N'], NDCG_values['IPop'], label = 'IPop', color = 'red')\n",
    "    ax1.scatter(NDCG_values['N'], NDCG_values['UPop'], label = 'UPop', color = 'green')\n",
    "    ax1.legend()\n",
    "    #ax1.xlabel('N')\n",
    "    #ax1.ylabel('NDCG@N')\n",
    "    ax1.grid()\n",
    "    \n",
    "    ax2.scatter(Recall_values['HPop'], Precision_values['HPop'], label = 'HPop', color = 'blue', marker = 'o')\n",
    "    ax2.scatter(Recall_values['UPop'], Precision_values['UPop'], label = 'UPop', color = 'green', marker = 'o')\n",
    "    ax2.scatter(Recall_values['IPop'], Precision_values['IPop'], label = 'IPop', color = 'red', marker = 'o')\n",
    "    ax2.legend()\n",
    "    #ax2.xlabel('Precision')\n",
    "    #ax2.ylabel('Recall')\n",
    "    ax2.grid()\n",
    "    \n",
    "    plt.tight_layout()  # Dostosuj układ, aby uniknąć nakładania się tytułów i osi\n",
    "    plt.show()"
   ]
  },
  {
   "cell_type": "code",
   "execution_count": 29,
   "metadata": {},
   "outputs": [
    {
     "name": "stderr",
     "output_type": "stream",
     "text": [
      "C:\\Users\\wypyc\\AppData\\Local\\Temp\\ipykernel_16060\\1826413549.py:66: SettingWithCopyWarning: \n",
      "A value is trying to be set on a copy of a slice from a DataFrame.\n",
      "Try using .loc[row_indexer,col_indexer] = value instead\n",
      "\n",
      "See the caveats in the documentation: https://pandas.pydata.org/pandas-docs/stable/user_guide/indexing.html#returning-a-view-versus-a-copy\n",
      "  ratings_df['cluster'] = 1\n",
      "C:\\Users\\wypyc\\AppData\\Local\\Temp\\ipykernel_16060\\2754067708.py:39: SettingWithCopyWarning: \n",
      "A value is trying to be set on a copy of a slice from a DataFrame.\n",
      "Try using .loc[row_indexer,col_indexer] = value instead\n",
      "\n",
      "See the caveats in the documentation: https://pandas.pydata.org/pandas-docs/stable/user_guide/indexing.html#returning-a-view-versus-a-copy\n",
      "  items_clustered['cluster'] = items_clustered['cluster'].astype(int)\n"
     ]
    },
    {
     "name": "stdout",
     "output_type": "stream",
     "text": [
      "H 0.0\n",
      "I 0.6137566137566137\n",
      "U 0.0\n"
     ]
    },
    {
     "name": "stderr",
     "output_type": "stream",
     "text": [
      "C:\\Users\\wypyc\\AppData\\Local\\Temp\\ipykernel_16060\\1826413549.py:66: SettingWithCopyWarning: \n",
      "A value is trying to be set on a copy of a slice from a DataFrame.\n",
      "Try using .loc[row_indexer,col_indexer] = value instead\n",
      "\n",
      "See the caveats in the documentation: https://pandas.pydata.org/pandas-docs/stable/user_guide/indexing.html#returning-a-view-versus-a-copy\n",
      "  ratings_df['cluster'] = 1\n",
      "C:\\Users\\wypyc\\AppData\\Local\\Temp\\ipykernel_16060\\2754067708.py:39: SettingWithCopyWarning: \n",
      "A value is trying to be set on a copy of a slice from a DataFrame.\n",
      "Try using .loc[row_indexer,col_indexer] = value instead\n",
      "\n",
      "See the caveats in the documentation: https://pandas.pydata.org/pandas-docs/stable/user_guide/indexing.html#returning-a-view-versus-a-copy\n",
      "  items_clustered['cluster'] = items_clustered['cluster'].astype(int)\n"
     ]
    },
    {
     "name": "stdout",
     "output_type": "stream",
     "text": [
      "H 0.005291005291005291\n",
      "I 0.6666666666666666\n",
      "U 0.005291005291005291\n"
     ]
    },
    {
     "name": "stderr",
     "output_type": "stream",
     "text": [
      "C:\\Users\\wypyc\\AppData\\Local\\Temp\\ipykernel_16060\\1826413549.py:66: SettingWithCopyWarning: \n",
      "A value is trying to be set on a copy of a slice from a DataFrame.\n",
      "Try using .loc[row_indexer,col_indexer] = value instead\n",
      "\n",
      "See the caveats in the documentation: https://pandas.pydata.org/pandas-docs/stable/user_guide/indexing.html#returning-a-view-versus-a-copy\n",
      "  ratings_df['cluster'] = 1\n",
      "C:\\Users\\wypyc\\AppData\\Local\\Temp\\ipykernel_16060\\2754067708.py:39: SettingWithCopyWarning: \n",
      "A value is trying to be set on a copy of a slice from a DataFrame.\n",
      "Try using .loc[row_indexer,col_indexer] = value instead\n",
      "\n",
      "See the caveats in the documentation: https://pandas.pydata.org/pandas-docs/stable/user_guide/indexing.html#returning-a-view-versus-a-copy\n",
      "  items_clustered['cluster'] = items_clustered['cluster'].astype(int)\n"
     ]
    },
    {
     "name": "stdout",
     "output_type": "stream",
     "text": [
      "H 0.005291005291005291\n",
      "I 0.5873015873015873\n",
      "U 0.005291005291005291\n"
     ]
    },
    {
     "name": "stderr",
     "output_type": "stream",
     "text": [
      "C:\\Users\\wypyc\\AppData\\Local\\Temp\\ipykernel_16060\\1826413549.py:66: SettingWithCopyWarning: \n",
      "A value is trying to be set on a copy of a slice from a DataFrame.\n",
      "Try using .loc[row_indexer,col_indexer] = value instead\n",
      "\n",
      "See the caveats in the documentation: https://pandas.pydata.org/pandas-docs/stable/user_guide/indexing.html#returning-a-view-versus-a-copy\n",
      "  ratings_df['cluster'] = 1\n",
      "C:\\Users\\wypyc\\AppData\\Local\\Temp\\ipykernel_16060\\2754067708.py:39: SettingWithCopyWarning: \n",
      "A value is trying to be set on a copy of a slice from a DataFrame.\n",
      "Try using .loc[row_indexer,col_indexer] = value instead\n",
      "\n",
      "See the caveats in the documentation: https://pandas.pydata.org/pandas-docs/stable/user_guide/indexing.html#returning-a-view-versus-a-copy\n",
      "  items_clustered['cluster'] = items_clustered['cluster'].astype(int)\n"
     ]
    },
    {
     "name": "stdout",
     "output_type": "stream",
     "text": [
      "H 0.0\n",
      "I 0.6329787234042553\n",
      "U 0.0\n"
     ]
    },
    {
     "name": "stderr",
     "output_type": "stream",
     "text": [
      "C:\\Users\\wypyc\\AppData\\Local\\Temp\\ipykernel_16060\\1826413549.py:66: SettingWithCopyWarning: \n",
      "A value is trying to be set on a copy of a slice from a DataFrame.\n",
      "Try using .loc[row_indexer,col_indexer] = value instead\n",
      "\n",
      "See the caveats in the documentation: https://pandas.pydata.org/pandas-docs/stable/user_guide/indexing.html#returning-a-view-versus-a-copy\n",
      "  ratings_df['cluster'] = 1\n",
      "C:\\Users\\wypyc\\AppData\\Local\\Temp\\ipykernel_16060\\2754067708.py:39: SettingWithCopyWarning: \n",
      "A value is trying to be set on a copy of a slice from a DataFrame.\n",
      "Try using .loc[row_indexer,col_indexer] = value instead\n",
      "\n",
      "See the caveats in the documentation: https://pandas.pydata.org/pandas-docs/stable/user_guide/indexing.html#returning-a-view-versus-a-copy\n",
      "  items_clustered['cluster'] = items_clustered['cluster'].astype(int)\n"
     ]
    },
    {
     "name": "stdout",
     "output_type": "stream",
     "text": [
      "H 0.0\n",
      "I 0.5904255319148937\n",
      "U 0.0\n",
      "dict_keys(['H', 'I', 'U'])\n"
     ]
    },
    {
     "name": "stderr",
     "output_type": "stream",
     "text": [
      "C:\\Users\\wypyc\\AppData\\Local\\Temp\\ipykernel_16060\\1826413549.py:66: SettingWithCopyWarning: \n",
      "A value is trying to be set on a copy of a slice from a DataFrame.\n",
      "Try using .loc[row_indexer,col_indexer] = value instead\n",
      "\n",
      "See the caveats in the documentation: https://pandas.pydata.org/pandas-docs/stable/user_guide/indexing.html#returning-a-view-versus-a-copy\n",
      "  ratings_df['cluster'] = 1\n",
      "C:\\Users\\wypyc\\AppData\\Local\\Temp\\ipykernel_16060\\2754067708.py:39: SettingWithCopyWarning: \n",
      "A value is trying to be set on a copy of a slice from a DataFrame.\n",
      "Try using .loc[row_indexer,col_indexer] = value instead\n",
      "\n",
      "See the caveats in the documentation: https://pandas.pydata.org/pandas-docs/stable/user_guide/indexing.html#returning-a-view-versus-a-copy\n",
      "  items_clustered['cluster'] = items_clustered['cluster'].astype(int)\n"
     ]
    },
    {
     "name": "stdout",
     "output_type": "stream",
     "text": [
      "H 0.0020468402499182097\n",
      "I 0.5830540100078405\n",
      "U 0.0020468402499182097\n"
     ]
    },
    {
     "name": "stderr",
     "output_type": "stream",
     "text": [
      "C:\\Users\\wypyc\\AppData\\Local\\Temp\\ipykernel_16060\\1826413549.py:66: SettingWithCopyWarning: \n",
      "A value is trying to be set on a copy of a slice from a DataFrame.\n",
      "Try using .loc[row_indexer,col_indexer] = value instead\n",
      "\n",
      "See the caveats in the documentation: https://pandas.pydata.org/pandas-docs/stable/user_guide/indexing.html#returning-a-view-versus-a-copy\n",
      "  ratings_df['cluster'] = 1\n",
      "C:\\Users\\wypyc\\AppData\\Local\\Temp\\ipykernel_16060\\2754067708.py:39: SettingWithCopyWarning: \n",
      "A value is trying to be set on a copy of a slice from a DataFrame.\n",
      "Try using .loc[row_indexer,col_indexer] = value instead\n",
      "\n",
      "See the caveats in the documentation: https://pandas.pydata.org/pandas-docs/stable/user_guide/indexing.html#returning-a-view-versus-a-copy\n",
      "  items_clustered['cluster'] = items_clustered['cluster'].astype(int)\n"
     ]
    },
    {
     "name": "stdout",
     "output_type": "stream",
     "text": [
      "H 0.003244165041087082\n",
      "I 0.6216361811684661\n",
      "U 0.003244165041087082\n"
     ]
    },
    {
     "name": "stderr",
     "output_type": "stream",
     "text": [
      "C:\\Users\\wypyc\\AppData\\Local\\Temp\\ipykernel_16060\\1826413549.py:66: SettingWithCopyWarning: \n",
      "A value is trying to be set on a copy of a slice from a DataFrame.\n",
      "Try using .loc[row_indexer,col_indexer] = value instead\n",
      "\n",
      "See the caveats in the documentation: https://pandas.pydata.org/pandas-docs/stable/user_guide/indexing.html#returning-a-view-versus-a-copy\n",
      "  ratings_df['cluster'] = 1\n",
      "C:\\Users\\wypyc\\AppData\\Local\\Temp\\ipykernel_16060\\2754067708.py:39: SettingWithCopyWarning: \n",
      "A value is trying to be set on a copy of a slice from a DataFrame.\n",
      "Try using .loc[row_indexer,col_indexer] = value instead\n",
      "\n",
      "See the caveats in the documentation: https://pandas.pydata.org/pandas-docs/stable/user_guide/indexing.html#returning-a-view-versus-a-copy\n",
      "  items_clustered['cluster'] = items_clustered['cluster'].astype(int)\n"
     ]
    },
    {
     "name": "stdout",
     "output_type": "stream",
     "text": [
      "H 0.003244165041087082\n",
      "I 0.5709268653022416\n",
      "U 0.003244165041087082\n"
     ]
    },
    {
     "name": "stderr",
     "output_type": "stream",
     "text": [
      "C:\\Users\\wypyc\\AppData\\Local\\Temp\\ipykernel_16060\\1826413549.py:66: SettingWithCopyWarning: \n",
      "A value is trying to be set on a copy of a slice from a DataFrame.\n",
      "Try using .loc[row_indexer,col_indexer] = value instead\n",
      "\n",
      "See the caveats in the documentation: https://pandas.pydata.org/pandas-docs/stable/user_guide/indexing.html#returning-a-view-versus-a-copy\n",
      "  ratings_df['cluster'] = 1\n",
      "C:\\Users\\wypyc\\AppData\\Local\\Temp\\ipykernel_16060\\2754067708.py:39: SettingWithCopyWarning: \n",
      "A value is trying to be set on a copy of a slice from a DataFrame.\n",
      "Try using .loc[row_indexer,col_indexer] = value instead\n",
      "\n",
      "See the caveats in the documentation: https://pandas.pydata.org/pandas-docs/stable/user_guide/indexing.html#returning-a-view-versus-a-copy\n",
      "  items_clustered['cluster'] = items_clustered['cluster'].astype(int)\n"
     ]
    },
    {
     "name": "stdout",
     "output_type": "stream",
     "text": [
      "H 0.0\n",
      "I 0.5877087140470217\n",
      "U 0.0\n"
     ]
    },
    {
     "name": "stderr",
     "output_type": "stream",
     "text": [
      "C:\\Users\\wypyc\\AppData\\Local\\Temp\\ipykernel_16060\\1826413549.py:66: SettingWithCopyWarning: \n",
      "A value is trying to be set on a copy of a slice from a DataFrame.\n",
      "Try using .loc[row_indexer,col_indexer] = value instead\n",
      "\n",
      "See the caveats in the documentation: https://pandas.pydata.org/pandas-docs/stable/user_guide/indexing.html#returning-a-view-versus-a-copy\n",
      "  ratings_df['cluster'] = 1\n",
      "C:\\Users\\wypyc\\AppData\\Local\\Temp\\ipykernel_16060\\2754067708.py:39: SettingWithCopyWarning: \n",
      "A value is trying to be set on a copy of a slice from a DataFrame.\n",
      "Try using .loc[row_indexer,col_indexer] = value instead\n",
      "\n",
      "See the caveats in the documentation: https://pandas.pydata.org/pandas-docs/stable/user_guide/indexing.html#returning-a-view-versus-a-copy\n",
      "  items_clustered['cluster'] = items_clustered['cluster'].astype(int)\n"
     ]
    },
    {
     "name": "stdout",
     "output_type": "stream",
     "text": [
      "H 0.0\n",
      "I 0.573963710330445\n",
      "U 0.0\n",
      "dict_keys(['H', 'I', 'U'])\n"
     ]
    },
    {
     "name": "stderr",
     "output_type": "stream",
     "text": [
      "C:\\Users\\wypyc\\AppData\\Local\\Temp\\ipykernel_16060\\1826413549.py:66: SettingWithCopyWarning: \n",
      "A value is trying to be set on a copy of a slice from a DataFrame.\n",
      "Try using .loc[row_indexer,col_indexer] = value instead\n",
      "\n",
      "See the caveats in the documentation: https://pandas.pydata.org/pandas-docs/stable/user_guide/indexing.html#returning-a-view-versus-a-copy\n",
      "  ratings_df['cluster'] = 1\n",
      "C:\\Users\\wypyc\\AppData\\Local\\Temp\\ipykernel_16060\\2754067708.py:39: SettingWithCopyWarning: \n",
      "A value is trying to be set on a copy of a slice from a DataFrame.\n",
      "Try using .loc[row_indexer,col_indexer] = value instead\n",
      "\n",
      "See the caveats in the documentation: https://pandas.pydata.org/pandas-docs/stable/user_guide/indexing.html#returning-a-view-versus-a-copy\n",
      "  items_clustered['cluster'] = items_clustered['cluster'].astype(int)\n"
     ]
    },
    {
     "name": "stdout",
     "output_type": "stream",
     "text": [
      "H 0.0028080490686626636\n",
      "I 0.5654284871708172\n",
      "U 0.0028080490686626636\n"
     ]
    },
    {
     "name": "stderr",
     "output_type": "stream",
     "text": [
      "C:\\Users\\wypyc\\AppData\\Local\\Temp\\ipykernel_16060\\1826413549.py:66: SettingWithCopyWarning: \n",
      "A value is trying to be set on a copy of a slice from a DataFrame.\n",
      "Try using .loc[row_indexer,col_indexer] = value instead\n",
      "\n",
      "See the caveats in the documentation: https://pandas.pydata.org/pandas-docs/stable/user_guide/indexing.html#returning-a-view-versus-a-copy\n",
      "  ratings_df['cluster'] = 1\n",
      "C:\\Users\\wypyc\\AppData\\Local\\Temp\\ipykernel_16060\\2754067708.py:39: SettingWithCopyWarning: \n",
      "A value is trying to be set on a copy of a slice from a DataFrame.\n",
      "Try using .loc[row_indexer,col_indexer] = value instead\n",
      "\n",
      "See the caveats in the documentation: https://pandas.pydata.org/pandas-docs/stable/user_guide/indexing.html#returning-a-view-versus-a-copy\n",
      "  items_clustered['cluster'] = items_clustered['cluster'].astype(int)\n"
     ]
    },
    {
     "name": "stdout",
     "output_type": "stream",
     "text": [
      "H 0.002482956222342627\n",
      "I 0.6160628901566298\n",
      "U 0.002482956222342627\n"
     ]
    },
    {
     "name": "stderr",
     "output_type": "stream",
     "text": [
      "C:\\Users\\wypyc\\AppData\\Local\\Temp\\ipykernel_16060\\1826413549.py:66: SettingWithCopyWarning: \n",
      "A value is trying to be set on a copy of a slice from a DataFrame.\n",
      "Try using .loc[row_indexer,col_indexer] = value instead\n",
      "\n",
      "See the caveats in the documentation: https://pandas.pydata.org/pandas-docs/stable/user_guide/indexing.html#returning-a-view-versus-a-copy\n",
      "  ratings_df['cluster'] = 1\n",
      "C:\\Users\\wypyc\\AppData\\Local\\Temp\\ipykernel_16060\\2754067708.py:39: SettingWithCopyWarning: \n",
      "A value is trying to be set on a copy of a slice from a DataFrame.\n",
      "Try using .loc[row_indexer,col_indexer] = value instead\n",
      "\n",
      "See the caveats in the documentation: https://pandas.pydata.org/pandas-docs/stable/user_guide/indexing.html#returning-a-view-versus-a-copy\n",
      "  items_clustered['cluster'] = items_clustered['cluster'].astype(int)\n"
     ]
    },
    {
     "name": "stdout",
     "output_type": "stream",
     "text": [
      "H 0.002482956222342627\n",
      "I 0.5660786728634573\n",
      "U 0.002482956222342627\n"
     ]
    },
    {
     "name": "stderr",
     "output_type": "stream",
     "text": [
      "C:\\Users\\wypyc\\AppData\\Local\\Temp\\ipykernel_16060\\1826413549.py:66: SettingWithCopyWarning: \n",
      "A value is trying to be set on a copy of a slice from a DataFrame.\n",
      "Try using .loc[row_indexer,col_indexer] = value instead\n",
      "\n",
      "See the caveats in the documentation: https://pandas.pydata.org/pandas-docs/stable/user_guide/indexing.html#returning-a-view-versus-a-copy\n",
      "  ratings_df['cluster'] = 1\n",
      "C:\\Users\\wypyc\\AppData\\Local\\Temp\\ipykernel_16060\\2754067708.py:39: SettingWithCopyWarning: \n",
      "A value is trying to be set on a copy of a slice from a DataFrame.\n",
      "Try using .loc[row_indexer,col_indexer] = value instead\n",
      "\n",
      "See the caveats in the documentation: https://pandas.pydata.org/pandas-docs/stable/user_guide/indexing.html#returning-a-view-versus-a-copy\n",
      "  items_clustered['cluster'] = items_clustered['cluster'].astype(int)\n"
     ]
    },
    {
     "name": "stdout",
     "output_type": "stream",
     "text": [
      "H 0.0012480817181456292\n",
      "I 0.5746172875613552\n",
      "U 0.0012480817181456292\n"
     ]
    },
    {
     "name": "stderr",
     "output_type": "stream",
     "text": [
      "C:\\Users\\wypyc\\AppData\\Local\\Temp\\ipykernel_16060\\1826413549.py:66: SettingWithCopyWarning: \n",
      "A value is trying to be set on a copy of a slice from a DataFrame.\n",
      "Try using .loc[row_indexer,col_indexer] = value instead\n",
      "\n",
      "See the caveats in the documentation: https://pandas.pydata.org/pandas-docs/stable/user_guide/indexing.html#returning-a-view-versus-a-copy\n",
      "  ratings_df['cluster'] = 1\n",
      "C:\\Users\\wypyc\\AppData\\Local\\Temp\\ipykernel_16060\\2754067708.py:39: SettingWithCopyWarning: \n",
      "A value is trying to be set on a copy of a slice from a DataFrame.\n",
      "Try using .loc[row_indexer,col_indexer] = value instead\n",
      "\n",
      "See the caveats in the documentation: https://pandas.pydata.org/pandas-docs/stable/user_guide/indexing.html#returning-a-view-versus-a-copy\n",
      "  items_clustered['cluster'] = items_clustered['cluster'].astype(int)\n"
     ]
    },
    {
     "name": "stdout",
     "output_type": "stream",
     "text": [
      "H 0.0\n",
      "I 0.5566089124525513\n",
      "U 0.0\n",
      "dict_keys(['H', 'I', 'U'])\n"
     ]
    },
    {
     "name": "stderr",
     "output_type": "stream",
     "text": [
      "C:\\Users\\wypyc\\AppData\\Local\\Temp\\ipykernel_16060\\1826413549.py:66: SettingWithCopyWarning: \n",
      "A value is trying to be set on a copy of a slice from a DataFrame.\n",
      "Try using .loc[row_indexer,col_indexer] = value instead\n",
      "\n",
      "See the caveats in the documentation: https://pandas.pydata.org/pandas-docs/stable/user_guide/indexing.html#returning-a-view-versus-a-copy\n",
      "  ratings_df['cluster'] = 1\n",
      "C:\\Users\\wypyc\\AppData\\Local\\Temp\\ipykernel_16060\\2754067708.py:39: SettingWithCopyWarning: \n",
      "A value is trying to be set on a copy of a slice from a DataFrame.\n",
      "Try using .loc[row_indexer,col_indexer] = value instead\n",
      "\n",
      "See the caveats in the documentation: https://pandas.pydata.org/pandas-docs/stable/user_guide/indexing.html#returning-a-view-versus-a-copy\n",
      "  items_clustered['cluster'] = items_clustered['cluster'].astype(int)\n"
     ]
    },
    {
     "name": "stdout",
     "output_type": "stream",
     "text": [
      "H 0.0032255023809941714\n",
      "I 0.558431193398725\n",
      "U 0.0032255023809941714\n"
     ]
    },
    {
     "name": "stderr",
     "output_type": "stream",
     "text": [
      "C:\\Users\\wypyc\\AppData\\Local\\Temp\\ipykernel_16060\\1826413549.py:66: SettingWithCopyWarning: \n",
      "A value is trying to be set on a copy of a slice from a DataFrame.\n",
      "Try using .loc[row_indexer,col_indexer] = value instead\n",
      "\n",
      "See the caveats in the documentation: https://pandas.pydata.org/pandas-docs/stable/user_guide/indexing.html#returning-a-view-versus-a-copy\n",
      "  ratings_df['cluster'] = 1\n",
      "C:\\Users\\wypyc\\AppData\\Local\\Temp\\ipykernel_16060\\2754067708.py:39: SettingWithCopyWarning: \n",
      "A value is trying to be set on a copy of a slice from a DataFrame.\n",
      "Try using .loc[row_indexer,col_indexer] = value instead\n",
      "\n",
      "See the caveats in the documentation: https://pandas.pydata.org/pandas-docs/stable/user_guide/indexing.html#returning-a-view-versus-a-copy\n",
      "  items_clustered['cluster'] = items_clustered['cluster'].astype(int)\n"
     ]
    },
    {
     "name": "stdout",
     "output_type": "stream",
     "text": [
      "H 0.00206550291001112\n",
      "I 0.6085586321157417\n",
      "U 0.00206550291001112\n"
     ]
    },
    {
     "name": "stderr",
     "output_type": "stream",
     "text": [
      "C:\\Users\\wypyc\\AppData\\Local\\Temp\\ipykernel_16060\\1826413549.py:66: SettingWithCopyWarning: \n",
      "A value is trying to be set on a copy of a slice from a DataFrame.\n",
      "Try using .loc[row_indexer,col_indexer] = value instead\n",
      "\n",
      "See the caveats in the documentation: https://pandas.pydata.org/pandas-docs/stable/user_guide/indexing.html#returning-a-view-versus-a-copy\n",
      "  ratings_df['cluster'] = 1\n",
      "C:\\Users\\wypyc\\AppData\\Local\\Temp\\ipykernel_16060\\2754067708.py:39: SettingWithCopyWarning: \n",
      "A value is trying to be set on a copy of a slice from a DataFrame.\n",
      "Try using .loc[row_indexer,col_indexer] = value instead\n",
      "\n",
      "See the caveats in the documentation: https://pandas.pydata.org/pandas-docs/stable/user_guide/indexing.html#returning-a-view-versus-a-copy\n",
      "  items_clustered['cluster'] = items_clustered['cluster'].astype(int)\n"
     ]
    },
    {
     "name": "stdout",
     "output_type": "stream",
     "text": [
      "H 0.00206550291001112\n",
      "I 0.5678677018124846\n",
      "U 0.00206550291001112\n"
     ]
    },
    {
     "name": "stderr",
     "output_type": "stream",
     "text": [
      "C:\\Users\\wypyc\\AppData\\Local\\Temp\\ipykernel_16060\\1826413549.py:66: SettingWithCopyWarning: \n",
      "A value is trying to be set on a copy of a slice from a DataFrame.\n",
      "Try using .loc[row_indexer,col_indexer] = value instead\n",
      "\n",
      "See the caveats in the documentation: https://pandas.pydata.org/pandas-docs/stable/user_guide/indexing.html#returning-a-view-versus-a-copy\n",
      "  ratings_df['cluster'] = 1\n",
      "C:\\Users\\wypyc\\AppData\\Local\\Temp\\ipykernel_16060\\2754067708.py:39: SettingWithCopyWarning: \n",
      "A value is trying to be set on a copy of a slice from a DataFrame.\n",
      "Try using .loc[row_indexer,col_indexer] = value instead\n",
      "\n",
      "See the caveats in the documentation: https://pandas.pydata.org/pandas-docs/stable/user_guide/indexing.html#returning-a-view-versus-a-copy\n",
      "  items_clustered['cluster'] = items_clustered['cluster'].astype(int)\n"
     ]
    },
    {
     "name": "stdout",
     "output_type": "stream",
     "text": [
      "H 0.0010382448138087812\n",
      "I 0.5584948852176413\n",
      "U 0.0010382448138087812\n"
     ]
    },
    {
     "name": "stderr",
     "output_type": "stream",
     "text": [
      "C:\\Users\\wypyc\\AppData\\Local\\Temp\\ipykernel_16060\\1826413549.py:66: SettingWithCopyWarning: \n",
      "A value is trying to be set on a copy of a slice from a DataFrame.\n",
      "Try using .loc[row_indexer,col_indexer] = value instead\n",
      "\n",
      "See the caveats in the documentation: https://pandas.pydata.org/pandas-docs/stable/user_guide/indexing.html#returning-a-view-versus-a-copy\n",
      "  ratings_df['cluster'] = 1\n",
      "C:\\Users\\wypyc\\AppData\\Local\\Temp\\ipykernel_16060\\2754067708.py:39: SettingWithCopyWarning: \n",
      "A value is trying to be set on a copy of a slice from a DataFrame.\n",
      "Try using .loc[row_indexer,col_indexer] = value instead\n",
      "\n",
      "See the caveats in the documentation: https://pandas.pydata.org/pandas-docs/stable/user_guide/indexing.html#returning-a-view-versus-a-copy\n",
      "  items_clustered['cluster'] = items_clustered['cluster'].astype(int)\n"
     ]
    },
    {
     "name": "stdout",
     "output_type": "stream",
     "text": [
      "H 0.0\n",
      "I 0.5551400541221934\n",
      "U 0.0\n",
      "dict_keys(['H', 'I', 'U'])\n"
     ]
    },
    {
     "name": "stderr",
     "output_type": "stream",
     "text": [
      "C:\\Users\\wypyc\\AppData\\Local\\Temp\\ipykernel_16060\\1826413549.py:66: SettingWithCopyWarning: \n",
      "A value is trying to be set on a copy of a slice from a DataFrame.\n",
      "Try using .loc[row_indexer,col_indexer] = value instead\n",
      "\n",
      "See the caveats in the documentation: https://pandas.pydata.org/pandas-docs/stable/user_guide/indexing.html#returning-a-view-versus-a-copy\n",
      "  ratings_df['cluster'] = 1\n",
      "C:\\Users\\wypyc\\AppData\\Local\\Temp\\ipykernel_16060\\2754067708.py:39: SettingWithCopyWarning: \n",
      "A value is trying to be set on a copy of a slice from a DataFrame.\n",
      "Try using .loc[row_indexer,col_indexer] = value instead\n",
      "\n",
      "See the caveats in the documentation: https://pandas.pydata.org/pandas-docs/stable/user_guide/indexing.html#returning-a-view-versus-a-copy\n",
      "  items_clustered['cluster'] = items_clustered['cluster'].astype(int)\n"
     ]
    },
    {
     "name": "stdout",
     "output_type": "stream",
     "text": [
      "H 0.004884920369053267\n",
      "I 0.5427813464074743\n",
      "U 0.004884920369053267\n"
     ]
    },
    {
     "name": "stderr",
     "output_type": "stream",
     "text": [
      "C:\\Users\\wypyc\\AppData\\Local\\Temp\\ipykernel_16060\\1826413549.py:66: SettingWithCopyWarning: \n",
      "A value is trying to be set on a copy of a slice from a DataFrame.\n",
      "Try using .loc[row_indexer,col_indexer] = value instead\n",
      "\n",
      "See the caveats in the documentation: https://pandas.pydata.org/pandas-docs/stable/user_guide/indexing.html#returning-a-view-versus-a-copy\n",
      "  ratings_df['cluster'] = 1\n",
      "C:\\Users\\wypyc\\AppData\\Local\\Temp\\ipykernel_16060\\2754067708.py:39: SettingWithCopyWarning: \n",
      "A value is trying to be set on a copy of a slice from a DataFrame.\n",
      "Try using .loc[row_indexer,col_indexer] = value instead\n",
      "\n",
      "See the caveats in the documentation: https://pandas.pydata.org/pandas-docs/stable/user_guide/indexing.html#returning-a-view-versus-a-copy\n",
      "  items_clustered['cluster'] = items_clustered['cluster'].astype(int)\n"
     ]
    },
    {
     "name": "stdout",
     "output_type": "stream",
     "text": [
      "H 0.002488705199925704\n",
      "I 0.5932738782353751\n",
      "U 0.002488705199925704\n"
     ]
    },
    {
     "name": "stderr",
     "output_type": "stream",
     "text": [
      "C:\\Users\\wypyc\\AppData\\Local\\Temp\\ipykernel_16060\\1826413549.py:66: SettingWithCopyWarning: \n",
      "A value is trying to be set on a copy of a slice from a DataFrame.\n",
      "Try using .loc[row_indexer,col_indexer] = value instead\n",
      "\n",
      "See the caveats in the documentation: https://pandas.pydata.org/pandas-docs/stable/user_guide/indexing.html#returning-a-view-versus-a-copy\n",
      "  ratings_df['cluster'] = 1\n",
      "C:\\Users\\wypyc\\AppData\\Local\\Temp\\ipykernel_16060\\2754067708.py:39: SettingWithCopyWarning: \n",
      "A value is trying to be set on a copy of a slice from a DataFrame.\n",
      "Try using .loc[row_indexer,col_indexer] = value instead\n",
      "\n",
      "See the caveats in the documentation: https://pandas.pydata.org/pandas-docs/stable/user_guide/indexing.html#returning-a-view-versus-a-copy\n",
      "  items_clustered['cluster'] = items_clustered['cluster'].astype(int)\n"
     ]
    },
    {
     "name": "stdout",
     "output_type": "stream",
     "text": [
      "H 0.002488705199925704\n",
      "I 0.544037669410115\n",
      "U 0.002488705199925704\n"
     ]
    },
    {
     "name": "stderr",
     "output_type": "stream",
     "text": [
      "C:\\Users\\wypyc\\AppData\\Local\\Temp\\ipykernel_16060\\1826413549.py:66: SettingWithCopyWarning: \n",
      "A value is trying to be set on a copy of a slice from a DataFrame.\n",
      "Try using .loc[row_indexer,col_indexer] = value instead\n",
      "\n",
      "See the caveats in the documentation: https://pandas.pydata.org/pandas-docs/stable/user_guide/indexing.html#returning-a-view-versus-a-copy\n",
      "  ratings_df['cluster'] = 1\n",
      "C:\\Users\\wypyc\\AppData\\Local\\Temp\\ipykernel_16060\\2754067708.py:39: SettingWithCopyWarning: \n",
      "A value is trying to be set on a copy of a slice from a DataFrame.\n",
      "Try using .loc[row_indexer,col_indexer] = value instead\n",
      "\n",
      "See the caveats in the documentation: https://pandas.pydata.org/pandas-docs/stable/user_guide/indexing.html#returning-a-view-versus-a-copy\n",
      "  items_clustered['cluster'] = items_clustered['cluster'].astype(int)\n"
     ]
    },
    {
     "name": "stdout",
     "output_type": "stream",
     "text": [
      "H 0.0009020218225362132\n",
      "I 0.5396536696930667\n",
      "U 0.0009020218225362132\n"
     ]
    },
    {
     "name": "stderr",
     "output_type": "stream",
     "text": [
      "C:\\Users\\wypyc\\AppData\\Local\\Temp\\ipykernel_16060\\1826413549.py:66: SettingWithCopyWarning: \n",
      "A value is trying to be set on a copy of a slice from a DataFrame.\n",
      "Try using .loc[row_indexer,col_indexer] = value instead\n",
      "\n",
      "See the caveats in the documentation: https://pandas.pydata.org/pandas-docs/stable/user_guide/indexing.html#returning-a-view-versus-a-copy\n",
      "  ratings_df['cluster'] = 1\n",
      "C:\\Users\\wypyc\\AppData\\Local\\Temp\\ipykernel_16060\\2754067708.py:39: SettingWithCopyWarning: \n",
      "A value is trying to be set on a copy of a slice from a DataFrame.\n",
      "Try using .loc[row_indexer,col_indexer] = value instead\n",
      "\n",
      "See the caveats in the documentation: https://pandas.pydata.org/pandas-docs/stable/user_guide/indexing.html#returning-a-view-versus-a-copy\n",
      "  items_clustered['cluster'] = items_clustered['cluster'].astype(int)\n"
     ]
    },
    {
     "name": "stdout",
     "output_type": "stream",
     "text": [
      "H 0.0\n",
      "I 0.5339474120776583\n",
      "U 0.0\n",
      "dict_keys(['H', 'I', 'U'])\n"
     ]
    },
    {
     "name": "stderr",
     "output_type": "stream",
     "text": [
      "C:\\Users\\wypyc\\AppData\\Local\\Temp\\ipykernel_16060\\1826413549.py:66: SettingWithCopyWarning: \n",
      "A value is trying to be set on a copy of a slice from a DataFrame.\n",
      "Try using .loc[row_indexer,col_indexer] = value instead\n",
      "\n",
      "See the caveats in the documentation: https://pandas.pydata.org/pandas-docs/stable/user_guide/indexing.html#returning-a-view-versus-a-copy\n",
      "  ratings_df['cluster'] = 1\n",
      "C:\\Users\\wypyc\\AppData\\Local\\Temp\\ipykernel_16060\\2754067708.py:39: SettingWithCopyWarning: \n",
      "A value is trying to be set on a copy of a slice from a DataFrame.\n",
      "Try using .loc[row_indexer,col_indexer] = value instead\n",
      "\n",
      "See the caveats in the documentation: https://pandas.pydata.org/pandas-docs/stable/user_guide/indexing.html#returning-a-view-versus-a-copy\n",
      "  items_clustered['cluster'] = items_clustered['cluster'].astype(int)\n"
     ]
    },
    {
     "name": "stdout",
     "output_type": "stream",
     "text": [
      "H 0.005499004906357802\n",
      "I 0.5390254507291456\n",
      "U 0.005499004906357802\n"
     ]
    },
    {
     "name": "stderr",
     "output_type": "stream",
     "text": [
      "C:\\Users\\wypyc\\AppData\\Local\\Temp\\ipykernel_16060\\1826413549.py:66: SettingWithCopyWarning: \n",
      "A value is trying to be set on a copy of a slice from a DataFrame.\n",
      "Try using .loc[row_indexer,col_indexer] = value instead\n",
      "\n",
      "See the caveats in the documentation: https://pandas.pydata.org/pandas-docs/stable/user_guide/indexing.html#returning-a-view-versus-a-copy\n",
      "  ratings_df['cluster'] = 1\n",
      "C:\\Users\\wypyc\\AppData\\Local\\Temp\\ipykernel_16060\\2754067708.py:39: SettingWithCopyWarning: \n",
      "A value is trying to be set on a copy of a slice from a DataFrame.\n",
      "Try using .loc[row_indexer,col_indexer] = value instead\n",
      "\n",
      "See the caveats in the documentation: https://pandas.pydata.org/pandas-docs/stable/user_guide/indexing.html#returning-a-view-versus-a-copy\n",
      "  items_clustered['cluster'] = items_clustered['cluster'].astype(int)\n"
     ]
    },
    {
     "name": "stdout",
     "output_type": "stream",
     "text": [
      "H 0.0033610757443693065\n",
      "I 0.5812238703070042\n",
      "U 0.0033610757443693065\n"
     ]
    },
    {
     "name": "stderr",
     "output_type": "stream",
     "text": [
      "C:\\Users\\wypyc\\AppData\\Local\\Temp\\ipykernel_16060\\1826413549.py:66: SettingWithCopyWarning: \n",
      "A value is trying to be set on a copy of a slice from a DataFrame.\n",
      "Try using .loc[row_indexer,col_indexer] = value instead\n",
      "\n",
      "See the caveats in the documentation: https://pandas.pydata.org/pandas-docs/stable/user_guide/indexing.html#returning-a-view-versus-a-copy\n",
      "  ratings_df['cluster'] = 1\n",
      "C:\\Users\\wypyc\\AppData\\Local\\Temp\\ipykernel_16060\\2754067708.py:39: SettingWithCopyWarning: \n",
      "A value is trying to be set on a copy of a slice from a DataFrame.\n",
      "Try using .loc[row_indexer,col_indexer] = value instead\n",
      "\n",
      "See the caveats in the documentation: https://pandas.pydata.org/pandas-docs/stable/user_guide/indexing.html#returning-a-view-versus-a-copy\n",
      "  items_clustered['cluster'] = items_clustered['cluster'].astype(int)\n"
     ]
    },
    {
     "name": "stdout",
     "output_type": "stream",
     "text": [
      "H 0.0027907627574671324\n",
      "I 0.5407166687244241\n",
      "U 0.0027907627574671324\n"
     ]
    },
    {
     "name": "stderr",
     "output_type": "stream",
     "text": [
      "C:\\Users\\wypyc\\AppData\\Local\\Temp\\ipykernel_16060\\1826413549.py:66: SettingWithCopyWarning: \n",
      "A value is trying to be set on a copy of a slice from a DataFrame.\n",
      "Try using .loc[row_indexer,col_indexer] = value instead\n",
      "\n",
      "See the caveats in the documentation: https://pandas.pydata.org/pandas-docs/stable/user_guide/indexing.html#returning-a-view-versus-a-copy\n",
      "  ratings_df['cluster'] = 1\n",
      "C:\\Users\\wypyc\\AppData\\Local\\Temp\\ipykernel_16060\\2754067708.py:39: SettingWithCopyWarning: \n",
      "A value is trying to be set on a copy of a slice from a DataFrame.\n",
      "Try using .loc[row_indexer,col_indexer] = value instead\n",
      "\n",
      "See the caveats in the documentation: https://pandas.pydata.org/pandas-docs/stable/user_guide/indexing.html#returning-a-view-versus-a-copy\n",
      "  items_clustered['cluster'] = items_clustered['cluster'].astype(int)\n"
     ]
    },
    {
     "name": "stdout",
     "output_type": "stream",
     "text": [
      "H 0.0008047936529223764\n",
      "I 0.5302193150634792\n",
      "U 0.0008047936529223764\n"
     ]
    },
    {
     "name": "stderr",
     "output_type": "stream",
     "text": [
      "C:\\Users\\wypyc\\AppData\\Local\\Temp\\ipykernel_16060\\1826413549.py:66: SettingWithCopyWarning: \n",
      "A value is trying to be set on a copy of a slice from a DataFrame.\n",
      "Try using .loc[row_indexer,col_indexer] = value instead\n",
      "\n",
      "See the caveats in the documentation: https://pandas.pydata.org/pandas-docs/stable/user_guide/indexing.html#returning-a-view-versus-a-copy\n",
      "  ratings_df['cluster'] = 1\n",
      "C:\\Users\\wypyc\\AppData\\Local\\Temp\\ipykernel_16060\\2754067708.py:39: SettingWithCopyWarning: \n",
      "A value is trying to be set on a copy of a slice from a DataFrame.\n",
      "Try using .loc[row_indexer,col_indexer] = value instead\n",
      "\n",
      "See the caveats in the documentation: https://pandas.pydata.org/pandas-docs/stable/user_guide/indexing.html#returning-a-view-versus-a-copy\n",
      "  items_clustered['cluster'] = items_clustered['cluster'].astype(int)\n"
     ]
    },
    {
     "name": "stdout",
     "output_type": "stream",
     "text": [
      "H 0.001146693133239478\n",
      "I 0.5222613972988359\n",
      "U 0.001146693133239478\n",
      "dict_keys(['H', 'I', 'U'])\n"
     ]
    },
    {
     "name": "stderr",
     "output_type": "stream",
     "text": [
      "C:\\Users\\wypyc\\AppData\\Local\\Temp\\ipykernel_16060\\1826413549.py:66: SettingWithCopyWarning: \n",
      "A value is trying to be set on a copy of a slice from a DataFrame.\n",
      "Try using .loc[row_indexer,col_indexer] = value instead\n",
      "\n",
      "See the caveats in the documentation: https://pandas.pydata.org/pandas-docs/stable/user_guide/indexing.html#returning-a-view-versus-a-copy\n",
      "  ratings_df['cluster'] = 1\n",
      "C:\\Users\\wypyc\\AppData\\Local\\Temp\\ipykernel_16060\\2754067708.py:39: SettingWithCopyWarning: \n",
      "A value is trying to be set on a copy of a slice from a DataFrame.\n",
      "Try using .loc[row_indexer,col_indexer] = value instead\n",
      "\n",
      "See the caveats in the documentation: https://pandas.pydata.org/pandas-docs/stable/user_guide/indexing.html#returning-a-view-versus-a-copy\n",
      "  items_clustered['cluster'] = items_clustered['cluster'].astype(int)\n"
     ]
    },
    {
     "name": "stdout",
     "output_type": "stream",
     "text": [
      "H 0.005964737559793123\n",
      "I 0.5337529589797687\n",
      "U 0.005964737559793123\n"
     ]
    },
    {
     "name": "stderr",
     "output_type": "stream",
     "text": [
      "C:\\Users\\wypyc\\AppData\\Local\\Temp\\ipykernel_16060\\1826413549.py:66: SettingWithCopyWarning: \n",
      "A value is trying to be set on a copy of a slice from a DataFrame.\n",
      "Try using .loc[row_indexer,col_indexer] = value instead\n",
      "\n",
      "See the caveats in the documentation: https://pandas.pydata.org/pandas-docs/stable/user_guide/indexing.html#returning-a-view-versus-a-copy\n",
      "  ratings_df['cluster'] = 1\n",
      "C:\\Users\\wypyc\\AppData\\Local\\Temp\\ipykernel_16060\\2754067708.py:39: SettingWithCopyWarning: \n",
      "A value is trying to be set on a copy of a slice from a DataFrame.\n",
      "Try using .loc[row_indexer,col_indexer] = value instead\n",
      "\n",
      "See the caveats in the documentation: https://pandas.pydata.org/pandas-docs/stable/user_guide/indexing.html#returning-a-view-versus-a-copy\n",
      "  items_clustered['cluster'] = items_clustered['cluster'].astype(int)\n"
     ]
    },
    {
     "name": "stdout",
     "output_type": "stream",
     "text": [
      "H 0.003053115685949504\n",
      "I 0.5764480460103121\n",
      "U 0.003053115685949504\n"
     ]
    },
    {
     "name": "stderr",
     "output_type": "stream",
     "text": [
      "C:\\Users\\wypyc\\AppData\\Local\\Temp\\ipykernel_16060\\1826413549.py:66: SettingWithCopyWarning: \n",
      "A value is trying to be set on a copy of a slice from a DataFrame.\n",
      "Try using .loc[row_indexer,col_indexer] = value instead\n",
      "\n",
      "See the caveats in the documentation: https://pandas.pydata.org/pandas-docs/stable/user_guide/indexing.html#returning-a-view-versus-a-copy\n",
      "  ratings_df['cluster'] = 1\n",
      "C:\\Users\\wypyc\\AppData\\Local\\Temp\\ipykernel_16060\\2754067708.py:39: SettingWithCopyWarning: \n",
      "A value is trying to be set on a copy of a slice from a DataFrame.\n",
      "Try using .loc[row_indexer,col_indexer] = value instead\n",
      "\n",
      "See the caveats in the documentation: https://pandas.pydata.org/pandas-docs/stable/user_guide/indexing.html#returning-a-view-versus-a-copy\n",
      "  items_clustered['cluster'] = items_clustered['cluster'].astype(int)\n"
     ]
    },
    {
     "name": "stdout",
     "output_type": "stream",
     "text": [
      "H 0.002535057879865019\n",
      "I 0.5328652648217775\n",
      "U 0.002535057879865019\n"
     ]
    },
    {
     "name": "stderr",
     "output_type": "stream",
     "text": [
      "C:\\Users\\wypyc\\AppData\\Local\\Temp\\ipykernel_16060\\1826413549.py:66: SettingWithCopyWarning: \n",
      "A value is trying to be set on a copy of a slice from a DataFrame.\n",
      "Try using .loc[row_indexer,col_indexer] = value instead\n",
      "\n",
      "See the caveats in the documentation: https://pandas.pydata.org/pandas-docs/stable/user_guide/indexing.html#returning-a-view-versus-a-copy\n",
      "  ratings_df['cluster'] = 1\n",
      "C:\\Users\\wypyc\\AppData\\Local\\Temp\\ipykernel_16060\\2754067708.py:39: SettingWithCopyWarning: \n",
      "A value is trying to be set on a copy of a slice from a DataFrame.\n",
      "Try using .loc[row_indexer,col_indexer] = value instead\n",
      "\n",
      "See the caveats in the documentation: https://pandas.pydata.org/pandas-docs/stable/user_guide/indexing.html#returning-a-view-versus-a-copy\n",
      "  items_clustered['cluster'] = items_clustered['cluster'].astype(int)\n"
     ]
    },
    {
     "name": "stdout",
     "output_type": "stream",
     "text": [
      "H 0.0007310540768997098\n",
      "I 0.5216020242790046\n",
      "U 0.0007310540768997098\n"
     ]
    },
    {
     "name": "stderr",
     "output_type": "stream",
     "text": [
      "C:\\Users\\wypyc\\AppData\\Local\\Temp\\ipykernel_16060\\1826413549.py:66: SettingWithCopyWarning: \n",
      "A value is trying to be set on a copy of a slice from a DataFrame.\n",
      "Try using .loc[row_indexer,col_indexer] = value instead\n",
      "\n",
      "See the caveats in the documentation: https://pandas.pydata.org/pandas-docs/stable/user_guide/indexing.html#returning-a-view-versus-a-copy\n",
      "  ratings_df['cluster'] = 1\n",
      "C:\\Users\\wypyc\\AppData\\Local\\Temp\\ipykernel_16060\\2754067708.py:39: SettingWithCopyWarning: \n",
      "A value is trying to be set on a copy of a slice from a DataFrame.\n",
      "Try using .loc[row_indexer,col_indexer] = value instead\n",
      "\n",
      "See the caveats in the documentation: https://pandas.pydata.org/pandas-docs/stable/user_guide/indexing.html#returning-a-view-versus-a-copy\n",
      "  items_clustered['cluster'] = items_clustered['cluster'].astype(int)\n"
     ]
    },
    {
     "name": "stdout",
     "output_type": "stream",
     "text": [
      "H 0.002503735019224609\n",
      "I 0.5202216868804853\n",
      "U 0.002503735019224609\n",
      "dict_keys(['H', 'I', 'U'])\n"
     ]
    },
    {
     "name": "stderr",
     "output_type": "stream",
     "text": [
      "C:\\Users\\wypyc\\AppData\\Local\\Temp\\ipykernel_16060\\1826413549.py:66: SettingWithCopyWarning: \n",
      "A value is trying to be set on a copy of a slice from a DataFrame.\n",
      "Try using .loc[row_indexer,col_indexer] = value instead\n",
      "\n",
      "See the caveats in the documentation: https://pandas.pydata.org/pandas-docs/stable/user_guide/indexing.html#returning-a-view-versus-a-copy\n",
      "  ratings_df['cluster'] = 1\n",
      "C:\\Users\\wypyc\\AppData\\Local\\Temp\\ipykernel_16060\\2754067708.py:39: SettingWithCopyWarning: \n",
      "A value is trying to be set on a copy of a slice from a DataFrame.\n",
      "Try using .loc[row_indexer,col_indexer] = value instead\n",
      "\n",
      "See the caveats in the documentation: https://pandas.pydata.org/pandas-docs/stable/user_guide/indexing.html#returning-a-view-versus-a-copy\n",
      "  items_clustered['cluster'] = items_clustered['cluster'].astype(int)\n"
     ]
    },
    {
     "name": "stdout",
     "output_type": "stream",
     "text": [
      "H 0.005488784078563327\n",
      "I 0.5278932072499065\n",
      "U 0.005488784078563327\n"
     ]
    },
    {
     "name": "stderr",
     "output_type": "stream",
     "text": [
      "C:\\Users\\wypyc\\AppData\\Local\\Temp\\ipykernel_16060\\1826413549.py:66: SettingWithCopyWarning: \n",
      "A value is trying to be set on a copy of a slice from a DataFrame.\n",
      "Try using .loc[row_indexer,col_indexer] = value instead\n",
      "\n",
      "See the caveats in the documentation: https://pandas.pydata.org/pandas-docs/stable/user_guide/indexing.html#returning-a-view-versus-a-copy\n",
      "  ratings_df['cluster'] = 1\n",
      "C:\\Users\\wypyc\\AppData\\Local\\Temp\\ipykernel_16060\\2754067708.py:39: SettingWithCopyWarning: \n",
      "A value is trying to be set on a copy of a slice from a DataFrame.\n",
      "Try using .loc[row_indexer,col_indexer] = value instead\n",
      "\n",
      "See the caveats in the documentation: https://pandas.pydata.org/pandas-docs/stable/user_guide/indexing.html#returning-a-view-versus-a-copy\n",
      "  items_clustered['cluster'] = items_clustered['cluster'].astype(int)\n"
     ]
    },
    {
     "name": "stdout",
     "output_type": "stream",
     "text": [
      "H 0.0028094937286113914\n",
      "I 0.5697146194663276\n",
      "U 0.0028094937286113914\n"
     ]
    },
    {
     "name": "stderr",
     "output_type": "stream",
     "text": [
      "C:\\Users\\wypyc\\AppData\\Local\\Temp\\ipykernel_16060\\1826413549.py:66: SettingWithCopyWarning: \n",
      "A value is trying to be set on a copy of a slice from a DataFrame.\n",
      "Try using .loc[row_indexer,col_indexer] = value instead\n",
      "\n",
      "See the caveats in the documentation: https://pandas.pydata.org/pandas-docs/stable/user_guide/indexing.html#returning-a-view-versus-a-copy\n",
      "  ratings_df['cluster'] = 1\n",
      "C:\\Users\\wypyc\\AppData\\Local\\Temp\\ipykernel_16060\\2754067708.py:39: SettingWithCopyWarning: \n",
      "A value is trying to be set on a copy of a slice from a DataFrame.\n",
      "Try using .loc[row_indexer,col_indexer] = value instead\n",
      "\n",
      "See the caveats in the documentation: https://pandas.pydata.org/pandas-docs/stable/user_guide/indexing.html#returning-a-view-versus-a-copy\n",
      "  items_clustered['cluster'] = items_clustered['cluster'].astype(int)\n"
     ]
    },
    {
     "name": "stdout",
     "output_type": "stream",
     "text": [
      "H 0.0044437407347482855\n",
      "I 0.5291873128662731\n",
      "U 0.0044437407347482855\n"
     ]
    },
    {
     "name": "stderr",
     "output_type": "stream",
     "text": [
      "C:\\Users\\wypyc\\AppData\\Local\\Temp\\ipykernel_16060\\1826413549.py:66: SettingWithCopyWarning: \n",
      "A value is trying to be set on a copy of a slice from a DataFrame.\n",
      "Try using .loc[row_indexer,col_indexer] = value instead\n",
      "\n",
      "See the caveats in the documentation: https://pandas.pydata.org/pandas-docs/stable/user_guide/indexing.html#returning-a-view-versus-a-copy\n",
      "  ratings_df['cluster'] = 1\n",
      "C:\\Users\\wypyc\\AppData\\Local\\Temp\\ipykernel_16060\\2754067708.py:39: SettingWithCopyWarning: \n",
      "A value is trying to be set on a copy of a slice from a DataFrame.\n",
      "Try using .loc[row_indexer,col_indexer] = value instead\n",
      "\n",
      "See the caveats in the documentation: https://pandas.pydata.org/pandas-docs/stable/user_guide/indexing.html#returning-a-view-versus-a-copy\n",
      "  items_clustered['cluster'] = items_clustered['cluster'].astype(int)\n"
     ]
    },
    {
     "name": "stdout",
     "output_type": "stream",
     "text": [
      "H 0.0006727199541693009\n",
      "I 0.5198783007196466\n",
      "U 0.0006727199541693009\n"
     ]
    },
    {
     "name": "stderr",
     "output_type": "stream",
     "text": [
      "C:\\Users\\wypyc\\AppData\\Local\\Temp\\ipykernel_16060\\1826413549.py:66: SettingWithCopyWarning: \n",
      "A value is trying to be set on a copy of a slice from a DataFrame.\n",
      "Try using .loc[row_indexer,col_indexer] = value instead\n",
      "\n",
      "See the caveats in the documentation: https://pandas.pydata.org/pandas-docs/stable/user_guide/indexing.html#returning-a-view-versus-a-copy\n",
      "  ratings_df['cluster'] = 1\n",
      "C:\\Users\\wypyc\\AppData\\Local\\Temp\\ipykernel_16060\\2754067708.py:39: SettingWithCopyWarning: \n",
      "A value is trying to be set on a copy of a slice from a DataFrame.\n",
      "Try using .loc[row_indexer,col_indexer] = value instead\n",
      "\n",
      "See the caveats in the documentation: https://pandas.pydata.org/pandas-docs/stable/user_guide/indexing.html#returning-a-view-versus-a-copy\n",
      "  items_clustered['cluster'] = items_clustered['cluster'].astype(int)\n"
     ]
    },
    {
     "name": "stdout",
     "output_type": "stream",
     "text": [
      "H 0.0031528287084962173\n",
      "I 0.5198814238116225\n",
      "U 0.0031528287084962173\n",
      "dict_keys(['H', 'I', 'U'])\n"
     ]
    },
    {
     "name": "stderr",
     "output_type": "stream",
     "text": [
      "C:\\Users\\wypyc\\AppData\\Local\\Temp\\ipykernel_16060\\1826413549.py:66: SettingWithCopyWarning: \n",
      "A value is trying to be set on a copy of a slice from a DataFrame.\n",
      "Try using .loc[row_indexer,col_indexer] = value instead\n",
      "\n",
      "See the caveats in the documentation: https://pandas.pydata.org/pandas-docs/stable/user_guide/indexing.html#returning-a-view-versus-a-copy\n",
      "  ratings_df['cluster'] = 1\n",
      "C:\\Users\\wypyc\\AppData\\Local\\Temp\\ipykernel_16060\\2754067708.py:39: SettingWithCopyWarning: \n",
      "A value is trying to be set on a copy of a slice from a DataFrame.\n",
      "Try using .loc[row_indexer,col_indexer] = value instead\n",
      "\n",
      "See the caveats in the documentation: https://pandas.pydata.org/pandas-docs/stable/user_guide/indexing.html#returning-a-view-versus-a-copy\n",
      "  items_clustered['cluster'] = items_clustered['cluster'].astype(int)\n"
     ]
    },
    {
     "name": "stdout",
     "output_type": "stream",
     "text": [
      "H 0.005474790089995166\n",
      "I 0.5174962973042411\n",
      "U 0.005474790089995166\n"
     ]
    },
    {
     "name": "stderr",
     "output_type": "stream",
     "text": [
      "C:\\Users\\wypyc\\AppData\\Local\\Temp\\ipykernel_16060\\1826413549.py:66: SettingWithCopyWarning: \n",
      "A value is trying to be set on a copy of a slice from a DataFrame.\n",
      "Try using .loc[row_indexer,col_indexer] = value instead\n",
      "\n",
      "See the caveats in the documentation: https://pandas.pydata.org/pandas-docs/stable/user_guide/indexing.html#returning-a-view-versus-a-copy\n",
      "  ratings_df['cluster'] = 1\n",
      "C:\\Users\\wypyc\\AppData\\Local\\Temp\\ipykernel_16060\\2754067708.py:39: SettingWithCopyWarning: \n",
      "A value is trying to be set on a copy of a slice from a DataFrame.\n",
      "Try using .loc[row_indexer,col_indexer] = value instead\n",
      "\n",
      "See the caveats in the documentation: https://pandas.pydata.org/pandas-docs/stable/user_guide/indexing.html#returning-a-view-versus-a-copy\n",
      "  items_clustered['cluster'] = items_clustered['cluster'].astype(int)\n"
     ]
    },
    {
     "name": "stdout",
     "output_type": "stream",
     "text": [
      "H 0.002610705862602387\n",
      "I 0.5649690930847792\n",
      "U 0.002610705862602387\n"
     ]
    },
    {
     "name": "stderr",
     "output_type": "stream",
     "text": [
      "C:\\Users\\wypyc\\AppData\\Local\\Temp\\ipykernel_16060\\1826413549.py:66: SettingWithCopyWarning: \n",
      "A value is trying to be set on a copy of a slice from a DataFrame.\n",
      "Try using .loc[row_indexer,col_indexer] = value instead\n",
      "\n",
      "See the caveats in the documentation: https://pandas.pydata.org/pandas-docs/stable/user_guide/indexing.html#returning-a-view-versus-a-copy\n",
      "  ratings_df['cluster'] = 1\n",
      "C:\\Users\\wypyc\\AppData\\Local\\Temp\\ipykernel_16060\\2754067708.py:39: SettingWithCopyWarning: \n",
      "A value is trying to be set on a copy of a slice from a DataFrame.\n",
      "Try using .loc[row_indexer,col_indexer] = value instead\n",
      "\n",
      "See the caveats in the documentation: https://pandas.pydata.org/pandas-docs/stable/user_guide/indexing.html#returning-a-view-versus-a-copy\n",
      "  items_clustered['cluster'] = items_clustered['cluster'].astype(int)\n"
     ]
    },
    {
     "name": "stdout",
     "output_type": "stream",
     "text": [
      "H 0.004503689582958259\n",
      "I 0.5276836959975323\n",
      "U 0.004503689582958259\n"
     ]
    },
    {
     "name": "stderr",
     "output_type": "stream",
     "text": [
      "C:\\Users\\wypyc\\AppData\\Local\\Temp\\ipykernel_16060\\1826413549.py:66: SettingWithCopyWarning: \n",
      "A value is trying to be set on a copy of a slice from a DataFrame.\n",
      "Try using .loc[row_indexer,col_indexer] = value instead\n",
      "\n",
      "See the caveats in the documentation: https://pandas.pydata.org/pandas-docs/stable/user_guide/indexing.html#returning-a-view-versus-a-copy\n",
      "  ratings_df['cluster'] = 1\n",
      "C:\\Users\\wypyc\\AppData\\Local\\Temp\\ipykernel_16060\\2754067708.py:39: SettingWithCopyWarning: \n",
      "A value is trying to be set on a copy of a slice from a DataFrame.\n",
      "Try using .loc[row_indexer,col_indexer] = value instead\n",
      "\n",
      "See the caveats in the documentation: https://pandas.pydata.org/pandas-docs/stable/user_guide/indexing.html#returning-a-view-versus-a-copy\n",
      "  items_clustered['cluster'] = items_clustered['cluster'].astype(int)\n"
     ]
    },
    {
     "name": "stdout",
     "output_type": "stream",
     "text": [
      "H 0.0010014815714272517\n",
      "I 0.511320948272404\n",
      "U 0.0010014815714272517\n"
     ]
    },
    {
     "name": "stderr",
     "output_type": "stream",
     "text": [
      "C:\\Users\\wypyc\\AppData\\Local\\Temp\\ipykernel_16060\\1826413549.py:66: SettingWithCopyWarning: \n",
      "A value is trying to be set on a copy of a slice from a DataFrame.\n",
      "Try using .loc[row_indexer,col_indexer] = value instead\n",
      "\n",
      "See the caveats in the documentation: https://pandas.pydata.org/pandas-docs/stable/user_guide/indexing.html#returning-a-view-versus-a-copy\n",
      "  ratings_df['cluster'] = 1\n",
      "C:\\Users\\wypyc\\AppData\\Local\\Temp\\ipykernel_16060\\2754067708.py:39: SettingWithCopyWarning: \n",
      "A value is trying to be set on a copy of a slice from a DataFrame.\n",
      "Try using .loc[row_indexer,col_indexer] = value instead\n",
      "\n",
      "See the caveats in the documentation: https://pandas.pydata.org/pandas-docs/stable/user_guide/indexing.html#returning-a-view-versus-a-copy\n",
      "  items_clustered['cluster'] = items_clustered['cluster'].astype(int)\n"
     ]
    },
    {
     "name": "stdout",
     "output_type": "stream",
     "text": [
      "H 0.003306108344170756\n",
      "I 0.510194769099529\n",
      "U 0.003306108344170756\n",
      "dict_keys(['H', 'I', 'U'])\n"
     ]
    },
    {
     "name": "stderr",
     "output_type": "stream",
     "text": [
      "C:\\Users\\wypyc\\AppData\\Local\\Temp\\ipykernel_16060\\1826413549.py:66: SettingWithCopyWarning: \n",
      "A value is trying to be set on a copy of a slice from a DataFrame.\n",
      "Try using .loc[row_indexer,col_indexer] = value instead\n",
      "\n",
      "See the caveats in the documentation: https://pandas.pydata.org/pandas-docs/stable/user_guide/indexing.html#returning-a-view-versus-a-copy\n",
      "  ratings_df['cluster'] = 1\n",
      "C:\\Users\\wypyc\\AppData\\Local\\Temp\\ipykernel_16060\\2754067708.py:39: SettingWithCopyWarning: \n",
      "A value is trying to be set on a copy of a slice from a DataFrame.\n",
      "Try using .loc[row_indexer,col_indexer] = value instead\n",
      "\n",
      "See the caveats in the documentation: https://pandas.pydata.org/pandas-docs/stable/user_guide/indexing.html#returning-a-view-versus-a-copy\n",
      "  items_clustered['cluster'] = items_clustered['cluster'].astype(int)\n"
     ]
    },
    {
     "name": "stdout",
     "output_type": "stream",
     "text": [
      "H 0.005126479629245864\n",
      "I 0.5185711856045429\n",
      "U 0.005126479629245864\n"
     ]
    },
    {
     "name": "stderr",
     "output_type": "stream",
     "text": [
      "C:\\Users\\wypyc\\AppData\\Local\\Temp\\ipykernel_16060\\1826413549.py:66: SettingWithCopyWarning: \n",
      "A value is trying to be set on a copy of a slice from a DataFrame.\n",
      "Try using .loc[row_indexer,col_indexer] = value instead\n",
      "\n",
      "See the caveats in the documentation: https://pandas.pydata.org/pandas-docs/stable/user_guide/indexing.html#returning-a-view-versus-a-copy\n",
      "  ratings_df['cluster'] = 1\n",
      "C:\\Users\\wypyc\\AppData\\Local\\Temp\\ipykernel_16060\\2754067708.py:39: SettingWithCopyWarning: \n",
      "A value is trying to be set on a copy of a slice from a DataFrame.\n",
      "Try using .loc[row_indexer,col_indexer] = value instead\n",
      "\n",
      "See the caveats in the documentation: https://pandas.pydata.org/pandas-docs/stable/user_guide/indexing.html#returning-a-view-versus-a-copy\n",
      "  items_clustered['cluster'] = items_clustered['cluster'].astype(int)\n"
     ]
    },
    {
     "name": "stdout",
     "output_type": "stream",
     "text": [
      "H 0.00278122862484658\n",
      "I 0.5576378378678579\n",
      "U 0.00278122862484658\n"
     ]
    },
    {
     "name": "stderr",
     "output_type": "stream",
     "text": [
      "C:\\Users\\wypyc\\AppData\\Local\\Temp\\ipykernel_16060\\1826413549.py:66: SettingWithCopyWarning: \n",
      "A value is trying to be set on a copy of a slice from a DataFrame.\n",
      "Try using .loc[row_indexer,col_indexer] = value instead\n",
      "\n",
      "See the caveats in the documentation: https://pandas.pydata.org/pandas-docs/stable/user_guide/indexing.html#returning-a-view-versus-a-copy\n",
      "  ratings_df['cluster'] = 1\n",
      "C:\\Users\\wypyc\\AppData\\Local\\Temp\\ipykernel_16060\\2754067708.py:39: SettingWithCopyWarning: \n",
      "A value is trying to be set on a copy of a slice from a DataFrame.\n",
      "Try using .loc[row_indexer,col_indexer] = value instead\n",
      "\n",
      "See the caveats in the documentation: https://pandas.pydata.org/pandas-docs/stable/user_guide/indexing.html#returning-a-view-versus-a-copy\n",
      "  items_clustered['cluster'] = items_clustered['cluster'].astype(int)\n"
     ]
    },
    {
     "name": "stdout",
     "output_type": "stream",
     "text": [
      "H 0.004217161301887047\n",
      "I 0.5230611850585912\n",
      "U 0.004217161301887047\n"
     ]
    },
    {
     "name": "stderr",
     "output_type": "stream",
     "text": [
      "C:\\Users\\wypyc\\AppData\\Local\\Temp\\ipykernel_16060\\1826413549.py:66: SettingWithCopyWarning: \n",
      "A value is trying to be set on a copy of a slice from a DataFrame.\n",
      "Try using .loc[row_indexer,col_indexer] = value instead\n",
      "\n",
      "See the caveats in the documentation: https://pandas.pydata.org/pandas-docs/stable/user_guide/indexing.html#returning-a-view-versus-a-copy\n",
      "  ratings_df['cluster'] = 1\n",
      "C:\\Users\\wypyc\\AppData\\Local\\Temp\\ipykernel_16060\\2754067708.py:39: SettingWithCopyWarning: \n",
      "A value is trying to be set on a copy of a slice from a DataFrame.\n",
      "Try using .loc[row_indexer,col_indexer] = value instead\n",
      "\n",
      "See the caveats in the documentation: https://pandas.pydata.org/pandas-docs/stable/user_guide/indexing.html#returning-a-view-versus-a-copy\n",
      "  items_clustered['cluster'] = items_clustered['cluster'].astype(int)\n"
     ]
    },
    {
     "name": "stdout",
     "output_type": "stream",
     "text": [
      "H 0.0009377665244863252\n",
      "I 0.512292742859488\n",
      "U 0.0009377665244863252\n"
     ]
    },
    {
     "name": "stderr",
     "output_type": "stream",
     "text": [
      "C:\\Users\\wypyc\\AppData\\Local\\Temp\\ipykernel_16060\\1826413549.py:66: SettingWithCopyWarning: \n",
      "A value is trying to be set on a copy of a slice from a DataFrame.\n",
      "Try using .loc[row_indexer,col_indexer] = value instead\n",
      "\n",
      "See the caveats in the documentation: https://pandas.pydata.org/pandas-docs/stable/user_guide/indexing.html#returning-a-view-versus-a-copy\n",
      "  ratings_df['cluster'] = 1\n",
      "C:\\Users\\wypyc\\AppData\\Local\\Temp\\ipykernel_16060\\2754067708.py:39: SettingWithCopyWarning: \n",
      "A value is trying to be set on a copy of a slice from a DataFrame.\n",
      "Try using .loc[row_indexer,col_indexer] = value instead\n",
      "\n",
      "See the caveats in the documentation: https://pandas.pydata.org/pandas-docs/stable/user_guide/indexing.html#returning-a-view-versus-a-copy\n",
      "  items_clustered['cluster'] = items_clustered['cluster'].astype(int)\n"
     ]
    },
    {
     "name": "stdout",
     "output_type": "stream",
     "text": [
      "H 0.0034341795733102455\n",
      "I 0.5071773107188433\n",
      "U 0.0034341795733102455\n",
      "dict_keys(['H', 'I', 'U'])\n"
     ]
    },
    {
     "name": "stderr",
     "output_type": "stream",
     "text": [
      "C:\\Users\\wypyc\\AppData\\Local\\Temp\\ipykernel_16060\\1826413549.py:66: SettingWithCopyWarning: \n",
      "A value is trying to be set on a copy of a slice from a DataFrame.\n",
      "Try using .loc[row_indexer,col_indexer] = value instead\n",
      "\n",
      "See the caveats in the documentation: https://pandas.pydata.org/pandas-docs/stable/user_guide/indexing.html#returning-a-view-versus-a-copy\n",
      "  ratings_df['cluster'] = 1\n",
      "C:\\Users\\wypyc\\AppData\\Local\\Temp\\ipykernel_16060\\2754067708.py:39: SettingWithCopyWarning: \n",
      "A value is trying to be set on a copy of a slice from a DataFrame.\n",
      "Try using .loc[row_indexer,col_indexer] = value instead\n",
      "\n",
      "See the caveats in the documentation: https://pandas.pydata.org/pandas-docs/stable/user_guide/indexing.html#returning-a-view-versus-a-copy\n",
      "  items_clustered['cluster'] = items_clustered['cluster'].astype(int)\n"
     ]
    },
    {
     "name": "stdout",
     "output_type": "stream",
     "text": [
      "H 0.004829954040564649\n",
      "I 0.5121412556811146\n",
      "U 0.004829954040564649\n"
     ]
    },
    {
     "name": "stderr",
     "output_type": "stream",
     "text": [
      "C:\\Users\\wypyc\\AppData\\Local\\Temp\\ipykernel_16060\\1826413549.py:66: SettingWithCopyWarning: \n",
      "A value is trying to be set on a copy of a slice from a DataFrame.\n",
      "Try using .loc[row_indexer,col_indexer] = value instead\n",
      "\n",
      "See the caveats in the documentation: https://pandas.pydata.org/pandas-docs/stable/user_guide/indexing.html#returning-a-view-versus-a-copy\n",
      "  ratings_df['cluster'] = 1\n",
      "C:\\Users\\wypyc\\AppData\\Local\\Temp\\ipykernel_16060\\2754067708.py:39: SettingWithCopyWarning: \n",
      "A value is trying to be set on a copy of a slice from a DataFrame.\n",
      "Try using .loc[row_indexer,col_indexer] = value instead\n",
      "\n",
      "See the caveats in the documentation: https://pandas.pydata.org/pandas-docs/stable/user_guide/indexing.html#returning-a-view-versus-a-copy\n",
      "  items_clustered['cluster'] = items_clustered['cluster'].astype(int)\n"
     ]
    },
    {
     "name": "stdout",
     "output_type": "stream",
     "text": [
      "H 0.0029263990063195613\n",
      "I 0.5532328055567067\n",
      "U 0.0029263990063195613\n"
     ]
    },
    {
     "name": "stderr",
     "output_type": "stream",
     "text": [
      "C:\\Users\\wypyc\\AppData\\Local\\Temp\\ipykernel_16060\\1826413549.py:66: SettingWithCopyWarning: \n",
      "A value is trying to be set on a copy of a slice from a DataFrame.\n",
      "Try using .loc[row_indexer,col_indexer] = value instead\n",
      "\n",
      "See the caveats in the documentation: https://pandas.pydata.org/pandas-docs/stable/user_guide/indexing.html#returning-a-view-versus-a-copy\n",
      "  ratings_df['cluster'] = 1\n",
      "C:\\Users\\wypyc\\AppData\\Local\\Temp\\ipykernel_16060\\2754067708.py:39: SettingWithCopyWarning: \n",
      "A value is trying to be set on a copy of a slice from a DataFrame.\n",
      "Try using .loc[row_indexer,col_indexer] = value instead\n",
      "\n",
      "See the caveats in the documentation: https://pandas.pydata.org/pandas-docs/stable/user_guide/indexing.html#returning-a-view-versus-a-copy\n",
      "  items_clustered['cluster'] = items_clustered['cluster'].astype(int)\n"
     ]
    },
    {
     "name": "stdout",
     "output_type": "stream",
     "text": [
      "H 0.003973232460256274\n",
      "I 0.5166775868763417\n",
      "U 0.003973232460256274\n"
     ]
    },
    {
     "name": "stderr",
     "output_type": "stream",
     "text": [
      "C:\\Users\\wypyc\\AppData\\Local\\Temp\\ipykernel_16060\\1826413549.py:66: SettingWithCopyWarning: \n",
      "A value is trying to be set on a copy of a slice from a DataFrame.\n",
      "Try using .loc[row_indexer,col_indexer] = value instead\n",
      "\n",
      "See the caveats in the documentation: https://pandas.pydata.org/pandas-docs/stable/user_guide/indexing.html#returning-a-view-versus-a-copy\n",
      "  ratings_df['cluster'] = 1\n",
      "C:\\Users\\wypyc\\AppData\\Local\\Temp\\ipykernel_16060\\2754067708.py:39: SettingWithCopyWarning: \n",
      "A value is trying to be set on a copy of a slice from a DataFrame.\n",
      "Try using .loc[row_indexer,col_indexer] = value instead\n",
      "\n",
      "See the caveats in the documentation: https://pandas.pydata.org/pandas-docs/stable/user_guide/indexing.html#returning-a-view-versus-a-copy\n",
      "  items_clustered['cluster'] = items_clustered['cluster'].astype(int)\n"
     ]
    },
    {
     "name": "stdout",
     "output_type": "stream",
     "text": [
      "H 0.0008835242781829394\n",
      "I 0.5057359774247449\n",
      "U 0.0008835242781829394\n"
     ]
    },
    {
     "name": "stderr",
     "output_type": "stream",
     "text": [
      "C:\\Users\\wypyc\\AppData\\Local\\Temp\\ipykernel_16060\\1826413549.py:66: SettingWithCopyWarning: \n",
      "A value is trying to be set on a copy of a slice from a DataFrame.\n",
      "Try using .loc[row_indexer,col_indexer] = value instead\n",
      "\n",
      "See the caveats in the documentation: https://pandas.pydata.org/pandas-docs/stable/user_guide/indexing.html#returning-a-view-versus-a-copy\n",
      "  ratings_df['cluster'] = 1\n",
      "C:\\Users\\wypyc\\AppData\\Local\\Temp\\ipykernel_16060\\2754067708.py:39: SettingWithCopyWarning: \n",
      "A value is trying to be set on a copy of a slice from a DataFrame.\n",
      "Try using .loc[row_indexer,col_indexer] = value instead\n",
      "\n",
      "See the caveats in the documentation: https://pandas.pydata.org/pandas-docs/stable/user_guide/indexing.html#returning-a-view-versus-a-copy\n",
      "  items_clustered['cluster'] = items_clustered['cluster'].astype(int)\n"
     ]
    },
    {
     "name": "stdout",
     "output_type": "stream",
     "text": [
      "H 0.0035432098807320145\n",
      "I 0.5003010919495048\n",
      "U 0.0035432098807320145\n",
      "dict_keys(['H', 'I', 'U'])\n"
     ]
    },
    {
     "name": "stderr",
     "output_type": "stream",
     "text": [
      "C:\\Users\\wypyc\\AppData\\Local\\Temp\\ipykernel_16060\\1826413549.py:66: SettingWithCopyWarning: \n",
      "A value is trying to be set on a copy of a slice from a DataFrame.\n",
      "Try using .loc[row_indexer,col_indexer] = value instead\n",
      "\n",
      "See the caveats in the documentation: https://pandas.pydata.org/pandas-docs/stable/user_guide/indexing.html#returning-a-view-versus-a-copy\n",
      "  ratings_df['cluster'] = 1\n",
      "C:\\Users\\wypyc\\AppData\\Local\\Temp\\ipykernel_16060\\2754067708.py:39: SettingWithCopyWarning: \n",
      "A value is trying to be set on a copy of a slice from a DataFrame.\n",
      "Try using .loc[row_indexer,col_indexer] = value instead\n",
      "\n",
      "See the caveats in the documentation: https://pandas.pydata.org/pandas-docs/stable/user_guide/indexing.html#returning-a-view-versus-a-copy\n",
      "  items_clustered['cluster'] = items_clustered['cluster'].astype(int)\n"
     ]
    },
    {
     "name": "stdout",
     "output_type": "stream",
     "text": [
      "H 0.004854418990335452\n",
      "I 0.5088297910523818\n",
      "U 0.004854418990335452\n"
     ]
    },
    {
     "name": "stderr",
     "output_type": "stream",
     "text": [
      "C:\\Users\\wypyc\\AppData\\Local\\Temp\\ipykernel_16060\\1826413549.py:66: SettingWithCopyWarning: \n",
      "A value is trying to be set on a copy of a slice from a DataFrame.\n",
      "Try using .loc[row_indexer,col_indexer] = value instead\n",
      "\n",
      "See the caveats in the documentation: https://pandas.pydata.org/pandas-docs/stable/user_guide/indexing.html#returning-a-view-versus-a-copy\n",
      "  ratings_df['cluster'] = 1\n",
      "C:\\Users\\wypyc\\AppData\\Local\\Temp\\ipykernel_16060\\2754067708.py:39: SettingWithCopyWarning: \n",
      "A value is trying to be set on a copy of a slice from a DataFrame.\n",
      "Try using .loc[row_indexer,col_indexer] = value instead\n",
      "\n",
      "See the caveats in the documentation: https://pandas.pydata.org/pandas-docs/stable/user_guide/indexing.html#returning-a-view-versus-a-copy\n",
      "  items_clustered['cluster'] = items_clustered['cluster'].astype(int)\n"
     ]
    },
    {
     "name": "stdout",
     "output_type": "stream",
     "text": [
      "H 0.002771114307209624\n",
      "I 0.5499869534292138\n",
      "U 0.002771114307209624\n"
     ]
    },
    {
     "name": "stderr",
     "output_type": "stream",
     "text": [
      "C:\\Users\\wypyc\\AppData\\Local\\Temp\\ipykernel_16060\\1826413549.py:66: SettingWithCopyWarning: \n",
      "A value is trying to be set on a copy of a slice from a DataFrame.\n",
      "Try using .loc[row_indexer,col_indexer] = value instead\n",
      "\n",
      "See the caveats in the documentation: https://pandas.pydata.org/pandas-docs/stable/user_guide/indexing.html#returning-a-view-versus-a-copy\n",
      "  ratings_df['cluster'] = 1\n",
      "C:\\Users\\wypyc\\AppData\\Local\\Temp\\ipykernel_16060\\2754067708.py:39: SettingWithCopyWarning: \n",
      "A value is trying to be set on a copy of a slice from a DataFrame.\n",
      "Try using .loc[row_indexer,col_indexer] = value instead\n",
      "\n",
      "See the caveats in the documentation: https://pandas.pydata.org/pandas-docs/stable/user_guide/indexing.html#returning-a-view-versus-a-copy\n",
      "  items_clustered['cluster'] = items_clustered['cluster'].astype(int)\n"
     ]
    },
    {
     "name": "stdout",
     "output_type": "stream",
     "text": [
      "H 0.0037623992123798373\n",
      "I 0.513406167825685\n",
      "U 0.0037623992123798373\n"
     ]
    },
    {
     "name": "stderr",
     "output_type": "stream",
     "text": [
      "C:\\Users\\wypyc\\AppData\\Local\\Temp\\ipykernel_16060\\1826413549.py:66: SettingWithCopyWarning: \n",
      "A value is trying to be set on a copy of a slice from a DataFrame.\n",
      "Try using .loc[row_indexer,col_indexer] = value instead\n",
      "\n",
      "See the caveats in the documentation: https://pandas.pydata.org/pandas-docs/stable/user_guide/indexing.html#returning-a-view-versus-a-copy\n",
      "  ratings_df['cluster'] = 1\n",
      "C:\\Users\\wypyc\\AppData\\Local\\Temp\\ipykernel_16060\\2754067708.py:39: SettingWithCopyWarning: \n",
      "A value is trying to be set on a copy of a slice from a DataFrame.\n",
      "Try using .loc[row_indexer,col_indexer] = value instead\n",
      "\n",
      "See the caveats in the documentation: https://pandas.pydata.org/pandas-docs/stable/user_guide/indexing.html#returning-a-view-versus-a-copy\n",
      "  items_clustered['cluster'] = items_clustered['cluster'].astype(int)\n"
     ]
    },
    {
     "name": "stdout",
     "output_type": "stream",
     "text": [
      "H 0.00111889363106091\n",
      "I 0.5014800766775653\n",
      "U 0.00111889363106091\n"
     ]
    },
    {
     "name": "stderr",
     "output_type": "stream",
     "text": [
      "C:\\Users\\wypyc\\AppData\\Local\\Temp\\ipykernel_16060\\1826413549.py:66: SettingWithCopyWarning: \n",
      "A value is trying to be set on a copy of a slice from a DataFrame.\n",
      "Try using .loc[row_indexer,col_indexer] = value instead\n",
      "\n",
      "See the caveats in the documentation: https://pandas.pydata.org/pandas-docs/stable/user_guide/indexing.html#returning-a-view-versus-a-copy\n",
      "  ratings_df['cluster'] = 1\n",
      "C:\\Users\\wypyc\\AppData\\Local\\Temp\\ipykernel_16060\\2754067708.py:39: SettingWithCopyWarning: \n",
      "A value is trying to be set on a copy of a slice from a DataFrame.\n",
      "Try using .loc[row_indexer,col_indexer] = value instead\n",
      "\n",
      "See the caveats in the documentation: https://pandas.pydata.org/pandas-docs/stable/user_guide/indexing.html#returning-a-view-versus-a-copy\n",
      "  items_clustered['cluster'] = items_clustered['cluster'].astype(int)\n"
     ]
    },
    {
     "name": "stdout",
     "output_type": "stream",
     "text": [
      "H 0.0033551950956583936\n",
      "I 0.4920998023300426\n",
      "U 0.0033551950956583936\n",
      "dict_keys(['H', 'I', 'U'])\n"
     ]
    },
    {
     "name": "stderr",
     "output_type": "stream",
     "text": [
      "C:\\Users\\wypyc\\AppData\\Local\\Temp\\ipykernel_16060\\1826413549.py:66: SettingWithCopyWarning: \n",
      "A value is trying to be set on a copy of a slice from a DataFrame.\n",
      "Try using .loc[row_indexer,col_indexer] = value instead\n",
      "\n",
      "See the caveats in the documentation: https://pandas.pydata.org/pandas-docs/stable/user_guide/indexing.html#returning-a-view-versus-a-copy\n",
      "  ratings_df['cluster'] = 1\n",
      "C:\\Users\\wypyc\\AppData\\Local\\Temp\\ipykernel_16060\\2754067708.py:39: SettingWithCopyWarning: \n",
      "A value is trying to be set on a copy of a slice from a DataFrame.\n",
      "Try using .loc[row_indexer,col_indexer] = value instead\n",
      "\n",
      "See the caveats in the documentation: https://pandas.pydata.org/pandas-docs/stable/user_guide/indexing.html#returning-a-view-versus-a-copy\n",
      "  items_clustered['cluster'] = items_clustered['cluster'].astype(int)\n"
     ]
    },
    {
     "name": "stdout",
     "output_type": "stream",
     "text": [
      "H 0.0046163390564619294\n",
      "I 0.5082669971999741\n",
      "U 0.0046163390564619294\n"
     ]
    },
    {
     "name": "stderr",
     "output_type": "stream",
     "text": [
      "C:\\Users\\wypyc\\AppData\\Local\\Temp\\ipykernel_16060\\1826413549.py:66: SettingWithCopyWarning: \n",
      "A value is trying to be set on a copy of a slice from a DataFrame.\n",
      "Try using .loc[row_indexer,col_indexer] = value instead\n",
      "\n",
      "See the caveats in the documentation: https://pandas.pydata.org/pandas-docs/stable/user_guide/indexing.html#returning-a-view-versus-a-copy\n",
      "  ratings_df['cluster'] = 1\n",
      "C:\\Users\\wypyc\\AppData\\Local\\Temp\\ipykernel_16060\\2754067708.py:39: SettingWithCopyWarning: \n",
      "A value is trying to be set on a copy of a slice from a DataFrame.\n",
      "Try using .loc[row_indexer,col_indexer] = value instead\n",
      "\n",
      "See the caveats in the documentation: https://pandas.pydata.org/pandas-docs/stable/user_guide/indexing.html#returning-a-view-versus-a-copy\n",
      "  items_clustered['cluster'] = items_clustered['cluster'].astype(int)\n"
     ]
    },
    {
     "name": "stdout",
     "output_type": "stream",
     "text": [
      "H 0.003154191596644224\n",
      "I 0.5419563203657249\n",
      "U 0.003154191596644224\n"
     ]
    },
    {
     "name": "stderr",
     "output_type": "stream",
     "text": [
      "C:\\Users\\wypyc\\AppData\\Local\\Temp\\ipykernel_16060\\1826413549.py:66: SettingWithCopyWarning: \n",
      "A value is trying to be set on a copy of a slice from a DataFrame.\n",
      "Try using .loc[row_indexer,col_indexer] = value instead\n",
      "\n",
      "See the caveats in the documentation: https://pandas.pydata.org/pandas-docs/stable/user_guide/indexing.html#returning-a-view-versus-a-copy\n",
      "  ratings_df['cluster'] = 1\n",
      "C:\\Users\\wypyc\\AppData\\Local\\Temp\\ipykernel_16060\\2754067708.py:39: SettingWithCopyWarning: \n",
      "A value is trying to be set on a copy of a slice from a DataFrame.\n",
      "Try using .loc[row_indexer,col_indexer] = value instead\n",
      "\n",
      "See the caveats in the documentation: https://pandas.pydata.org/pandas-docs/stable/user_guide/indexing.html#returning-a-view-versus-a-copy\n",
      "  items_clustered['cluster'] = items_clustered['cluster'].astype(int)\n"
     ]
    },
    {
     "name": "stdout",
     "output_type": "stream",
     "text": [
      "H 0.0035778762535102968\n",
      "I 0.508986044357901\n",
      "U 0.0035778762535102968\n"
     ]
    },
    {
     "name": "stderr",
     "output_type": "stream",
     "text": [
      "C:\\Users\\wypyc\\AppData\\Local\\Temp\\ipykernel_16060\\1826413549.py:66: SettingWithCopyWarning: \n",
      "A value is trying to be set on a copy of a slice from a DataFrame.\n",
      "Try using .loc[row_indexer,col_indexer] = value instead\n",
      "\n",
      "See the caveats in the documentation: https://pandas.pydata.org/pandas-docs/stable/user_guide/indexing.html#returning-a-view-versus-a-copy\n",
      "  ratings_df['cluster'] = 1\n",
      "C:\\Users\\wypyc\\AppData\\Local\\Temp\\ipykernel_16060\\2754067708.py:39: SettingWithCopyWarning: \n",
      "A value is trying to be set on a copy of a slice from a DataFrame.\n",
      "Try using .loc[row_indexer,col_indexer] = value instead\n",
      "\n",
      "See the caveats in the documentation: https://pandas.pydata.org/pandas-docs/stable/user_guide/indexing.html#returning-a-view-versus-a-copy\n",
      "  items_clustered['cluster'] = items_clustered['cluster'].astype(int)\n"
     ]
    },
    {
     "name": "stdout",
     "output_type": "stream",
     "text": [
      "H 0.0013248907869065844\n",
      "I 0.49592917310333884\n",
      "U 0.0013248907869065844\n"
     ]
    },
    {
     "name": "stderr",
     "output_type": "stream",
     "text": [
      "C:\\Users\\wypyc\\AppData\\Local\\Temp\\ipykernel_16060\\1826413549.py:66: SettingWithCopyWarning: \n",
      "A value is trying to be set on a copy of a slice from a DataFrame.\n",
      "Try using .loc[row_indexer,col_indexer] = value instead\n",
      "\n",
      "See the caveats in the documentation: https://pandas.pydata.org/pandas-docs/stable/user_guide/indexing.html#returning-a-view-versus-a-copy\n",
      "  ratings_df['cluster'] = 1\n",
      "C:\\Users\\wypyc\\AppData\\Local\\Temp\\ipykernel_16060\\2754067708.py:39: SettingWithCopyWarning: \n",
      "A value is trying to be set on a copy of a slice from a DataFrame.\n",
      "Try using .loc[row_indexer,col_indexer] = value instead\n",
      "\n",
      "See the caveats in the documentation: https://pandas.pydata.org/pandas-docs/stable/user_guide/indexing.html#returning-a-view-versus-a-copy\n",
      "  items_clustered['cluster'] = items_clustered['cluster'].astype(int)\n"
     ]
    },
    {
     "name": "stdout",
     "output_type": "stream",
     "text": [
      "H 0.0031906430394602293\n",
      "I 0.4917046429204554\n",
      "U 0.0031906430394602293\n",
      "dict_keys(['H', 'I', 'U'])\n"
     ]
    },
    {
     "name": "stderr",
     "output_type": "stream",
     "text": [
      "C:\\Users\\wypyc\\AppData\\Local\\Temp\\ipykernel_16060\\1826413549.py:66: SettingWithCopyWarning: \n",
      "A value is trying to be set on a copy of a slice from a DataFrame.\n",
      "Try using .loc[row_indexer,col_indexer] = value instead\n",
      "\n",
      "See the caveats in the documentation: https://pandas.pydata.org/pandas-docs/stable/user_guide/indexing.html#returning-a-view-versus-a-copy\n",
      "  ratings_df['cluster'] = 1\n",
      "C:\\Users\\wypyc\\AppData\\Local\\Temp\\ipykernel_16060\\2754067708.py:39: SettingWithCopyWarning: \n",
      "A value is trying to be set on a copy of a slice from a DataFrame.\n",
      "Try using .loc[row_indexer,col_indexer] = value instead\n",
      "\n",
      "See the caveats in the documentation: https://pandas.pydata.org/pandas-docs/stable/user_guide/indexing.html#returning-a-view-versus-a-copy\n",
      "  items_clustered['cluster'] = items_clustered['cluster'].astype(int)\n"
     ]
    },
    {
     "name": "stdout",
     "output_type": "stream",
     "text": [
      "H 0.004405767723662282\n",
      "I 0.5034250061740042\n",
      "U 0.004405767723662282\n"
     ]
    },
    {
     "name": "stderr",
     "output_type": "stream",
     "text": [
      "C:\\Users\\wypyc\\AppData\\Local\\Temp\\ipykernel_16060\\1826413549.py:66: SettingWithCopyWarning: \n",
      "A value is trying to be set on a copy of a slice from a DataFrame.\n",
      "Try using .loc[row_indexer,col_indexer] = value instead\n",
      "\n",
      "See the caveats in the documentation: https://pandas.pydata.org/pandas-docs/stable/user_guide/indexing.html#returning-a-view-versus-a-copy\n",
      "  ratings_df['cluster'] = 1\n",
      "C:\\Users\\wypyc\\AppData\\Local\\Temp\\ipykernel_16060\\2754067708.py:39: SettingWithCopyWarning: \n",
      "A value is trying to be set on a copy of a slice from a DataFrame.\n",
      "Try using .loc[row_indexer,col_indexer] = value instead\n",
      "\n",
      "See the caveats in the documentation: https://pandas.pydata.org/pandas-docs/stable/user_guide/indexing.html#returning-a-view-versus-a-copy\n",
      "  items_clustered['cluster'] = items_clustered['cluster'].astype(int)\n"
     ]
    },
    {
     "name": "stdout",
     "output_type": "stream",
     "text": [
      "H 0.003010315178493979\n",
      "I 0.5406458743315739\n",
      "U 0.003010315178493979\n"
     ]
    },
    {
     "name": "stderr",
     "output_type": "stream",
     "text": [
      "C:\\Users\\wypyc\\AppData\\Local\\Temp\\ipykernel_16060\\1826413549.py:66: SettingWithCopyWarning: \n",
      "A value is trying to be set on a copy of a slice from a DataFrame.\n",
      "Try using .loc[row_indexer,col_indexer] = value instead\n",
      "\n",
      "See the caveats in the documentation: https://pandas.pydata.org/pandas-docs/stable/user_guide/indexing.html#returning-a-view-versus-a-copy\n",
      "  ratings_df['cluster'] = 1\n",
      "C:\\Users\\wypyc\\AppData\\Local\\Temp\\ipykernel_16060\\2754067708.py:39: SettingWithCopyWarning: \n",
      "A value is trying to be set on a copy of a slice from a DataFrame.\n",
      "Try using .loc[row_indexer,col_indexer] = value instead\n",
      "\n",
      "See the caveats in the documentation: https://pandas.pydata.org/pandas-docs/stable/user_guide/indexing.html#returning-a-view-versus-a-copy\n",
      "  items_clustered['cluster'] = items_clustered['cluster'].astype(int)\n"
     ]
    },
    {
     "name": "stdout",
     "output_type": "stream",
     "text": [
      "H 0.0034146737326210936\n",
      "I 0.5108689368184481\n",
      "U 0.0034146737326210936\n"
     ]
    },
    {
     "name": "stderr",
     "output_type": "stream",
     "text": [
      "C:\\Users\\wypyc\\AppData\\Local\\Temp\\ipykernel_16060\\1826413549.py:66: SettingWithCopyWarning: \n",
      "A value is trying to be set on a copy of a slice from a DataFrame.\n",
      "Try using .loc[row_indexer,col_indexer] = value instead\n",
      "\n",
      "See the caveats in the documentation: https://pandas.pydata.org/pandas-docs/stable/user_guide/indexing.html#returning-a-view-versus-a-copy\n",
      "  ratings_df['cluster'] = 1\n",
      "C:\\Users\\wypyc\\AppData\\Local\\Temp\\ipykernel_16060\\2754067708.py:39: SettingWithCopyWarning: \n",
      "A value is trying to be set on a copy of a slice from a DataFrame.\n",
      "Try using .loc[row_indexer,col_indexer] = value instead\n",
      "\n",
      "See the caveats in the documentation: https://pandas.pydata.org/pandas-docs/stable/user_guide/indexing.html#returning-a-view-versus-a-copy\n",
      "  items_clustered['cluster'] = items_clustered['cluster'].astype(int)\n"
     ]
    },
    {
     "name": "stdout",
     "output_type": "stream",
     "text": [
      "H 0.0015070862997901026\n",
      "I 0.49829852722553203\n",
      "U 0.0015070862997901026\n"
     ]
    },
    {
     "name": "stderr",
     "output_type": "stream",
     "text": [
      "C:\\Users\\wypyc\\AppData\\Local\\Temp\\ipykernel_16060\\1826413549.py:66: SettingWithCopyWarning: \n",
      "A value is trying to be set on a copy of a slice from a DataFrame.\n",
      "Try using .loc[row_indexer,col_indexer] = value instead\n",
      "\n",
      "See the caveats in the documentation: https://pandas.pydata.org/pandas-docs/stable/user_guide/indexing.html#returning-a-view-versus-a-copy\n",
      "  ratings_df['cluster'] = 1\n",
      "C:\\Users\\wypyc\\AppData\\Local\\Temp\\ipykernel_16060\\2754067708.py:39: SettingWithCopyWarning: \n",
      "A value is trying to be set on a copy of a slice from a DataFrame.\n",
      "Try using .loc[row_indexer,col_indexer] = value instead\n",
      "\n",
      "See the caveats in the documentation: https://pandas.pydata.org/pandas-docs/stable/user_guide/indexing.html#returning-a-view-versus-a-copy\n",
      "  items_clustered['cluster'] = items_clustered['cluster'].astype(int)\n"
     ]
    },
    {
     "name": "stdout",
     "output_type": "stream",
     "text": [
      "H 0.0030451039122233346\n",
      "I 0.4894141052100048\n",
      "U 0.0030451039122233346\n",
      "dict_keys(['H', 'I', 'U'])\n"
     ]
    },
    {
     "name": "stderr",
     "output_type": "stream",
     "text": [
      "C:\\Users\\wypyc\\AppData\\Local\\Temp\\ipykernel_16060\\1826413549.py:66: SettingWithCopyWarning: \n",
      "A value is trying to be set on a copy of a slice from a DataFrame.\n",
      "Try using .loc[row_indexer,col_indexer] = value instead\n",
      "\n",
      "See the caveats in the documentation: https://pandas.pydata.org/pandas-docs/stable/user_guide/indexing.html#returning-a-view-versus-a-copy\n",
      "  ratings_df['cluster'] = 1\n",
      "C:\\Users\\wypyc\\AppData\\Local\\Temp\\ipykernel_16060\\2754067708.py:39: SettingWithCopyWarning: \n",
      "A value is trying to be set on a copy of a slice from a DataFrame.\n",
      "Try using .loc[row_indexer,col_indexer] = value instead\n",
      "\n",
      "See the caveats in the documentation: https://pandas.pydata.org/pandas-docs/stable/user_guide/indexing.html#returning-a-view-versus-a-copy\n",
      "  items_clustered['cluster'] = items_clustered['cluster'].astype(int)\n"
     ]
    },
    {
     "ename": "KeyboardInterrupt",
     "evalue": "",
     "output_type": "error",
     "traceback": [
      "\u001b[1;31m---------------------------------------------------------------------------\u001b[0m",
      "\u001b[1;31mKeyboardInterrupt\u001b[0m                         Traceback (most recent call last)",
      "\u001b[1;32mc:\\Users\\wypyc\\Desktop\\inżynierka\\project\\Cold-Start-Problem-in-RS\\notebooks\\popularity\\popularity_v2.ipynb Cell 24\u001b[0m line \u001b[0;36m1\n\u001b[1;32m----> <a href='vscode-notebook-cell:/c%3A/Users/wypyc/Desktop/in%C5%BCynierka/project/Cold-Start-Problem-in-RS/notebooks/popularity/popularity_v2.ipynb#X31sZmlsZQ%3D%3D?line=0'>1</a>\u001b[0m for_various_N(ratings, movies, users)\n",
      "\u001b[1;32mc:\\Users\\wypyc\\Desktop\\inżynierka\\project\\Cold-Start-Problem-in-RS\\notebooks\\popularity\\popularity_v2.ipynb Cell 24\u001b[0m line \u001b[0;36m2\n\u001b[0;32m      <a href='vscode-notebook-cell:/c%3A/Users/wypyc/Desktop/in%C5%BCynierka/project/Cold-Start-Problem-in-RS/notebooks/popularity/popularity_v2.ipynb#X31sZmlsZQ%3D%3D?line=0'>1</a>\u001b[0m \u001b[39mdef\u001b[39;00m \u001b[39mfor_various_N\u001b[39m(ratings, movies, users):\n\u001b[1;32m----> <a href='vscode-notebook-cell:/c%3A/Users/wypyc/Desktop/in%C5%BCynierka/project/Cold-Start-Problem-in-RS/notebooks/popularity/popularity_v2.ipynb#X31sZmlsZQ%3D%3D?line=1'>2</a>\u001b[0m     for_all_N \u001b[39m=\u001b[39m[main(ratings, movies, users, \u001b[39m0.6\u001b[39;49m, N) \u001b[39mfor\u001b[39;49;00m N \u001b[39min\u001b[39;49;00m \u001b[39mrange\u001b[39;49m(\u001b[39m1\u001b[39;49m,\u001b[39m16\u001b[39;49m)]\n\u001b[0;32m      <a href='vscode-notebook-cell:/c%3A/Users/wypyc/Desktop/in%C5%BCynierka/project/Cold-Start-Problem-in-RS/notebooks/popularity/popularity_v2.ipynb#X31sZmlsZQ%3D%3D?line=3'>4</a>\u001b[0m     NDCG_values \u001b[39m=\u001b[39m pd\u001b[39m.\u001b[39mDataFrame(np\u001b[39m.\u001b[39marray([for_all_N[i][\u001b[39m0\u001b[39m] \u001b[39mfor\u001b[39;00m i \u001b[39min\u001b[39;00m \u001b[39mrange\u001b[39m(\u001b[39m15\u001b[39m)]), columns\u001b[39m=\u001b[39m[\u001b[39m'\u001b[39m\u001b[39mHPop\u001b[39m\u001b[39m'\u001b[39m, \u001b[39m'\u001b[39m\u001b[39mIPop\u001b[39m\u001b[39m'\u001b[39m, \u001b[39m'\u001b[39m\u001b[39mUPop\u001b[39m\u001b[39m'\u001b[39m])\n\u001b[0;32m      <a href='vscode-notebook-cell:/c%3A/Users/wypyc/Desktop/in%C5%BCynierka/project/Cold-Start-Problem-in-RS/notebooks/popularity/popularity_v2.ipynb#X31sZmlsZQ%3D%3D?line=4'>5</a>\u001b[0m     NDCG_values\u001b[39m.\u001b[39mto_csv(Path(\u001b[39m'\u001b[39m\u001b[39m..\u001b[39m\u001b[39m'\u001b[39m,\u001b[39m'\u001b[39m\u001b[39m..\u001b[39m\u001b[39m'\u001b[39m,\u001b[39m'\u001b[39m\u001b[39moutputs\u001b[39m\u001b[39m'\u001b[39m,\u001b[39m'\u001b[39m\u001b[39mNDCG.csv\u001b[39m\u001b[39m'\u001b[39m), index\u001b[39m=\u001b[39m\u001b[39mFalse\u001b[39;00m)\n",
      "\u001b[1;32mc:\\Users\\wypyc\\Desktop\\inżynierka\\project\\Cold-Start-Problem-in-RS\\notebooks\\popularity\\popularity_v2.ipynb Cell 24\u001b[0m line \u001b[0;36m2\n\u001b[0;32m      <a href='vscode-notebook-cell:/c%3A/Users/wypyc/Desktop/in%C5%BCynierka/project/Cold-Start-Problem-in-RS/notebooks/popularity/popularity_v2.ipynb#X31sZmlsZQ%3D%3D?line=0'>1</a>\u001b[0m \u001b[39mdef\u001b[39;00m \u001b[39mfor_various_N\u001b[39m(ratings, movies, users):\n\u001b[1;32m----> <a href='vscode-notebook-cell:/c%3A/Users/wypyc/Desktop/in%C5%BCynierka/project/Cold-Start-Problem-in-RS/notebooks/popularity/popularity_v2.ipynb#X31sZmlsZQ%3D%3D?line=1'>2</a>\u001b[0m     for_all_N \u001b[39m=\u001b[39m[main(ratings, movies, users, \u001b[39m0.6\u001b[39;49m, N) \u001b[39mfor\u001b[39;00m N \u001b[39min\u001b[39;00m \u001b[39mrange\u001b[39m(\u001b[39m1\u001b[39m,\u001b[39m16\u001b[39m)]\n\u001b[0;32m      <a href='vscode-notebook-cell:/c%3A/Users/wypyc/Desktop/in%C5%BCynierka/project/Cold-Start-Problem-in-RS/notebooks/popularity/popularity_v2.ipynb#X31sZmlsZQ%3D%3D?line=3'>4</a>\u001b[0m     NDCG_values \u001b[39m=\u001b[39m pd\u001b[39m.\u001b[39mDataFrame(np\u001b[39m.\u001b[39marray([for_all_N[i][\u001b[39m0\u001b[39m] \u001b[39mfor\u001b[39;00m i \u001b[39min\u001b[39;00m \u001b[39mrange\u001b[39m(\u001b[39m15\u001b[39m)]), columns\u001b[39m=\u001b[39m[\u001b[39m'\u001b[39m\u001b[39mHPop\u001b[39m\u001b[39m'\u001b[39m, \u001b[39m'\u001b[39m\u001b[39mIPop\u001b[39m\u001b[39m'\u001b[39m, \u001b[39m'\u001b[39m\u001b[39mUPop\u001b[39m\u001b[39m'\u001b[39m])\n\u001b[0;32m      <a href='vscode-notebook-cell:/c%3A/Users/wypyc/Desktop/in%C5%BCynierka/project/Cold-Start-Problem-in-RS/notebooks/popularity/popularity_v2.ipynb#X31sZmlsZQ%3D%3D?line=4'>5</a>\u001b[0m     NDCG_values\u001b[39m.\u001b[39mto_csv(Path(\u001b[39m'\u001b[39m\u001b[39m..\u001b[39m\u001b[39m'\u001b[39m,\u001b[39m'\u001b[39m\u001b[39m..\u001b[39m\u001b[39m'\u001b[39m,\u001b[39m'\u001b[39m\u001b[39moutputs\u001b[39m\u001b[39m'\u001b[39m,\u001b[39m'\u001b[39m\u001b[39mNDCG.csv\u001b[39m\u001b[39m'\u001b[39m), index\u001b[39m=\u001b[39m\u001b[39mFalse\u001b[39;00m)\n",
      "\u001b[1;32mc:\\Users\\wypyc\\Desktop\\inżynierka\\project\\Cold-Start-Problem-in-RS\\notebooks\\popularity\\popularity_v2.ipynb Cell 24\u001b[0m line \u001b[0;36m4\n\u001b[0;32m     <a href='vscode-notebook-cell:/c%3A/Users/wypyc/Desktop/in%C5%BCynierka/project/Cold-Start-Problem-in-RS/notebooks/popularity/popularity_v2.ipynb#X31sZmlsZQ%3D%3D?line=39'>40</a>\u001b[0m final_matrix_Upop \u001b[39m=\u001b[39m nazwepozniej(test_set, train_set, \u001b[39m0\u001b[39m, N, matrix, users_test_clustered, users_train_clustered, items_clustered)\n\u001b[0;32m     <a href='vscode-notebook-cell:/c%3A/Users/wypyc/Desktop/in%C5%BCynierka/project/Cold-Start-Problem-in-RS/notebooks/popularity/popularity_v2.ipynb#X31sZmlsZQ%3D%3D?line=40'>41</a>\u001b[0m final_matrix_Hpop \u001b[39m=\u001b[39m nazwepozniej(test_set, train_set, alpha, N, matrix, users_test_clustered, users_train_clustered, items_clustered)\n\u001b[1;32m---> <a href='vscode-notebook-cell:/c%3A/Users/wypyc/Desktop/in%C5%BCynierka/project/Cold-Start-Problem-in-RS/notebooks/popularity/popularity_v2.ipynb#X31sZmlsZQ%3D%3D?line=41'>42</a>\u001b[0m final_matrix_Ipop \u001b[39m=\u001b[39m nazwepozniej(test_set, train_set, \u001b[39m1\u001b[39;49m, N, matrix, users_test_clustered, users_train_clustered, items_clustered)\n\u001b[0;32m     <a href='vscode-notebook-cell:/c%3A/Users/wypyc/Desktop/in%C5%BCynierka/project/Cold-Start-Problem-in-RS/notebooks/popularity/popularity_v2.ipynb#X31sZmlsZQ%3D%3D?line=43'>44</a>\u001b[0m \u001b[39mfor\u001b[39;00m df, model \u001b[39min\u001b[39;00m [(final_matrix_Hpop,\u001b[39m'\u001b[39m\u001b[39mH\u001b[39m\u001b[39m'\u001b[39m),(final_matrix_Ipop,\u001b[39m'\u001b[39m\u001b[39mI\u001b[39m\u001b[39m'\u001b[39m),(final_matrix_Upop,\u001b[39m'\u001b[39m\u001b[39mU\u001b[39m\u001b[39m'\u001b[39m)]:\n\u001b[0;32m     <a href='vscode-notebook-cell:/c%3A/Users/wypyc/Desktop/in%C5%BCynierka/project/Cold-Start-Problem-in-RS/notebooks/popularity/popularity_v2.ipynb#X31sZmlsZQ%3D%3D?line=44'>45</a>\u001b[0m     \u001b[39mprint\u001b[39m(model, df[\u001b[39m'\u001b[39m\u001b[39mNDCG\u001b[39m\u001b[39m'\u001b[39m]\u001b[39m.\u001b[39mmean())\n",
      "\u001b[1;32mc:\\Users\\wypyc\\Desktop\\inżynierka\\project\\Cold-Start-Problem-in-RS\\notebooks\\popularity\\popularity_v2.ipynb Cell 24\u001b[0m line \u001b[0;36m3\n\u001b[0;32m      <a href='vscode-notebook-cell:/c%3A/Users/wypyc/Desktop/in%C5%BCynierka/project/Cold-Start-Problem-in-RS/notebooks/popularity/popularity_v2.ipynb#X31sZmlsZQ%3D%3D?line=0'>1</a>\u001b[0m \u001b[39mdef\u001b[39;00m \u001b[39mnazwepozniej\u001b[39m(test_matrix, train_matrix, alpha, N, ratings_matrix, test_users_cl, train_users_cl, items_cl):\n\u001b[1;32m----> <a href='vscode-notebook-cell:/c%3A/Users/wypyc/Desktop/in%C5%BCynierka/project/Cold-Start-Problem-in-RS/notebooks/popularity/popularity_v2.ipynb#X31sZmlsZQ%3D%3D?line=2'>3</a>\u001b[0m     generated \u001b[39m=\u001b[39m create_matrix_for_generated(test_matrix, train_matrix, alpha, ratings_matrix, test_users_cl, train_users_cl, items_cl)\n\u001b[0;32m      <a href='vscode-notebook-cell:/c%3A/Users/wypyc/Desktop/in%C5%BCynierka/project/Cold-Start-Problem-in-RS/notebooks/popularity/popularity_v2.ipynb#X31sZmlsZQ%3D%3D?line=3'>4</a>\u001b[0m     test_with_Hu \u001b[39m=\u001b[39m test_matrix\u001b[39m.\u001b[39mapply(\u001b[39mlambda\u001b[39;00m row: show_Hu(row), axis \u001b[39m=\u001b[39m \u001b[39m1\u001b[39m)\n\u001b[0;32m      <a href='vscode-notebook-cell:/c%3A/Users/wypyc/Desktop/in%C5%BCynierka/project/Cold-Start-Problem-in-RS/notebooks/popularity/popularity_v2.ipynb#X31sZmlsZQ%3D%3D?line=4'>5</a>\u001b[0m     generated_topN \u001b[39m=\u001b[39m generated\u001b[39m.\u001b[39mapply(\u001b[39mlambda\u001b[39;00m row: find_topN_items(row, N), axis \u001b[39m=\u001b[39m \u001b[39m1\u001b[39m)\n",
      "\u001b[1;32mc:\\Users\\wypyc\\Desktop\\inżynierka\\project\\Cold-Start-Problem-in-RS\\notebooks\\popularity\\popularity_v2.ipynb Cell 24\u001b[0m line \u001b[0;36m3\n\u001b[0;32m     <a href='vscode-notebook-cell:/c%3A/Users/wypyc/Desktop/in%C5%BCynierka/project/Cold-Start-Problem-in-RS/notebooks/popularity/popularity_v2.ipynb#X31sZmlsZQ%3D%3D?line=34'>35</a>\u001b[0m test_ratings_HP \u001b[39m=\u001b[39m pd\u001b[39m.\u001b[39mDataFrame(test_users_dictionary)\n\u001b[0;32m     <a href='vscode-notebook-cell:/c%3A/Users/wypyc/Desktop/in%C5%BCynierka/project/Cold-Start-Problem-in-RS/notebooks/popularity/popularity_v2.ipynb#X31sZmlsZQ%3D%3D?line=35'>36</a>\u001b[0m test_ratings_HP\u001b[39m.\u001b[39mto_csv(Path(\u001b[39m'\u001b[39m\u001b[39m..\u001b[39m\u001b[39m'\u001b[39m,\u001b[39m'\u001b[39m\u001b[39m..\u001b[39m\u001b[39m'\u001b[39m,\u001b[39m'\u001b[39m\u001b[39moutputs\u001b[39m\u001b[39m'\u001b[39m,\u001b[39m'\u001b[39m\u001b[39mtest_ratings.csv\u001b[39m\u001b[39m'\u001b[39m), index\u001b[39m=\u001b[39m\u001b[39mFalse\u001b[39;00m)\n\u001b[1;32m---> <a href='vscode-notebook-cell:/c%3A/Users/wypyc/Desktop/in%C5%BCynierka/project/Cold-Start-Problem-in-RS/notebooks/popularity/popularity_v2.ipynb#X31sZmlsZQ%3D%3D?line=36'>37</a>\u001b[0m test_ratings_matrix \u001b[39m=\u001b[39m test_ratings_HP\u001b[39m.\u001b[39;49mpivot(index\u001b[39m=\u001b[39;49m\u001b[39m'\u001b[39;49m\u001b[39muser_id\u001b[39;49m\u001b[39m'\u001b[39;49m, columns\u001b[39m=\u001b[39;49m\u001b[39m'\u001b[39;49m\u001b[39mmovie_id\u001b[39;49m\u001b[39m'\u001b[39;49m, values\u001b[39m=\u001b[39;49m\u001b[39m'\u001b[39;49m\u001b[39mrating\u001b[39;49m\u001b[39m'\u001b[39;49m)\n\u001b[0;32m     <a href='vscode-notebook-cell:/c%3A/Users/wypyc/Desktop/in%C5%BCynierka/project/Cold-Start-Problem-in-RS/notebooks/popularity/popularity_v2.ipynb#X31sZmlsZQ%3D%3D?line=37'>38</a>\u001b[0m test_ratings_matrix \u001b[39m=\u001b[39m test_ratings_matrix\u001b[39m.\u001b[39mfillna(\u001b[39m0\u001b[39m)\n\u001b[0;32m     <a href='vscode-notebook-cell:/c%3A/Users/wypyc/Desktop/in%C5%BCynierka/project/Cold-Start-Problem-in-RS/notebooks/popularity/popularity_v2.ipynb#X31sZmlsZQ%3D%3D?line=38'>39</a>\u001b[0m test_ratings_matrix\u001b[39m.\u001b[39mto_csv(Path(\u001b[39m'\u001b[39m\u001b[39m..\u001b[39m\u001b[39m'\u001b[39m,\u001b[39m'\u001b[39m\u001b[39m..\u001b[39m\u001b[39m'\u001b[39m,\u001b[39m'\u001b[39m\u001b[39mcheck\u001b[39m\u001b[39m'\u001b[39m,\u001b[39m'\u001b[39m\u001b[39mtest_mtrx_gen.csv\u001b[39m\u001b[39m'\u001b[39m))\n",
      "File \u001b[1;32mc:\\Users\\wypyc\\Desktop\\inżynierka\\project\\Cold-Start-Problem-in-RS\\.venv\\Lib\\site-packages\\pandas\\core\\frame.py:9025\u001b[0m, in \u001b[0;36mDataFrame.pivot\u001b[1;34m(self, columns, index, values)\u001b[0m\n\u001b[0;32m   9018\u001b[0m \u001b[39m@Substitution\u001b[39m(\u001b[39m\"\u001b[39m\u001b[39m\"\u001b[39m)\n\u001b[0;32m   9019\u001b[0m \u001b[39m@Appender\u001b[39m(_shared_docs[\u001b[39m\"\u001b[39m\u001b[39mpivot\u001b[39m\u001b[39m\"\u001b[39m])\n\u001b[0;32m   9020\u001b[0m \u001b[39mdef\u001b[39;00m \u001b[39mpivot\u001b[39m(\n\u001b[0;32m   9021\u001b[0m     \u001b[39mself\u001b[39m, \u001b[39m*\u001b[39m, columns, index\u001b[39m=\u001b[39mlib\u001b[39m.\u001b[39mno_default, values\u001b[39m=\u001b[39mlib\u001b[39m.\u001b[39mno_default\n\u001b[0;32m   9022\u001b[0m ) \u001b[39m-\u001b[39m\u001b[39m>\u001b[39m DataFrame:\n\u001b[0;32m   9023\u001b[0m     \u001b[39mfrom\u001b[39;00m \u001b[39mpandas\u001b[39;00m\u001b[39m.\u001b[39;00m\u001b[39mcore\u001b[39;00m\u001b[39m.\u001b[39;00m\u001b[39mreshape\u001b[39;00m\u001b[39m.\u001b[39;00m\u001b[39mpivot\u001b[39;00m \u001b[39mimport\u001b[39;00m pivot\n\u001b[1;32m-> 9025\u001b[0m     \u001b[39mreturn\u001b[39;00m pivot(\u001b[39mself\u001b[39;49m, index\u001b[39m=\u001b[39;49mindex, columns\u001b[39m=\u001b[39;49mcolumns, values\u001b[39m=\u001b[39;49mvalues)\n",
      "File \u001b[1;32mc:\\Users\\wypyc\\Desktop\\inżynierka\\project\\Cold-Start-Problem-in-RS\\.venv\\Lib\\site-packages\\pandas\\core\\reshape\\pivot.py:553\u001b[0m, in \u001b[0;36mpivot\u001b[1;34m(data, columns, index, values)\u001b[0m\n\u001b[0;32m    549\u001b[0m         indexed \u001b[39m=\u001b[39m data\u001b[39m.\u001b[39m_constructor_sliced(data[values]\u001b[39m.\u001b[39m_values, index\u001b[39m=\u001b[39mmultiindex)\n\u001b[0;32m    550\u001b[0m \u001b[39m# error: Argument 1 to \"unstack\" of \"DataFrame\" has incompatible type \"Union\u001b[39;00m\n\u001b[0;32m    551\u001b[0m \u001b[39m# [List[Any], ExtensionArray, ndarray[Any, Any], Index, Series]\"; expected\u001b[39;00m\n\u001b[0;32m    552\u001b[0m \u001b[39m# \"Hashable\"\u001b[39;00m\n\u001b[1;32m--> 553\u001b[0m result \u001b[39m=\u001b[39m indexed\u001b[39m.\u001b[39;49munstack(columns_listlike)  \u001b[39m# type: ignore[arg-type]\u001b[39;00m\n\u001b[0;32m    554\u001b[0m result\u001b[39m.\u001b[39mindex\u001b[39m.\u001b[39mnames \u001b[39m=\u001b[39m [\n\u001b[0;32m    555\u001b[0m     name \u001b[39mif\u001b[39;00m name \u001b[39mis\u001b[39;00m \u001b[39mnot\u001b[39;00m lib\u001b[39m.\u001b[39mno_default \u001b[39melse\u001b[39;00m \u001b[39mNone\u001b[39;00m \u001b[39mfor\u001b[39;00m name \u001b[39min\u001b[39;00m result\u001b[39m.\u001b[39mindex\u001b[39m.\u001b[39mnames\n\u001b[0;32m    556\u001b[0m ]\n\u001b[0;32m    558\u001b[0m \u001b[39mreturn\u001b[39;00m result\n",
      "File \u001b[1;32mc:\\Users\\wypyc\\Desktop\\inżynierka\\project\\Cold-Start-Problem-in-RS\\.venv\\Lib\\site-packages\\pandas\\core\\series.py:4455\u001b[0m, in \u001b[0;36mSeries.unstack\u001b[1;34m(self, level, fill_value, sort)\u001b[0m\n\u001b[0;32m   4410\u001b[0m \u001b[39m\u001b[39m\u001b[39m\"\"\"\u001b[39;00m\n\u001b[0;32m   4411\u001b[0m \u001b[39mUnstack, also known as pivot, Series with MultiIndex to produce DataFrame.\u001b[39;00m\n\u001b[0;32m   4412\u001b[0m \n\u001b[1;32m   (...)\u001b[0m\n\u001b[0;32m   4451\u001b[0m \u001b[39mb    2    4\u001b[39;00m\n\u001b[0;32m   4452\u001b[0m \u001b[39m\"\"\"\u001b[39;00m\n\u001b[0;32m   4453\u001b[0m \u001b[39mfrom\u001b[39;00m \u001b[39mpandas\u001b[39;00m\u001b[39m.\u001b[39;00m\u001b[39mcore\u001b[39;00m\u001b[39m.\u001b[39;00m\u001b[39mreshape\u001b[39;00m\u001b[39m.\u001b[39;00m\u001b[39mreshape\u001b[39;00m \u001b[39mimport\u001b[39;00m unstack\n\u001b[1;32m-> 4455\u001b[0m \u001b[39mreturn\u001b[39;00m unstack(\u001b[39mself\u001b[39;49m, level, fill_value, sort)\n",
      "File \u001b[1;32mc:\\Users\\wypyc\\Desktop\\inżynierka\\project\\Cold-Start-Problem-in-RS\\.venv\\Lib\\site-packages\\pandas\\core\\reshape\\reshape.py:517\u001b[0m, in \u001b[0;36munstack\u001b[1;34m(obj, level, fill_value, sort)\u001b[0m\n\u001b[0;32m    515\u001b[0m \u001b[39mif\u001b[39;00m is_1d_only_ea_dtype(obj\u001b[39m.\u001b[39mdtype):\n\u001b[0;32m    516\u001b[0m     \u001b[39mreturn\u001b[39;00m _unstack_extension_series(obj, level, fill_value, sort\u001b[39m=\u001b[39msort)\n\u001b[1;32m--> 517\u001b[0m unstacker \u001b[39m=\u001b[39m _Unstacker(\n\u001b[0;32m    518\u001b[0m     obj\u001b[39m.\u001b[39;49mindex, level\u001b[39m=\u001b[39;49mlevel, constructor\u001b[39m=\u001b[39;49mobj\u001b[39m.\u001b[39;49m_constructor_expanddim, sort\u001b[39m=\u001b[39;49msort\n\u001b[0;32m    519\u001b[0m )\n\u001b[0;32m    520\u001b[0m \u001b[39mreturn\u001b[39;00m unstacker\u001b[39m.\u001b[39mget_result(\n\u001b[0;32m    521\u001b[0m     obj\u001b[39m.\u001b[39m_values, value_columns\u001b[39m=\u001b[39m\u001b[39mNone\u001b[39;00m, fill_value\u001b[39m=\u001b[39mfill_value\n\u001b[0;32m    522\u001b[0m )\n",
      "File \u001b[1;32mc:\\Users\\wypyc\\Desktop\\inżynierka\\project\\Cold-Start-Problem-in-RS\\.venv\\Lib\\site-packages\\pandas\\core\\reshape\\reshape.py:154\u001b[0m, in \u001b[0;36m_Unstacker.__init__\u001b[1;34m(self, index, level, constructor, sort)\u001b[0m\n\u001b[0;32m    146\u001b[0m \u001b[39mif\u001b[39;00m num_cells \u001b[39m>\u001b[39m np\u001b[39m.\u001b[39miinfo(np\u001b[39m.\u001b[39mint32)\u001b[39m.\u001b[39mmax:\n\u001b[0;32m    147\u001b[0m     warnings\u001b[39m.\u001b[39mwarn(\n\u001b[0;32m    148\u001b[0m         \u001b[39mf\u001b[39m\u001b[39m\"\u001b[39m\u001b[39mThe following operation may generate \u001b[39m\u001b[39m{\u001b[39;00mnum_cells\u001b[39m}\u001b[39;00m\u001b[39m cells \u001b[39m\u001b[39m\"\u001b[39m\n\u001b[0;32m    149\u001b[0m         \u001b[39mf\u001b[39m\u001b[39m\"\u001b[39m\u001b[39min the resulting pandas object.\u001b[39m\u001b[39m\"\u001b[39m,\n\u001b[0;32m    150\u001b[0m         PerformanceWarning,\n\u001b[0;32m    151\u001b[0m         stacklevel\u001b[39m=\u001b[39mfind_stack_level(),\n\u001b[0;32m    152\u001b[0m     )\n\u001b[1;32m--> 154\u001b[0m \u001b[39mself\u001b[39;49m\u001b[39m.\u001b[39;49m_make_selectors()\n",
      "File \u001b[1;32mc:\\Users\\wypyc\\Desktop\\inżynierka\\project\\Cold-Start-Problem-in-RS\\.venv\\Lib\\site-packages\\pandas\\core\\reshape\\reshape.py:195\u001b[0m, in \u001b[0;36m_Unstacker._make_selectors\u001b[1;34m(self)\u001b[0m\n\u001b[0;32m    192\u001b[0m new_levels \u001b[39m=\u001b[39m \u001b[39mself\u001b[39m\u001b[39m.\u001b[39mnew_index_levels\n\u001b[0;32m    194\u001b[0m \u001b[39m# make the mask\u001b[39;00m\n\u001b[1;32m--> 195\u001b[0m remaining_labels \u001b[39m=\u001b[39m \u001b[39mself\u001b[39;49m\u001b[39m.\u001b[39;49msorted_labels[:\u001b[39m-\u001b[39m\u001b[39m1\u001b[39m]\n\u001b[0;32m    196\u001b[0m level_sizes \u001b[39m=\u001b[39m \u001b[39mtuple\u001b[39m(\u001b[39mlen\u001b[39m(x) \u001b[39mfor\u001b[39;00m x \u001b[39min\u001b[39;00m new_levels)\n\u001b[0;32m    198\u001b[0m comp_index, obs_ids \u001b[39m=\u001b[39m get_compressed_ids(remaining_labels, level_sizes)\n",
      "File \u001b[1;32mproperties.pyx:36\u001b[0m, in \u001b[0;36mpandas._libs.properties.CachedProperty.__get__\u001b[1;34m()\u001b[0m\n",
      "File \u001b[1;32mc:\\Users\\wypyc\\Desktop\\inżynierka\\project\\Cold-Start-Problem-in-RS\\.venv\\Lib\\site-packages\\pandas\\core\\reshape\\reshape.py:178\u001b[0m, in \u001b[0;36m_Unstacker.sorted_labels\u001b[1;34m(self)\u001b[0m\n\u001b[0;32m    176\u001b[0m \u001b[39m@cache_readonly\u001b[39m\n\u001b[0;32m    177\u001b[0m \u001b[39mdef\u001b[39;00m \u001b[39msorted_labels\u001b[39m(\u001b[39mself\u001b[39m) \u001b[39m-\u001b[39m\u001b[39m>\u001b[39m \u001b[39mlist\u001b[39m[np\u001b[39m.\u001b[39mndarray]:\n\u001b[1;32m--> 178\u001b[0m     indexer, to_sort \u001b[39m=\u001b[39m \u001b[39mself\u001b[39;49m\u001b[39m.\u001b[39;49m_indexer_and_to_sort\n\u001b[0;32m    179\u001b[0m     \u001b[39mif\u001b[39;00m \u001b[39mself\u001b[39m\u001b[39m.\u001b[39msort:\n\u001b[0;32m    180\u001b[0m         \u001b[39mreturn\u001b[39;00m [line\u001b[39m.\u001b[39mtake(indexer) \u001b[39mfor\u001b[39;00m line \u001b[39min\u001b[39;00m to_sort]\n",
      "File \u001b[1;32mproperties.pyx:36\u001b[0m, in \u001b[0;36mpandas._libs.properties.CachedProperty.__get__\u001b[1;34m()\u001b[0m\n",
      "File \u001b[1;32mc:\\Users\\wypyc\\Desktop\\inżynierka\\project\\Cold-Start-Problem-in-RS\\.venv\\Lib\\site-packages\\pandas\\core\\reshape\\reshape.py:170\u001b[0m, in \u001b[0;36m_Unstacker._indexer_and_to_sort\u001b[1;34m(self)\u001b[0m\n\u001b[0;32m    167\u001b[0m to_sort \u001b[39m=\u001b[39m codes[:v] \u001b[39m+\u001b[39m codes[v \u001b[39m+\u001b[39m \u001b[39m1\u001b[39m :] \u001b[39m+\u001b[39m [codes[v]]\n\u001b[0;32m    168\u001b[0m sizes \u001b[39m=\u001b[39m \u001b[39mtuple\u001b[39m(\u001b[39mlen\u001b[39m(x) \u001b[39mfor\u001b[39;00m x \u001b[39min\u001b[39;00m levs[:v] \u001b[39m+\u001b[39m levs[v \u001b[39m+\u001b[39m \u001b[39m1\u001b[39m :] \u001b[39m+\u001b[39m [levs[v]])\n\u001b[1;32m--> 170\u001b[0m comp_index, obs_ids \u001b[39m=\u001b[39m get_compressed_ids(to_sort, sizes)\n\u001b[0;32m    171\u001b[0m ngroups \u001b[39m=\u001b[39m \u001b[39mlen\u001b[39m(obs_ids)\n\u001b[0;32m    173\u001b[0m indexer \u001b[39m=\u001b[39m get_group_index_sorter(comp_index, ngroups)\n",
      "File \u001b[1;32mc:\\Users\\wypyc\\Desktop\\inżynierka\\project\\Cold-Start-Problem-in-RS\\.venv\\Lib\\site-packages\\pandas\\core\\sorting.py:235\u001b[0m, in \u001b[0;36mget_compressed_ids\u001b[1;34m(labels, sizes)\u001b[0m\n\u001b[0;32m    217\u001b[0m \u001b[39m\u001b[39m\u001b[39m\"\"\"\u001b[39;00m\n\u001b[0;32m    218\u001b[0m \u001b[39mGroup_index is offsets into cartesian product of all possible labels. This\u001b[39;00m\n\u001b[0;32m    219\u001b[0m \u001b[39mspace can be huge, so this function compresses it, by computing offsets\u001b[39;00m\n\u001b[1;32m   (...)\u001b[0m\n\u001b[0;32m    232\u001b[0m \u001b[39m    obs_group_ids\u001b[39;00m\n\u001b[0;32m    233\u001b[0m \u001b[39m\"\"\"\u001b[39;00m\n\u001b[0;32m    234\u001b[0m ids \u001b[39m=\u001b[39m get_group_index(labels, sizes, sort\u001b[39m=\u001b[39m\u001b[39mTrue\u001b[39;00m, xnull\u001b[39m=\u001b[39m\u001b[39mFalse\u001b[39;00m)\n\u001b[1;32m--> 235\u001b[0m \u001b[39mreturn\u001b[39;00m compress_group_index(ids, sort\u001b[39m=\u001b[39;49m\u001b[39mTrue\u001b[39;49;00m)\n",
      "File \u001b[1;32mc:\\Users\\wypyc\\Desktop\\inżynierka\\project\\Cold-Start-Problem-in-RS\\.venv\\Lib\\site-packages\\pandas\\core\\sorting.py:757\u001b[0m, in \u001b[0;36mcompress_group_index\u001b[1;34m(group_index, sort)\u001b[0m\n\u001b[0;32m    754\u001b[0m     comp_ids, obs_group_ids \u001b[39m=\u001b[39m table\u001b[39m.\u001b[39mget_labels_groupby(group_index)\n\u001b[0;32m    756\u001b[0m     \u001b[39mif\u001b[39;00m sort \u001b[39mand\u001b[39;00m \u001b[39mlen\u001b[39m(obs_group_ids) \u001b[39m>\u001b[39m \u001b[39m0\u001b[39m:\n\u001b[1;32m--> 757\u001b[0m         obs_group_ids, comp_ids \u001b[39m=\u001b[39m _reorder_by_uniques(obs_group_ids, comp_ids)\n\u001b[0;32m    759\u001b[0m \u001b[39mreturn\u001b[39;00m ensure_int64(comp_ids), ensure_int64(obs_group_ids)\n",
      "File \u001b[1;32mc:\\Users\\wypyc\\Desktop\\inżynierka\\project\\Cold-Start-Problem-in-RS\\.venv\\Lib\\site-packages\\pandas\\core\\sorting.py:786\u001b[0m, in \u001b[0;36m_reorder_by_uniques\u001b[1;34m(uniques, labels)\u001b[0m\n\u001b[0;32m    783\u001b[0m mask \u001b[39m=\u001b[39m labels \u001b[39m<\u001b[39m \u001b[39m0\u001b[39m\n\u001b[0;32m    785\u001b[0m \u001b[39m# move labels to right locations (ie, unsort ascending labels)\u001b[39;00m\n\u001b[1;32m--> 786\u001b[0m labels \u001b[39m=\u001b[39m reverse_indexer\u001b[39m.\u001b[39mtake(labels)\n\u001b[0;32m    787\u001b[0m np\u001b[39m.\u001b[39mputmask(labels, mask, \u001b[39m-\u001b[39m\u001b[39m1\u001b[39m)\n\u001b[0;32m    789\u001b[0m \u001b[39m# sort observed ids\u001b[39;00m\n",
      "\u001b[1;31mKeyboardInterrupt\u001b[0m: "
     ]
    }
   ],
   "source": [
    "for_various_N(ratings, movies, users)"
   ]
  },
  {
   "cell_type": "code",
   "execution_count": null,
   "metadata": {},
   "outputs": [],
   "source": []
  },
  {
   "cell_type": "code",
   "execution_count": 137,
   "metadata": {},
   "outputs": [],
   "source": [
    "NDCG_values.to_csv(Path('..','..','outputs','NDCG.csv'), index=False)\n",
    "Precision_values.to_csv(Path('..','..','outputs','Precision.csv'), index=False)\n",
    "Recall_values.to_csv(Path('..','..','outputs','Recall.csv'), index=False)\n"
   ]
  },
  {
   "cell_type": "code",
   "execution_count": 120,
   "metadata": {},
   "outputs": [
    {
     "data": {
      "image/png": "[encoded data removed]",
      "text/plain": [
       "<Figure size 640x480 with 1 Axes>"
      ]
     },
     "metadata": {},
     "output_type": "display_data"
    }
   ],
   "source": [
    "plt.scatter(NDCG_values['N'], NDCG_values['HPop'], label = 'HPop', color = 'blue')\n",
    "plt.scatter(NDCG_values['N'], NDCG_values['IPop'], label = 'IPop', color = 'red')\n",
    "plt.scatter(NDCG_values['N'], NDCG_values['UPop'], label = 'UPop', color = 'green')\n",
    "plt.legend()\n",
    "plt.xlabel('N')\n",
    "plt.ylabel('NDCG@N')\n",
    "plt.xlim(0,20)\n",
    "plt.ylim(0,1)\n",
    "plt.grid()"
   ]
  },
  {
   "cell_type": "code",
   "execution_count": 126,
   "metadata": {},
   "outputs": [
    {
     "data": {
      "image/png": "[encoded data removed]",
      "text/plain": [
       "<Figure size 640x480 with 1 Axes>"
      ]
     },
     "metadata": {},
     "output_type": "display_data"
    }
   ],
   "source": [
    "plt.scatter(Recall_values['HPop'], Precision_values['HPop'], label = 'HPop', color = 'blue', marker = 'o')\n",
    "plt.scatter(Recall_values['UPop'], Precision_values['UPop'], label = 'UPop', color = 'green', marker = 'o')\n",
    "plt.scatter(Recall_values['IPop'], Precision_values['IPop'], label = 'IPop', color = 'red', marker = 'o')\n",
    "plt.legend()\n",
    "plt.xlabel('Precision')\n",
    "plt.ylabel('Recall')\n",
    "plt.grid()"
   ]
  },
  {
   "cell_type": "code",
   "execution_count": 53,
   "metadata": {},
   "outputs": [
    {
     "name": "stderr",
     "output_type": "stream",
     "text": [
      "c:\\Users\\wypyc\\Desktop\\inżynierka\\project\\Cold-Start-Problem-in-RS\\.venv\\Lib\\site-packages\\sklearn\\cluster\\_kmeans.py:1416: FutureWarning: The default value of `n_init` will change from 10 to 'auto' in 1.4. Set the value of `n_init` explicitly to suppress the warning\n",
      "  super()._check_params_vs_input(X, default_n_init=10)\n"
     ]
    },
    {
     "name": "stdout",
     "output_type": "stream",
     "text": [
      "[257   1 258   7   9  15 276 405 151  25 288 294  50 181 222 100 742 237\n",
      " 111 117 118 121 125 127] to ta problematyczna array 2022.0 maksymalna ocena 50 id drugi sposob 50 PIERWSZU\n",
      "6 klaster maksymalnego\n",
      "[257   1 258   7   9  15 276 405 151  25 288 294  50 181 222 100 742 237\n",
      " 111 117 118 121 125 127] to ta problematyczna array 2022.0 maksymalna ocena 50 id drugi sposob 50 PIERWSZU\n",
      "6 klaster maksymalnego\n",
      "[257   1 258   7   9  15 276 405 151  25 288 294  50 181 222 100 742 237\n",
      " 111 117 118 121 125 127] to ta problematyczna array 2022.0 maksymalna ocena 50 id drugi sposob 50 PIERWSZU\n",
      "6 klaster maksymalnego\n"
     ]
    },
    {
     "data": {
      "text/plain": [
       "(0.03889265761551604, 0.04952018598375229, 0.038107810909054816)"
      ]
     },
     "execution_count": 53,
     "metadata": {},
     "output_type": "execute_result"
    }
   ],
   "source": [
    "dfs = main(ratings, movies, users, 0.9, 20)\n",
    "hpop =dfs[0]\n",
    "ipop = dfs[1]\n",
    "upop = dfs[2]\n",
    "hpop['NDCG'].mean(), ipop['NDCG'].mean(), upop['NDCG'].mean()"
   ]
  },
  {
   "cell_type": "code",
   "execution_count": 79,
   "metadata": {},
   "outputs": [
    {
     "name": "stdout",
     "output_type": "stream",
     "text": [
      "942 940\n",
      "942 941\n",
      "941 942\n",
      "942 936\n",
      "942 939\n"
     ]
    }
   ],
   "source": [
    "data = ratings\n",
    "matrix = data.pivot(index='user_id', columns='movie_id', values='rating')\n",
    "matrix = matrix.fillna(0)\n",
    "kfold = KFold(n_splits=5, shuffle=True, random_state=42)\n",
    "\n",
    "for train_idx, test_idx in kfold.split(matrix.index.values):\n",
    "    train_data = matrix[train_idx + 1]\n",
    "    test_data = matrix[test_idx + 1]\n",
    "    print(np.max(train_idx), np.max(test_idx))"
   ]
  },
  {
   "cell_type": "code",
   "execution_count": 43,
   "metadata": {},
   "outputs": [
    {
     "data": {
      "text/plain": [
       "0.060043246382077274"
      ]
     },
     "execution_count": 43,
     "metadata": {},
     "output_type": "execute_result"
    }
   ],
   "source": [
    "upop = ff['NDCG'].mean()\n",
    "upop"
   ]
  },
  {
   "cell_type": "code",
   "execution_count": 40,
   "metadata": {},
   "outputs": [
    {
     "data": {
      "text/plain": [
       "0.08851391807142293"
      ]
     },
     "execution_count": 40,
     "metadata": {},
     "output_type": "execute_result"
    }
   ],
   "source": [
    "ipop = ff['NDCG'].mean()\n",
    "ipop"
   ]
  },
  {
   "cell_type": "code",
   "execution_count": 37,
   "metadata": {},
   "outputs": [
    {
     "data": {
      "text/plain": [
       "0.07218089224590386"
      ]
     },
     "execution_count": 37,
     "metadata": {},
     "output_type": "execute_result"
    }
   ],
   "source": [
    "hpop = ff['NDCG'].mean()\n",
    "hpop"
   ]
  },
  {
   "cell_type": "code",
   "execution_count": 33,
   "metadata": {},
   "outputs": [
    {
     "data": {
      "text/plain": [
       "<Axes: xlabel='Recall', ylabel='Precision'>"
      ]
     },
     "execution_count": 33,
     "metadata": {},
     "output_type": "execute_result"
    },
    {
     "data": {
      "image/png": "[encoded data removed]",
      "text/plain": [
       "<Figure size 640x480 with 1 Axes>"
      ]
     },
     "metadata": {},
     "output_type": "display_data"
    }
   ],
   "source": [
    "ff.plot(x = 'Recall', y = 'Precision', kind = 'scatter')"
   ]
  },
  {
   "cell_type": "code",
   "execution_count": 127,
   "metadata": {},
   "outputs": [
    {
     "data": {
      "text/plain": [
       "0.021716101056834608"
      ]
     },
     "execution_count": 127,
     "metadata": {},
     "output_type": "execute_result"
    }
   ],
   "source": [
    "D = final_df[0]\n",
    "D[D['NDCG'] > 0]['NDCG'].mean()"
   ]
  },
  {
   "cell_type": "code",
   "execution_count": 133,
   "metadata": {},
   "outputs": [
    {
     "data": {
      "text/plain": [
       "<Axes: xlabel='Precision', ylabel='Recall'>"
      ]
     },
     "execution_count": 133,
     "metadata": {},
     "output_type": "execute_result"
    },
    {
     "data": {
      "image/png": "[encoded data removed]",
      "text/plain": [
       "<Figure size 640x480 with 1 Axes>"
      ]
     },
     "metadata": {},
     "output_type": "display_data"
    }
   ],
   "source": [
    "D = final_df[0]\n",
    "D[D['Recall'] > 0]\n",
    "\n",
    "D.plot(x = 'Precision', y = 'Recall', kind = 'scatter')"
   ]
  },
  {
   "cell_type": "code",
   "execution_count": 63,
   "metadata": {},
   "outputs": [
    {
     "name": "stdout",
     "output_type": "stream",
     "text": [
      "Init: initializing centroids\n",
      "Init: initializing clusters\n",
      "Starting iterations...\n",
      "Run 1, iteration: 1/100, moves: 78, cost: 1151.0\n",
      "Run 1, iteration: 2/100, moves: 4, cost: 1151.0\n",
      "Init: initializing centroids\n",
      "Init: initializing clusters\n",
      "Starting iterations...\n",
      "Run 2, iteration: 1/100, moves: 63, cost: 1162.0\n",
      "Init: initializing centroids\n",
      "Init: initializing clusters\n",
      "Starting iterations...\n",
      "Run 3, iteration: 1/100, moves: 25, cost: 1186.0\n",
      "Init: initializing centroids\n",
      "Init: initializing clusters\n",
      "Starting iterations...\n",
      "Run 4, iteration: 1/100, moves: 351, cost: 1194.0\n",
      "Run 4, iteration: 2/100, moves: 5, cost: 1194.0\n",
      "Init: initializing centroids\n",
      "Init: initializing clusters\n",
      "Starting iterations...\n",
      "Run 5, iteration: 1/100, moves: 11, cost: 1218.0\n",
      "Run 5, iteration: 2/100, moves: 1, cost: 1218.0\n",
      "Best run was number 1\n",
      "3\n"
     ]
    }
   ],
   "source": [
    "dfs = main(ratings, movies, users, 0.5, 20)\n",
    "test = dfs[1]\n",
    "train = dfs[2]\n",
    "print(len(dfs))\n",
    "res = dfs[0]"
   ]
  },
  {
   "cell_type": "code",
   "execution_count": 7,
   "metadata": {},
   "outputs": [
    {
     "data": {
      "text/plain": [
       "6.304669364224531"
      ]
     },
     "execution_count": 7,
     "metadata": {},
     "output_type": "execute_result"
    }
   ],
   "source": [
    "pivotek = ratings.pivot(index='user_id', columns='movie_id', values='rating')\n",
    "pivotek\n",
    "100000/(1682*943) * 100"
   ]
  },
  {
   "cell_type": "code",
   "execution_count": null,
   "metadata": {},
   "outputs": [],
   "source": [
    "\n",
    "pivotek_test = ratings[ratings['user_id'].isin(test.index)]\n",
    "pivotek_test.to_csv = "
   ]
  },
  {
   "cell_type": "code",
   "execution_count": 61,
   "metadata": {},
   "outputs": [
    {
     "name": "stdout",
     "output_type": "stream",
     "text": [
      "Liczba kolumn zawierających same zera: 237\n"
     ]
    }
   ],
   "source": [
    "kolumny_same_zera = (test == 0).all(axis=0)\n",
    "\n",
    "# Policz ilość kolumn zawierających same zera\n",
    "liczba_kolumn_same_zera = kolumny_same_zera.sum()\n",
    "\n",
    "print(\"Liczba kolumn zawierających same zera:\", liczba_kolumn_same_zera)\n"
   ]
  },
  {
   "cell_type": "code",
   "execution_count": 18,
   "metadata": {},
   "outputs": [
    {
     "name": "stderr",
     "output_type": "stream",
     "text": [
      "C:\\Users\\wypyc\\AppData\\Local\\Temp\\ipykernel_8844\\4162523896.py:7: SettingWithCopyWarning: \n",
      "A value is trying to be set on a copy of a slice from a DataFrame.\n",
      "Try using .loc[row_indexer,col_indexer] = value instead\n",
      "\n",
      "See the caveats in the documentation: https://pandas.pydata.org/pandas-docs/stable/user_guide/indexing.html#returning-a-view-versus-a-copy\n",
      "  article_items_cl['cluster'] = 1\n",
      "C:\\Users\\wypyc\\AppData\\Local\\Temp\\ipykernel_8844\\2610122064.py:28: RuntimeWarning: divide by zero encountered in divide\n",
      "  UIP = UP_dash / IP_dash\n",
      "C:\\Users\\wypyc\\AppData\\Local\\Temp\\ipykernel_8844\\2610122064.py:28: RuntimeWarning: invalid value encountered in divide\n",
      "  UIP = UP_dash / IP_dash\n"
     ]
    },
    {
     "ename": "ZeroDivisionError",
     "evalue": "division by zero",
     "output_type": "error",
     "traceback": [
      "\u001b[1;31m---------------------------------------------------------------------------\u001b[0m",
      "\u001b[1;31mZeroDivisionError\u001b[0m                         Traceback (most recent call last)",
      "\u001b[1;32mc:\\Users\\wypyc\\Desktop\\inżynierka\\project\\Cold-Start-Problem-in-RS\\notebooks\\popularity\\popularity_v2.ipynb Cell 24\u001b[0m line \u001b[0;36m1\n\u001b[0;32m     <a href='vscode-notebook-cell:/c%3A/Users/wypyc/Desktop/in%C5%BCynierka/project/Cold-Start-Problem-in-RS/notebooks/popularity/popularity_v2.ipynb#X32sZmlsZQ%3D%3D?line=11'>12</a>\u001b[0m     final_matrix \u001b[39m=\u001b[39m nazwepozniej(matrix_test, matrix_train, \u001b[39m0.5\u001b[39m, \u001b[39m20\u001b[39m, rating_matrix_article, article_users_test_cl1, article_users_cl, article_items_cl)\n\u001b[0;32m     <a href='vscode-notebook-cell:/c%3A/Users/wypyc/Desktop/in%C5%BCynierka/project/Cold-Start-Problem-in-RS/notebooks/popularity/popularity_v2.ipynb#X32sZmlsZQ%3D%3D?line=12'>13</a>\u001b[0m     \u001b[39mreturn\u001b[39;00m(final_matrix)\n\u001b[1;32m---> <a href='vscode-notebook-cell:/c%3A/Users/wypyc/Desktop/in%C5%BCynierka/project/Cold-Start-Problem-in-RS/notebooks/popularity/popularity_v2.ipynb#X32sZmlsZQ%3D%3D?line=13'>14</a>\u001b[0m article \u001b[39m=\u001b[39m main_article()\n",
      "\u001b[1;32mc:\\Users\\wypyc\\Desktop\\inżynierka\\project\\Cold-Start-Problem-in-RS\\notebooks\\popularity\\popularity_v2.ipynb Cell 24\u001b[0m line \u001b[0;36m1\n\u001b[0;32m      <a href='vscode-notebook-cell:/c%3A/Users/wypyc/Desktop/in%C5%BCynierka/project/Cold-Start-Problem-in-RS/notebooks/popularity/popularity_v2.ipynb#X32sZmlsZQ%3D%3D?line=7'>8</a>\u001b[0m article_users_cl \u001b[39m=\u001b[39m pd\u001b[39m.\u001b[39mDataFrame({\u001b[39m'\u001b[39m\u001b[39muser_id\u001b[39m\u001b[39m'\u001b[39m:[\u001b[39m1\u001b[39m,\u001b[39m2\u001b[39m,\u001b[39m3\u001b[39m],\n\u001b[0;32m      <a href='vscode-notebook-cell:/c%3A/Users/wypyc/Desktop/in%C5%BCynierka/project/Cold-Start-Problem-in-RS/notebooks/popularity/popularity_v2.ipynb#X32sZmlsZQ%3D%3D?line=8'>9</a>\u001b[0m                                 \u001b[39m'\u001b[39m\u001b[39mcluster\u001b[39m\u001b[39m'\u001b[39m:[\u001b[39m1\u001b[39m,\u001b[39m1\u001b[39m,\u001b[39m1\u001b[39m]})\n\u001b[0;32m     <a href='vscode-notebook-cell:/c%3A/Users/wypyc/Desktop/in%C5%BCynierka/project/Cold-Start-Problem-in-RS/notebooks/popularity/popularity_v2.ipynb#X32sZmlsZQ%3D%3D?line=9'>10</a>\u001b[0m article_users_test_cl1 \u001b[39m=\u001b[39m pd\u001b[39m.\u001b[39mDataFrame({\u001b[39m'\u001b[39m\u001b[39muser_id\u001b[39m\u001b[39m'\u001b[39m:[\u001b[39m4\u001b[39m],\n\u001b[0;32m     <a href='vscode-notebook-cell:/c%3A/Users/wypyc/Desktop/in%C5%BCynierka/project/Cold-Start-Problem-in-RS/notebooks/popularity/popularity_v2.ipynb#X32sZmlsZQ%3D%3D?line=10'>11</a>\u001b[0m                                 \u001b[39m'\u001b[39m\u001b[39mcluster\u001b[39m\u001b[39m'\u001b[39m:[\u001b[39m1\u001b[39m]})\n\u001b[1;32m---> <a href='vscode-notebook-cell:/c%3A/Users/wypyc/Desktop/in%C5%BCynierka/project/Cold-Start-Problem-in-RS/notebooks/popularity/popularity_v2.ipynb#X32sZmlsZQ%3D%3D?line=11'>12</a>\u001b[0m final_matrix \u001b[39m=\u001b[39m nazwepozniej(matrix_test, matrix_train, \u001b[39m0.5\u001b[39;49m, \u001b[39m20\u001b[39;49m, rating_matrix_article, article_users_test_cl1, article_users_cl, article_items_cl)\n\u001b[0;32m     <a href='vscode-notebook-cell:/c%3A/Users/wypyc/Desktop/in%C5%BCynierka/project/Cold-Start-Problem-in-RS/notebooks/popularity/popularity_v2.ipynb#X32sZmlsZQ%3D%3D?line=12'>13</a>\u001b[0m \u001b[39mreturn\u001b[39;00m(final_matrix)\n",
      "\u001b[1;32mc:\\Users\\wypyc\\Desktop\\inżynierka\\project\\Cold-Start-Problem-in-RS\\notebooks\\popularity\\popularity_v2.ipynb Cell 24\u001b[0m line \u001b[0;36m1\n\u001b[0;32m      <a href='vscode-notebook-cell:/c%3A/Users/wypyc/Desktop/in%C5%BCynierka/project/Cold-Start-Problem-in-RS/notebooks/popularity/popularity_v2.ipynb#X32sZmlsZQ%3D%3D?line=7'>8</a>\u001b[0m merged \u001b[39m=\u001b[39m pd\u001b[39m.\u001b[39mmerge(generated_topN, Hu, on\u001b[39m=\u001b[39m\u001b[39m'\u001b[39m\u001b[39muser_id\u001b[39m\u001b[39m'\u001b[39m, how \u001b[39m=\u001b[39m \u001b[39m'\u001b[39m\u001b[39mleft\u001b[39m\u001b[39m'\u001b[39m)\n\u001b[0;32m      <a href='vscode-notebook-cell:/c%3A/Users/wypyc/Desktop/in%C5%BCynierka/project/Cold-Start-Problem-in-RS/notebooks/popularity/popularity_v2.ipynb#X32sZmlsZQ%3D%3D?line=8'>9</a>\u001b[0m merged \u001b[39m=\u001b[39m merged\u001b[39m.\u001b[39mapply(\u001b[39mlambda\u001b[39;00m row:  NDCG(row,N),axis \u001b[39m=\u001b[39m \u001b[39m1\u001b[39m)\n\u001b[1;32m---> <a href='vscode-notebook-cell:/c%3A/Users/wypyc/Desktop/in%C5%BCynierka/project/Cold-Start-Problem-in-RS/notebooks/popularity/popularity_v2.ipynb#X32sZmlsZQ%3D%3D?line=9'>10</a>\u001b[0m merged \u001b[39m=\u001b[39m merged\u001b[39m.\u001b[39;49mapply(\u001b[39mlambda\u001b[39;49;00m row:  Precision_Recall(row,N),axis \u001b[39m=\u001b[39;49m \u001b[39m1\u001b[39;49m)\n\u001b[0;32m     <a href='vscode-notebook-cell:/c%3A/Users/wypyc/Desktop/in%C5%BCynierka/project/Cold-Start-Problem-in-RS/notebooks/popularity/popularity_v2.ipynb#X32sZmlsZQ%3D%3D?line=10'>11</a>\u001b[0m \u001b[39mreturn\u001b[39;00m(merged)\n",
      "File \u001b[1;32mc:\\Users\\wypyc\\Desktop\\inżynierka\\project\\Cold-Start-Problem-in-RS\\.venv\\Lib\\site-packages\\pandas\\core\\frame.py:10034\u001b[0m, in \u001b[0;36mDataFrame.apply\u001b[1;34m(self, func, axis, raw, result_type, args, by_row, **kwargs)\u001b[0m\n\u001b[0;32m  10022\u001b[0m \u001b[39mfrom\u001b[39;00m \u001b[39mpandas\u001b[39;00m\u001b[39m.\u001b[39;00m\u001b[39mcore\u001b[39;00m\u001b[39m.\u001b[39;00m\u001b[39mapply\u001b[39;00m \u001b[39mimport\u001b[39;00m frame_apply\n\u001b[0;32m  10024\u001b[0m op \u001b[39m=\u001b[39m frame_apply(\n\u001b[0;32m  10025\u001b[0m     \u001b[39mself\u001b[39m,\n\u001b[0;32m  10026\u001b[0m     func\u001b[39m=\u001b[39mfunc,\n\u001b[1;32m   (...)\u001b[0m\n\u001b[0;32m  10032\u001b[0m     kwargs\u001b[39m=\u001b[39mkwargs,\n\u001b[0;32m  10033\u001b[0m )\n\u001b[1;32m> 10034\u001b[0m \u001b[39mreturn\u001b[39;00m op\u001b[39m.\u001b[39;49mapply()\u001b[39m.\u001b[39m__finalize__(\u001b[39mself\u001b[39m, method\u001b[39m=\u001b[39m\u001b[39m\"\u001b[39m\u001b[39mapply\u001b[39m\u001b[39m\"\u001b[39m)\n",
      "File \u001b[1;32mc:\\Users\\wypyc\\Desktop\\inżynierka\\project\\Cold-Start-Problem-in-RS\\.venv\\Lib\\site-packages\\pandas\\core\\apply.py:837\u001b[0m, in \u001b[0;36mFrameApply.apply\u001b[1;34m(self)\u001b[0m\n\u001b[0;32m    834\u001b[0m \u001b[39melif\u001b[39;00m \u001b[39mself\u001b[39m\u001b[39m.\u001b[39mraw:\n\u001b[0;32m    835\u001b[0m     \u001b[39mreturn\u001b[39;00m \u001b[39mself\u001b[39m\u001b[39m.\u001b[39mapply_raw()\n\u001b[1;32m--> 837\u001b[0m \u001b[39mreturn\u001b[39;00m \u001b[39mself\u001b[39;49m\u001b[39m.\u001b[39;49mapply_standard()\n",
      "File \u001b[1;32mc:\\Users\\wypyc\\Desktop\\inżynierka\\project\\Cold-Start-Problem-in-RS\\.venv\\Lib\\site-packages\\pandas\\core\\apply.py:963\u001b[0m, in \u001b[0;36mFrameApply.apply_standard\u001b[1;34m(self)\u001b[0m\n\u001b[0;32m    962\u001b[0m \u001b[39mdef\u001b[39;00m \u001b[39mapply_standard\u001b[39m(\u001b[39mself\u001b[39m):\n\u001b[1;32m--> 963\u001b[0m     results, res_index \u001b[39m=\u001b[39m \u001b[39mself\u001b[39;49m\u001b[39m.\u001b[39;49mapply_series_generator()\n\u001b[0;32m    965\u001b[0m     \u001b[39m# wrap results\u001b[39;00m\n\u001b[0;32m    966\u001b[0m     \u001b[39mreturn\u001b[39;00m \u001b[39mself\u001b[39m\u001b[39m.\u001b[39mwrap_results(results, res_index)\n",
      "File \u001b[1;32mc:\\Users\\wypyc\\Desktop\\inżynierka\\project\\Cold-Start-Problem-in-RS\\.venv\\Lib\\site-packages\\pandas\\core\\apply.py:979\u001b[0m, in \u001b[0;36mFrameApply.apply_series_generator\u001b[1;34m(self)\u001b[0m\n\u001b[0;32m    976\u001b[0m \u001b[39mwith\u001b[39;00m option_context(\u001b[39m\"\u001b[39m\u001b[39mmode.chained_assignment\u001b[39m\u001b[39m\"\u001b[39m, \u001b[39mNone\u001b[39;00m):\n\u001b[0;32m    977\u001b[0m     \u001b[39mfor\u001b[39;00m i, v \u001b[39min\u001b[39;00m \u001b[39menumerate\u001b[39m(series_gen):\n\u001b[0;32m    978\u001b[0m         \u001b[39m# ignore SettingWithCopy here in case the user mutates\u001b[39;00m\n\u001b[1;32m--> 979\u001b[0m         results[i] \u001b[39m=\u001b[39m \u001b[39mself\u001b[39;49m\u001b[39m.\u001b[39;49mfunc(v, \u001b[39m*\u001b[39;49m\u001b[39mself\u001b[39;49m\u001b[39m.\u001b[39;49margs, \u001b[39m*\u001b[39;49m\u001b[39m*\u001b[39;49m\u001b[39mself\u001b[39;49m\u001b[39m.\u001b[39;49mkwargs)\n\u001b[0;32m    980\u001b[0m         \u001b[39mif\u001b[39;00m \u001b[39misinstance\u001b[39m(results[i], ABCSeries):\n\u001b[0;32m    981\u001b[0m             \u001b[39m# If we have a view on v, we need to make a copy because\u001b[39;00m\n\u001b[0;32m    982\u001b[0m             \u001b[39m#  series_generator will swap out the underlying data\u001b[39;00m\n\u001b[0;32m    983\u001b[0m             results[i] \u001b[39m=\u001b[39m results[i]\u001b[39m.\u001b[39mcopy(deep\u001b[39m=\u001b[39m\u001b[39mFalse\u001b[39;00m)\n",
      "\u001b[1;32mc:\\Users\\wypyc\\Desktop\\inżynierka\\project\\Cold-Start-Problem-in-RS\\notebooks\\popularity\\popularity_v2.ipynb Cell 24\u001b[0m line \u001b[0;36m1\n\u001b[0;32m      <a href='vscode-notebook-cell:/c%3A/Users/wypyc/Desktop/in%C5%BCynierka/project/Cold-Start-Problem-in-RS/notebooks/popularity/popularity_v2.ipynb#X32sZmlsZQ%3D%3D?line=7'>8</a>\u001b[0m merged \u001b[39m=\u001b[39m pd\u001b[39m.\u001b[39mmerge(generated_topN, Hu, on\u001b[39m=\u001b[39m\u001b[39m'\u001b[39m\u001b[39muser_id\u001b[39m\u001b[39m'\u001b[39m, how \u001b[39m=\u001b[39m \u001b[39m'\u001b[39m\u001b[39mleft\u001b[39m\u001b[39m'\u001b[39m)\n\u001b[0;32m      <a href='vscode-notebook-cell:/c%3A/Users/wypyc/Desktop/in%C5%BCynierka/project/Cold-Start-Problem-in-RS/notebooks/popularity/popularity_v2.ipynb#X32sZmlsZQ%3D%3D?line=8'>9</a>\u001b[0m merged \u001b[39m=\u001b[39m merged\u001b[39m.\u001b[39mapply(\u001b[39mlambda\u001b[39;00m row:  NDCG(row,N),axis \u001b[39m=\u001b[39m \u001b[39m1\u001b[39m)\n\u001b[1;32m---> <a href='vscode-notebook-cell:/c%3A/Users/wypyc/Desktop/in%C5%BCynierka/project/Cold-Start-Problem-in-RS/notebooks/popularity/popularity_v2.ipynb#X32sZmlsZQ%3D%3D?line=9'>10</a>\u001b[0m merged \u001b[39m=\u001b[39m merged\u001b[39m.\u001b[39mapply(\u001b[39mlambda\u001b[39;00m row:  Precision_Recall(row,N),axis \u001b[39m=\u001b[39m \u001b[39m1\u001b[39m)\n\u001b[0;32m     <a href='vscode-notebook-cell:/c%3A/Users/wypyc/Desktop/in%C5%BCynierka/project/Cold-Start-Problem-in-RS/notebooks/popularity/popularity_v2.ipynb#X32sZmlsZQ%3D%3D?line=10'>11</a>\u001b[0m \u001b[39mreturn\u001b[39;00m(merged)\n",
      "\u001b[1;32mc:\\Users\\wypyc\\Desktop\\inżynierka\\project\\Cold-Start-Problem-in-RS\\notebooks\\popularity\\popularity_v2.ipynb Cell 24\u001b[0m line \u001b[0;36m9\n\u001b[0;32m      <a href='vscode-notebook-cell:/c%3A/Users/wypyc/Desktop/in%C5%BCynierka/project/Cold-Start-Problem-in-RS/notebooks/popularity/popularity_v2.ipynb#X32sZmlsZQ%3D%3D?line=5'>6</a>\u001b[0m Precision \u001b[39m=\u001b[39m intersection \u001b[39m*\u001b[39m \u001b[39m100\u001b[39m \u001b[39m/\u001b[39m N\n\u001b[0;32m      <a href='vscode-notebook-cell:/c%3A/Users/wypyc/Desktop/in%C5%BCynierka/project/Cold-Start-Problem-in-RS/notebooks/popularity/popularity_v2.ipynb#X32sZmlsZQ%3D%3D?line=6'>7</a>\u001b[0m row[\u001b[39m'\u001b[39m\u001b[39mPrecision\u001b[39m\u001b[39m'\u001b[39m] \u001b[39m=\u001b[39m Precision\n\u001b[1;32m----> <a href='vscode-notebook-cell:/c%3A/Users/wypyc/Desktop/in%C5%BCynierka/project/Cold-Start-Problem-in-RS/notebooks/popularity/popularity_v2.ipynb#X32sZmlsZQ%3D%3D?line=8'>9</a>\u001b[0m row[\u001b[39m'\u001b[39m\u001b[39mRecall\u001b[39m\u001b[39m'\u001b[39m] \u001b[39m=\u001b[39m intersection \u001b[39m*\u001b[39;49m \u001b[39m100\u001b[39;49m \u001b[39m/\u001b[39;49m \u001b[39mlen\u001b[39;49m(from_test_set)\n\u001b[0;32m     <a href='vscode-notebook-cell:/c%3A/Users/wypyc/Desktop/in%C5%BCynierka/project/Cold-Start-Problem-in-RS/notebooks/popularity/popularity_v2.ipynb#X32sZmlsZQ%3D%3D?line=9'>10</a>\u001b[0m \u001b[39mreturn\u001b[39;00m row\n",
      "\u001b[1;31mZeroDivisionError\u001b[0m: division by zero"
     ]
    }
   ],
   "source": [
    "def main_article():\n",
    "    article_data = pd.read_csv(Path('..','..','res','data','article0.csv'))\n",
    "    rating_matrix_article = article_data.pivot(index = 'user_id', columns='movie_id', values='rating')\n",
    "    matrix_train = rating_matrix_article[rating_matrix_article.index.isin([1,2,3])]\n",
    "    matrix_test = rating_matrix_article[rating_matrix_article.index.isin([4])]\n",
    "    article_items_cl = article_data[article_data['user_id'].isin([1,2,3])]\n",
    "    article_items_cl['cluster'] = 1\n",
    "    article_users_cl = pd.DataFrame({'user_id':[1,2,3],\n",
    "                                    'cluster':[1,1,1]})\n",
    "    article_users_test_cl1 = pd.DataFrame({'user_id':[4],\n",
    "                                    'cluster':[1]})\n",
    "    final_matrix = nazwepozniej(matrix_test, matrix_train, 0.5, 20, rating_matrix_article, article_users_test_cl1, article_users_cl, article_items_cl)\n",
    "    return(final_matrix)\n",
    "article = main_article()"
   ]
  },
  {
   "cell_type": "markdown",
   "metadata": {},
   "source": [
    "### do uruchomienia, jeśli chce się na sztywno clustry przypisać"
   ]
  },
  {
   "cell_type": "code",
   "execution_count": 19,
   "metadata": {},
   "outputs": [
    {
     "ename": "NameError",
     "evalue": "name 'users_test' is not defined",
     "output_type": "error",
     "traceback": [
      "\u001b[1;31m---------------------------------------------------------------------------\u001b[0m",
      "\u001b[1;31mNameError\u001b[0m                                 Traceback (most recent call last)",
      "\u001b[1;32mc:\\Users\\wypyc\\Desktop\\inżynierka\\project\\Cold-Start-Problem-in-RS\\notebooks\\popularity\\jeden_cluster.ipynb Cell 17\u001b[0m line \u001b[0;36m1\n\u001b[1;32m----> <a href='vscode-notebook-cell:/c%3A/Users/wypyc/Desktop/in%C5%BCynierka/project/Cold-Start-Problem-in-RS/notebooks/popularity/jeden_cluster.ipynb#W5sZmlsZQ%3D%3D?line=0'>1</a>\u001b[0m us_te_cl \u001b[39m=\u001b[39m users_test\u001b[39m.\u001b[39mcopy()\n\u001b[0;32m      <a href='vscode-notebook-cell:/c%3A/Users/wypyc/Desktop/in%C5%BCynierka/project/Cold-Start-Problem-in-RS/notebooks/popularity/jeden_cluster.ipynb#W5sZmlsZQ%3D%3D?line=1'>2</a>\u001b[0m us_te_cl[\u001b[39m'\u001b[39m\u001b[39mcluster\u001b[39m\u001b[39m'\u001b[39m] \u001b[39m=\u001b[39m \u001b[39m1\u001b[39m\n\u001b[0;32m      <a href='vscode-notebook-cell:/c%3A/Users/wypyc/Desktop/in%C5%BCynierka/project/Cold-Start-Problem-in-RS/notebooks/popularity/jeden_cluster.ipynb#W5sZmlsZQ%3D%3D?line=3'>4</a>\u001b[0m us_tr_cl \u001b[39m=\u001b[39m users_train\u001b[39m.\u001b[39mcopy()\n",
      "\u001b[1;31mNameError\u001b[0m: name 'users_test' is not defined"
     ]
    }
   ],
   "source": [
    "us_te_cl = users_test.copy()\n",
    "us_te_cl['cluster'] = 1\n",
    "\n",
    "us_tr_cl = users_train.copy()\n",
    "us_tr_cl['cluster'] = 1\n",
    "\n",
    "it_cl = items_train.copy()\n",
    "it_cl['cluster'] = 1\n",
    "\n",
    "\"\"\"it_cl = article_items_cl\n",
    "    it_cl\"\"\""
   ]
  },
  {
   "cell_type": "code",
   "execution_count": 266,
   "metadata": {},
   "outputs": [
    {
     "name": "stderr",
     "output_type": "stream",
     "text": [
      "C:\\Users\\wypyc\\AppData\\Local\\Temp\\ipykernel_17572\\1047447764.py:7: SettingWithCopyWarning: \n",
      "A value is trying to be set on a copy of a slice from a DataFrame.\n",
      "Try using .loc[row_indexer,col_indexer] = value instead\n",
      "\n",
      "See the caveats in the documentation: https://pandas.pydata.org/pandas-docs/stable/user_guide/indexing.html#returning-a-view-versus-a-copy\n",
      "  article_items_cl['cluster'] = 1\n"
     ]
    }
   ],
   "source": [
    "article_data = pd.read_csv(Path('..','..','res','data','article.csv'))\n",
    "rating_matrix_article = article_data.pivot(index = 'user_id', columns='movie_id', values='rating')\n",
    "matrix_train = rating_matrix_article[rating_matrix_article.index.isin([1,2,3])]\n",
    "matrix_test = rating_matrix_article[rating_matrix_article.index.isin([4])]\n",
    "train_numpy = matrix_train.to_numpy()\n",
    "article_items_cl = article_data[article_data['user_id'].isin([1,2,3])]\n",
    "article_items_cl['cluster'] = 1\n",
    "article_users_cl = pd.DataFrame({'user_id':[1,2,3],\n",
    "                                'cluster':[1,1,1]})\n",
    "article_users_test_cl1 = pd.DataFrame({'user_id':[4],\n",
    "                                'cluster':[1]})"
   ]
  },
  {
   "cell_type": "code",
   "execution_count": null,
   "metadata": {},
   "outputs": [],
   "source": []
  }
 ],
 "metadata": {
  "kernelspec": {
   "display_name": ".venv",
   "language": "python",
   "name": "python3"
  },
  "language_info": {
   "codemirror_mode": {
    "name": "ipython",
    "version": 3
   },
   "file_extension": ".py",
   "mimetype": "text/x-python",
   "name": "python",
   "nbconvert_exporter": "python",
   "pygments_lexer": "ipython3",
   "version": "3.11.0"
  }
 },
 "nbformat": 4,
 "nbformat_minor": 2
}
